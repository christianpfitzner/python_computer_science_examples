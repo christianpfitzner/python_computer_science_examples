{
  "nbformat": 4,
  "nbformat_minor": 0,
  "metadata": {
    "colab": {
      "provenance": [],
      "authorship_tag": "ABX9TyPtT94aZ7Ev6WRZzY7Ln/Bo",
      "include_colab_link": true
    },
    "kernelspec": {
      "name": "python3",
      "display_name": "Python 3"
    },
    "language_info": {
      "name": "python"
    }
  },
  "cells": [
    {
      "cell_type": "markdown",
      "metadata": {
        "id": "view-in-github",
        "colab_type": "text"
      },
      "source": [
        "<a href=\"https://colab.research.google.com/github/christianpfitzner/python_computer_science_examples/blob/master/10_External_libraries.ipynb\" target=\"_parent\"><img src=\"https://colab.research.google.com/assets/colab-badge.svg\" alt=\"Open In Colab\"/></a>"
      ]
    },
    {
      "cell_type": "markdown",
      "source": [
        "# External Libraries"
      ],
      "metadata": {
        "id": "y104NwWnIt4I"
      }
    },
    {
      "cell_type": "markdown",
      "source": [
        "## Numpy"
      ],
      "metadata": {
        "id": "5WlTxPrUI0vP"
      }
    },
    {
      "cell_type": "code",
      "source": [
        "import numpy as np\n",
        "a = np.array([1, 2, 3, 4, 5])\n",
        "print(a)       # Output: \\{1, 2, 3, 4, 5\\}"
      ],
      "metadata": {
        "colab": {
          "base_uri": "https://localhost:8080/"
        },
        "id": "D7voIJBJI2L3",
        "outputId": "0e681a07-02e3-49b3-cc21-4808462b3408"
      },
      "execution_count": null,
      "outputs": [
        {
          "output_type": "stream",
          "name": "stdout",
          "text": [
            "[1 2 3 4 5]\n"
          ]
        }
      ]
    },
    {
      "cell_type": "code",
      "source": [
        "import numpy as np\n",
        "a = np.zeros(5)\n",
        "print(a)       # Output: \\{0, 0, 0, 0, 0\\}\n",
        "b = np.ones(5)\n",
        "print(b)       # Output: \\{1, 1, 1, 1, 1\\}"
      ],
      "metadata": {
        "colab": {
          "base_uri": "https://localhost:8080/"
        },
        "id": "Cf9fC_eLI6Y5",
        "outputId": "6983c73e-9363-468d-d692-35009db37137"
      },
      "execution_count": null,
      "outputs": [
        {
          "output_type": "stream",
          "name": "stdout",
          "text": [
            "[0. 0. 0. 0. 0.]\n",
            "[1. 1. 1. 1. 1.]\n"
          ]
        }
      ]
    },
    {
      "cell_type": "code",
      "source": [
        "import numpy as np\n",
        "a = np.empty(3)\n",
        "print(a)       # Output: \\{4.94065646e-324, 3.87491056e-297, 3.37491056e-292, 0, 0\\}"
      ],
      "metadata": {
        "colab": {
          "base_uri": "https://localhost:8080/"
        },
        "id": "nq3Q8HY7I_e4",
        "outputId": "b4205b69-2bbe-4e17-daae-28ef2e47d448"
      },
      "execution_count": null,
      "outputs": [
        {
          "output_type": "stream",
          "name": "stdout",
          "text": [
            "[0.75 0.75 0.  ]\n"
          ]
        }
      ]
    },
    {
      "cell_type": "code",
      "source": [
        "import numpy as np\n",
        "a = np.array([1, 2, 3, 4, 5])\n",
        "print(a.ndim)       # Output: 1\n",
        "print(a.shape)      # Output: (5,)\n",
        "print(a.size)       # Output: 5\n",
        "print(a.dtype)      # Output: int32\n",
        "print(a.itemsize)   # Output: 4\n",
        "print(a.data)       # Output: <memory at 0x0000020B2B2F0F48>"
      ],
      "metadata": {
        "colab": {
          "base_uri": "https://localhost:8080/"
        },
        "id": "bFg3jM72JGQL",
        "outputId": "02a945ac-24b5-406c-c745-d82f31d28f88"
      },
      "execution_count": null,
      "outputs": [
        {
          "output_type": "stream",
          "name": "stdout",
          "text": [
            "1\n",
            "(5,)\n",
            "5\n",
            "int64\n",
            "8\n",
            "<memory at 0x7fd11d2677a0>\n"
          ]
        }
      ]
    },
    {
      "cell_type": "code",
      "source": [
        "import numpy as np\n",
        "a = np.matrix([[1, 2, 3], [4, 5, 6]])\n",
        "print(a)       # Output:[[1 2 3]\n",
        "               #         [4 5 6]]"
      ],
      "metadata": {
        "colab": {
          "base_uri": "https://localhost:8080/"
        },
        "id": "4GInPJg0JO2H",
        "outputId": "928c2138-f7e6-42b3-dc8b-dcb3276757a6"
      },
      "execution_count": null,
      "outputs": [
        {
          "output_type": "stream",
          "name": "stdout",
          "text": [
            "[[1 2 3]\n",
            " [4 5 6]]\n"
          ]
        }
      ]
    },
    {
      "cell_type": "code",
      "source": [
        "import numpy as np\n",
        "mat = np.zeros((2, 3)) \n",
        "mat = np.ones((2, 3)) \n",
        "mat = np.empty((2, 3))"
      ],
      "metadata": {
        "id": "coRYnJZPJV6p"
      },
      "execution_count": null,
      "outputs": []
    },
    {
      "cell_type": "code",
      "source": [
        "import numpy as np\n",
        "a = np.array([1, 2, 3, 4, 5])\n",
        "np.savetxt(\"data.txt\", a)"
      ],
      "metadata": {
        "id": "GE7n6IcrJdEH"
      },
      "execution_count": null,
      "outputs": []
    },
    {
      "cell_type": "code",
      "source": [
        "import numpy as np\n",
        "data = np.loadtxt('data.txt')\n",
        "print(data)"
      ],
      "metadata": {
        "colab": {
          "base_uri": "https://localhost:8080/"
        },
        "id": "IBSVWXV0Jikz",
        "outputId": "6abc5810-764d-47e6-c858-7958aee73c0a"
      },
      "execution_count": null,
      "outputs": [
        {
          "output_type": "stream",
          "name": "stdout",
          "text": [
            "[1. 2. 3. 4. 5.]\n"
          ]
        }
      ]
    },
    {
      "cell_type": "markdown",
      "source": [
        "## Matplotlib"
      ],
      "metadata": {
        "id": "WEmGOO5KJnpB"
      }
    },
    {
      "cell_type": "code",
      "source": [
        "import matplotlib.pyplot as plt\n"
      ],
      "metadata": {
        "id": "YSuO8h5yJykE"
      },
      "execution_count": null,
      "outputs": []
    },
    {
      "cell_type": "code",
      "source": [
        "xpoints = np.array([0, 6])\n",
        "ypoints = np.array([0, 250])\n",
        "\n",
        "plt.plot(xpoints, ypoints)\n",
        "plt.show()"
      ],
      "metadata": {
        "colab": {
          "base_uri": "https://localhost:8080/",
          "height": 265
        },
        "id": "6uq0wGx-JuIF",
        "outputId": "2f446d40-2f04-4017-8d7f-4db1538e403e"
      },
      "execution_count": null,
      "outputs": [
        {
          "output_type": "display_data",
          "data": {
            "text/plain": [
              "<Figure size 432x288 with 1 Axes>"
            ],
            "image/png": "[encoded data removed]"
          },
          "metadata": {
            "needs_background": "light"
          }
        }
      ]
    },
    {
      "cell_type": "code",
      "source": [
        "x = np.array([1, 8])\n",
        "y = np.array([3, 10])\n",
        "\n",
        "plt.plot(x, y, 'o')\n",
        "plt.show()"
      ],
      "metadata": {
        "colab": {
          "base_uri": "https://localhost:8080/",
          "height": 265
        },
        "id": "1MifMxEKJwrG",
        "outputId": "35524d79-a288-4dfe-b93f-a0a42a1624ca"
      },
      "execution_count": null,
      "outputs": [
        {
          "output_type": "display_data",
          "data": {
            "text/plain": [
              "<Figure size 432x288 with 1 Axes>"
            ],
            "image/png": "[encoded data removed]"
          },
          "metadata": {
            "needs_background": "light"
          }
        }
      ]
    },
    {
      "cell_type": "code",
      "source": [
        "   y1 = np.array([3, 8, 1, 10])\n",
        "   y2 = np.array([6, 2, 7, 11])\n",
        "   plt.plot(y1)\n",
        "   plt.plot(y2)\n",
        "   plt.show()"
      ],
      "metadata": {
        "colab": {
          "base_uri": "https://localhost:8080/",
          "height": 265
        },
        "id": "9zxmyGnlJ9Fp",
        "outputId": "60d52c1f-3227-45a5-c4c2-9591e95f4666"
      },
      "execution_count": null,
      "outputs": [
        {
          "output_type": "display_data",
          "data": {
            "text/plain": [
              "<Figure size 432x288 with 1 Axes>"
            ],
            "image/png": "[encoded data removed]"
          },
          "metadata": {
            "needs_background": "light"
          }
        }
      ]
    },
    {
      "cell_type": "code",
      "source": [
        "   x1 = np.array([0, 1, 2, 3])\n",
        "   y1 = np.array([3, 8, 1, 10])\n",
        "   x2 = np.array([0, 1, 2, 3])\n",
        "   y2 = np.array([6, 2, 7, 11])\n",
        "   plt.plot(x1, y1, x2, y2)\n",
        "   plt.show()"
      ],
      "metadata": {
        "colab": {
          "base_uri": "https://localhost:8080/",
          "height": 265
        },
        "id": "wHNd7HF8KCnc",
        "outputId": "1ed44288-1237-432a-d7bb-95a7b7b1f65f"
      },
      "execution_count": null,
      "outputs": [
        {
          "output_type": "display_data",
          "data": {
            "text/plain": [
              "<Figure size 432x288 with 1 Axes>"
            ],
            "image/png": "[encoded data removed]"
          },
          "metadata": {
            "needs_background": "light"
          }
        }
      ]
    },
    {
      "cell_type": "code",
      "source": [
        "x = np.array([80, 85, 90, 95, 100, 105, 110, 115, 120, 125])\n",
        "y = np.array([240, 250, 260, 270, 280, 290, 300, 310, 322, 330])\n",
        "plt.plot(x, y)\n",
        "plt.xlabel(\"Average Pulse\")\n",
        "plt.ylabel(\"Calorie Burnage\")\n",
        "plt.show()"
      ],
      "metadata": {
        "colab": {
          "base_uri": "https://localhost:8080/",
          "height": 279
        },
        "id": "NTp_LWXhKLHR",
        "outputId": "edbf0e20-2311-4ecc-fc7f-f9d3b4c54ac7"
      },
      "execution_count": null,
      "outputs": [
        {
          "output_type": "display_data",
          "data": {
            "text/plain": [
              "<Figure size 432x288 with 1 Axes>"
            ],
            "image/png": "[encoded data removed]"
          },
          "metadata": {
            "needs_background": "light"
          }
        }
      ]
    },
    {
      "cell_type": "code",
      "source": [
        "x = np.array([\"A\", \"B\", \"C\", \"D\"])\n",
        "y = np.array([3, 8, 1, 10])\n",
        "\n",
        "plt.bar(x,y)\n",
        "plt.show()"
      ],
      "metadata": {
        "colab": {
          "base_uri": "https://localhost:8080/",
          "height": 265
        },
        "id": "1MOk6BXoKQi2",
        "outputId": "4c48283e-965d-44ab-ed75-eb28b28bc12c"
      },
      "execution_count": null,
      "outputs": [
        {
          "output_type": "display_data",
          "data": {
            "text/plain": [
              "<Figure size 432x288 with 1 Axes>"
            ],
            "image/png": "[encoded data removed]"
          },
          "metadata": {
            "needs_background": "light"
          }
        }
      ]
    },
    {
      "cell_type": "code",
      "source": [
        "y = np.array([35, 25, 25, 15])\n",
        "plt.pie(y)\n",
        "plt.show() "
      ],
      "metadata": {
        "colab": {
          "base_uri": "https://localhost:8080/",
          "height": 248
        },
        "id": "6nuSqJBzKiFY",
        "outputId": "dc30aa6d-dd71-4184-eed5-d0b799b33b92"
      },
      "execution_count": null,
      "outputs": [
        {
          "output_type": "display_data",
          "data": {
            "text/plain": [
              "<Figure size 432x288 with 1 Axes>"
            ],
            "image/png": "[encoded data removed]"
          },
          "metadata": {}
        }
      ]
    },
    {
      "cell_type": "code",
      "source": [
        "x = np.random.normal(170, 10, 250)\n",
        "plt.hist(x)\n",
        "plt.show()   "
      ],
      "metadata": {
        "colab": {
          "base_uri": "https://localhost:8080/",
          "height": 265
        },
        "id": "8jkfq2ZsKmGX",
        "outputId": "aadc046d-00b4-4fe6-fb89-43d3c55572bc"
      },
      "execution_count": null,
      "outputs": [
        {
          "output_type": "display_data",
          "data": {
            "text/plain": [
              "<Figure size 432x288 with 1 Axes>"
            ],
            "image/png": "[encoded data removed]"
          },
          "metadata": {
            "needs_background": "light"
          }
        }
      ]
    },
    {
      "cell_type": "markdown",
      "source": [
        "# Exercise"
      ],
      "metadata": {
        "id": "PEi2t_QLLOgj"
      }
    },
    {
      "cell_type": "markdown",
      "source": [
        "## Integer Array\n",
        "\n",
        "Create a 4 x 2 integer array and print its values. You can initialize the values in the matrix with random numbers or also zero. \n",
        "\n",
        "The result should look similar to the following: \n",
        "\n",
        "```\n",
        "Printing Array\n",
        "\n",
        "[[1234e 31655]\n",
        " [32579     0]\n",
        " [49248   462]\n",
        " [    0     0]]\n",
        "\n",
        "Printing NumPy array Attributes\n",
        "\n",
        "Array Shape is:  (4, 2)\n",
        "Array dimensions are  2\n",
        "```"
      ],
      "metadata": {
        "id": "klweEF9AeE5r"
      }
    },
    {
      "cell_type": "code",
      "source": [
        "## your solution here\n",
        "#\n",
        "#\n",
        "#\n",
        "#\n",
        "#\n",
        "#\n",
        "#\n",
        "#"
      ],
      "metadata": {
        "id": "wricivUEeihI"
      },
      "execution_count": 1,
      "outputs": []
    },
    {
      "cell_type": "code",
      "source": [],
      "metadata": {
        "id": "-CVVmZD_ek5d"
      },
      "execution_count": null,
      "outputs": []
    }
  ]
}