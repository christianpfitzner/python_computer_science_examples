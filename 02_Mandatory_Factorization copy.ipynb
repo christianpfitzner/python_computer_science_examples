{
 "cells": [
  {
   "cell_type": "markdown",
   "metadata": {},
   "source": [
    "# Madatory 2: Factorization\n"
   ]
  },
  {
   "cell_type": "markdown",
   "metadata": {},
   "source": [
    "<br> </br>\n",
    "\n",
    "\n",
    "---\n",
    "\n",
    "## Requirements\n",
    "* Basic arithmetic opterations\n",
    "* Variables\n",
    "* If-else statements\n",
    "* Loops\n",
    "\n",
    "\n",
    "<br> </br>\n",
    "\n",
    "\n",
    "---\n",
    "\n",
    "## Description\n",
    "\n",
    "\n",
    "\n",
    "\n",
    "\n"
   ]
  },
  {
   "cell_type": "markdown",
   "metadata": {},
   "source": []
  },
  {
   "cell_type": "markdown",
   "metadata": {},
   "source": [
    "---\n",
    "\n",
    "## Grading Scheme\n",
    "\n",
    "You need 80 Percent of the points to pass this mandatory exercise. There are 100 points in total. The can receive credits for the following reasons: \n",
    "\n",
    "* **10 Points**: The program asks the user for the numerator and denominator of two fractions.\n",
    "* **10 Points**: The program offers the basic arithmetics, e.g. addition, subtraction, multiplication and division.\n",
    "* **10 Points**: The program prints an error message in case of wrong input.\n",
    "* **20 Points**: The program gives the result as a fraction in the format `numerator/denominator`.\n",
    "* **20 Points**: The program proints the result as decimal number. \n",
    "* **20 Points**: You program is logically structured and you used meaningfull variable names. \n",
    "* **10 Points**: You comment parts of your code. \n",
    "\n",
    "\n",
    "<br></br>\n",
    "**Please note:** You will fail in the following events: \n",
    "* Copying parts of the code from someone else\n",
    "* Submitting your solution late (the date will be announced in moodle). \n",
    "\n",
    "This means you are **not allowed to write the exam**, and therefore pass this class. "
   ]
  },
  {
   "cell_type": "markdown",
   "metadata": {},
   "source": [
    "<br> </br>\n",
    "\n",
    "\n",
    "---\n",
    "\n",
    "\n",
    "## Your Solution"
   ]
  }
 ],
 "metadata": {
  "kernelspec": {
   "display_name": "Python 3.9.6 64-bit",
   "language": "python",
   "name": "python3"
  },
  "language_info": {
   "codemirror_mode": {
    "name": "ipython",
    "version": 3
   },
   "file_extension": ".py",
   "mimetype": "text/x-python",
   "name": "python",
   "nbconvert_exporter": "python",
   "pygments_lexer": "ipython3",
   "version": "3.9.6"
  },
  "orig_nbformat": 4,
  "vscode": {
   "interpreter": {
    "hash": "4cf03a2963743c57c72d8ba6632c2081b501cae1666301abc782d21392c9048f"
   }
  }
 },
 "nbformat": 4,
 "nbformat_minor": 2
}
