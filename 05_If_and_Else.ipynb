{
  "nbformat": 4,
  "nbformat_minor": 0,
  "metadata": {
    "colab": {
      "provenance": [],
      "collapsed_sections": [],
      "authorship_tag": "ABX9TyN90BEgzWjxe6QEAzT0/v/v",
      "include_colab_link": true
    },
    "kernelspec": {
      "name": "python3",
      "display_name": "Python 3"
    },
    "language_info": {
      "name": "python"
    }
  },
  "cells": [
    {
      "cell_type": "markdown",
      "metadata": {
        "id": "view-in-github",
        "colab_type": "text"
      },
      "source": [
        "<a href=\"https://colab.research.google.com/github/christianpfitzner/python_computer_science_examples/blob/master/05_If_and_Else.ipynb\" target=\"_parent\"><img src=\"https://colab.research.google.com/assets/colab-badge.svg\" alt=\"Open In Colab\"/></a>"
      ]
    },
    {
      "cell_type": "markdown",
      "source": [
        "## IF"
      ],
      "metadata": {
        "id": "brChQxpIrs1K"
      }
    },
    {
      "cell_type": "code",
      "execution_count": 2,
      "metadata": {
        "colab": {
          "base_uri": "https://localhost:8080/"
        },
        "id": "OCxhME1arp1Y",
        "outputId": "4306dee5-31ab-46df-955d-0203cfc78be3"
      },
      "outputs": [
        {
          "output_type": "stream",
          "name": "stdout",
          "text": [
            "5\n"
          ]
        }
      ],
      "source": [
        "value = -5\n",
        "if(value < 0):\n",
        "   value = value * -1      # 5*(-1)\n",
        "print(value)"
      ]
    },
    {
      "cell_type": "code",
      "source": [
        "a = 22\n",
        "if(a % 2 == 0): \n",
        "      print(\"{} is an even number\".format(a))\n",
        "else:\n",
        "   print(\"{} is an odd number\".format(a))"
      ],
      "metadata": {
        "colab": {
          "base_uri": "https://localhost:8080/"
        },
        "id": "GSRz475irx4d",
        "outputId": "b501999a-cb59-41aa-d785-5a3399261d00"
      },
      "execution_count": 3,
      "outputs": [
        {
          "output_type": "stream",
          "name": "stdout",
          "text": [
            "22 is an even number\n"
          ]
        }
      ]
    },
    {
      "cell_type": "code",
      "source": [
        "a = 3\n",
        "\n",
        "if (a==1): \n",
        "      print(\"a is equal 1\")\n",
        "elif(a==2):\n",
        "      print(\"a is equal 2\")\n",
        "elif(a==3):\n",
        "      print(\"a is equal 3\")\n",
        "else:\n",
        "      print(\"a is not expected. \")"
      ],
      "metadata": {
        "colab": {
          "base_uri": "https://localhost:8080/"
        },
        "id": "I8B1V_2_r8V_",
        "outputId": "28546c5b-8c9c-485f-f466-904b6abc4f76"
      },
      "execution_count": 5,
      "outputs": [
        {
          "output_type": "stream",
          "name": "stdout",
          "text": [
            "a is equal 3\n"
          ]
        }
      ]
    },
    {
      "cell_type": "code",
      "source": [
        "a = 3\n",
        "b = 2\n",
        "if a > b: print(\"a is greater than b\")\n",
        "elif a == b: print(\"a and b are equal\")\n",
        "else: print(\"a is less than b\")"
      ],
      "metadata": {
        "colab": {
          "base_uri": "https://localhost:8080/"
        },
        "id": "jjwM8PYZsB8S",
        "outputId": "b48c9361-abb0-4b87-eb37-44a8c2054cad"
      },
      "execution_count": 8,
      "outputs": [
        {
          "output_type": "stream",
          "name": "stdout",
          "text": [
            "a is greater than b\n"
          ]
        }
      ]
    },
    {
      "cell_type": "code",
      "source": [
        "color = input(\"input a color: (r,g,b)\")\n",
        "if(color == 'r'):\n",
        "      print(\"red\")\n",
        "else:\n",
        "      if(color == 'g'):\n",
        "         print(\"green\")\n",
        "      else: \n",
        "         if(color == \"b\"):\n",
        "            print(\"blue\")\n",
        "         else:\n",
        "            print(\"unknown color\")   "
      ],
      "metadata": {
        "colab": {
          "base_uri": "https://localhost:8080/"
        },
        "id": "UGIyd3odsJuJ",
        "outputId": "2594ba19-1da8-4312-d378-7e7b860ee64a"
      },
      "execution_count": 9,
      "outputs": [
        {
          "output_type": "stream",
          "name": "stdout",
          "text": [
            "input a color: (r,g,b)r\n",
            "red\n"
          ]
        }
      ]
    },
    {
      "cell_type": "code",
      "source": [
        "color = input(\"input a color: (r,g,b)\")\n",
        "\n",
        "if(color == 'r'): \n",
        "   print(\"red\")\n",
        "elif(color == 'g'):\n",
        "   print(\"green\")\n",
        "elif(color == 'b'):\n",
        "   print(\"blue\")\n",
        "else:\n",
        "   print(\"unknown color\")  "
      ],
      "metadata": {
        "colab": {
          "base_uri": "https://localhost:8080/"
        },
        "id": "PoRbm5orsYxo",
        "outputId": "81ab5f0d-9907-45be-beab-b178f3d2ed49"
      },
      "execution_count": 10,
      "outputs": [
        {
          "output_type": "stream",
          "name": "stdout",
          "text": [
            "input a color: (r,b,b)b\n",
            "blue\n"
          ]
        }
      ]
    },
    {
      "cell_type": "code",
      "source": [],
      "metadata": {
        "id": "xYeM5ukfse2G"
      },
      "execution_count": null,
      "outputs": []
    }
  ]
}