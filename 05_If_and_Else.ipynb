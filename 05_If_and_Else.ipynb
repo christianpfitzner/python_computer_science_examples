{
  "cells": [
    {
      "cell_type": "markdown",
      "metadata": {
        "colab_type": "text",
        "id": "view-in-github"
      },
      "source": [
        "<a href=\"https://colab.research.google.com/github/christianpfitzner/python_computer_science_examples/blob/master/05_If_and_Else.ipynb\" target=\"_parent\"><img src=\"https://colab.research.google.com/assets/colab-badge.svg\" alt=\"Open In Colab\"/></a>"
      ]
    },
    {
      "cell_type": "markdown",
      "metadata": {
        "id": "brChQxpIrs1K"
      },
      "source": [
        "## IF"
      ]
    },
    {
      "cell_type": "code",
      "execution_count": 2,
      "metadata": {
        "colab": {
          "base_uri": "https://localhost:8080/"
        },
        "id": "OCxhME1arp1Y",
        "outputId": "4306dee5-31ab-46df-955d-0203cfc78be3"
      },
      "outputs": [
        {
          "name": "stdout",
          "output_type": "stream",
          "text": [
            "5\n"
          ]
        }
      ],
      "source": [
        "value = -5\n",
        "if(value < 0):\n",
        "   value = value * -1      # 5*(-1)\n",
        "print(value)"
      ]
    },
    {
      "cell_type": "code",
      "execution_count": 3,
      "metadata": {
        "colab": {
          "base_uri": "https://localhost:8080/"
        },
        "id": "GSRz475irx4d",
        "outputId": "b501999a-cb59-41aa-d785-5a3399261d00"
      },
      "outputs": [
        {
          "name": "stdout",
          "output_type": "stream",
          "text": [
            "22 is an even number\n"
          ]
        }
      ],
      "source": [
        "a = 22\n",
        "if(a % 2 == 0): \n",
        "      print(\"{} is an even number\".format(a))\n",
        "else:\n",
        "   print(\"{} is an odd number\".format(a))"
      ]
    },
    {
      "cell_type": "code",
      "execution_count": 5,
      "metadata": {
        "colab": {
          "base_uri": "https://localhost:8080/"
        },
        "id": "I8B1V_2_r8V_",
        "outputId": "28546c5b-8c9c-485f-f466-904b6abc4f76"
      },
      "outputs": [
        {
          "name": "stdout",
          "output_type": "stream",
          "text": [
            "a is equal 3\n"
          ]
        }
      ],
      "source": [
        "a = 3\n",
        "\n",
        "if (a==1): \n",
        "      print(\"a is equal 1\")\n",
        "elif(a==2):\n",
        "      print(\"a is equal 2\")\n",
        "elif(a==3):\n",
        "      print(\"a is equal 3\")\n",
        "else:\n",
        "      print(\"a is not expected. \")"
      ]
    },
    {
      "cell_type": "code",
      "execution_count": 8,
      "metadata": {
        "colab": {
          "base_uri": "https://localhost:8080/"
        },
        "id": "jjwM8PYZsB8S",
        "outputId": "b48c9361-abb0-4b87-eb37-44a8c2054cad"
      },
      "outputs": [
        {
          "name": "stdout",
          "output_type": "stream",
          "text": [
            "a is greater than b\n"
          ]
        }
      ],
      "source": [
        "a = 3\n",
        "b = 2\n",
        "if a > b: print(\"a is greater than b\")\n",
        "elif a == b: print(\"a and b are equal\")\n",
        "else: print(\"a is less than b\")"
      ]
    },
    {
      "cell_type": "code",
      "execution_count": 9,
      "metadata": {
        "colab": {
          "base_uri": "https://localhost:8080/"
        },
        "id": "UGIyd3odsJuJ",
        "outputId": "2594ba19-1da8-4312-d378-7e7b860ee64a"
      },
      "outputs": [
        {
          "name": "stdout",
          "output_type": "stream",
          "text": [
            "input a color: (r,g,b)r\n",
            "red\n"
          ]
        }
      ],
      "source": [
        "color = input(\"input a color: (r,g,b)\")\n",
        "if(color == 'r'):\n",
        "      print(\"red\")\n",
        "else:\n",
        "      if(color == 'g'):\n",
        "         print(\"green\")\n",
        "      else: \n",
        "         if(color == \"b\"):\n",
        "            print(\"blue\")\n",
        "         else:\n",
        "            print(\"unknown color\")   "
      ]
    },
    {
      "cell_type": "code",
      "execution_count": 10,
      "metadata": {
        "colab": {
          "base_uri": "https://localhost:8080/"
        },
        "id": "PoRbm5orsYxo",
        "outputId": "81ab5f0d-9907-45be-beab-b178f3d2ed49"
      },
      "outputs": [
        {
          "name": "stdout",
          "output_type": "stream",
          "text": [
            "input a color: (r,b,b)b\n",
            "blue\n"
          ]
        }
      ],
      "source": [
        "color = input(\"input a color: (r,g,b)\")\n",
        "\n",
        "if(color == 'r'): \n",
        "   print(\"red\")\n",
        "elif(color == 'g'):\n",
        "   print(\"green\")\n",
        "elif(color == 'b'):\n",
        "   print(\"blue\")\n",
        "else:\n",
        "   print(\"unknown color\")  "
      ]
    },
    {
      "cell_type": "markdown",
      "metadata": {
        "id": "xYeM5ukfse2G"
      },
      "source": [
        "<br></br>\n",
        "\n",
        "\n",
        "\n",
        "\n",
        "<br></br>\n",
        "\n",
        "---\n",
        "\n",
        "# Exercises for Chapter 4\n",
        "\n",
        "---"
      ]
    },
    {
      "cell_type": "markdown",
      "metadata": {},
      "source": [
        "## Odd Number   "
      ]
    },
    {
      "cell_type": "markdown",
      "metadata": {},
      "source": [
        "Write a program, that checks if a number is odd or even. If the number is odd, print \"The number is odd\". If the number is even, print \"The number is even\".\n",
        "\n"
      ]
    },
    {
      "cell_type": "code",
      "execution_count": null,
      "metadata": {},
      "outputs": [],
      "source": [
        "## your solution here\n",
        "#\n",
        "#\n",
        "#\n",
        "#\n",
        "#\n",
        "#\n",
        "#\n",
        "#"
      ]
    },
    {
      "cell_type": "markdown",
      "metadata": {},
      "source": [
        "## Yes or No\n",
        "Write a program, that ask a user to provide a simple yes or no question. If the user answers with \"yes\", print \"The answer is yes\". If the user answers with \"no\", print \"The answer is no\". If the user answers with something else, print \"The answer is neither yes nor no\".\n",
        "\n"
      ]
    },
    {
      "cell_type": "code",
      "execution_count": 2,
      "metadata": {},
      "outputs": [],
      "source": [
        "## your solution here\n",
        "#\n",
        "#\n",
        "#\n",
        "#\n",
        "#\n",
        "#\n",
        "#\n",
        "#"
      ]
    },
    {
      "cell_type": "markdown",
      "metadata": {},
      "source": [
        "## Leap Year"
      ]
    },
    {
      "cell_type": "markdown",
      "metadata": {},
      "source": [
        "Write a program, that checks if a user provided year is a leap year. If the year is a leap year, print \"The year is a leap year\". If the year is not a leap year, print \"The year is not a leap year\".\n",
        "\n",
        "In case you do not know how a leap year is defined, have a look [here](https://en.wikipedia.org/wiki/Leap_year#Algorithm). \n"
      ]
    },
    {
      "cell_type": "code",
      "execution_count": null,
      "metadata": {},
      "outputs": [],
      "source": [
        "## your solution here\n",
        "#\n",
        "#\n",
        "#\n",
        "#\n",
        "#\n",
        "#\n",
        "#\n",
        "#"
      ]
    }
  ],
  "metadata": {
    "colab": {
      "authorship_tag": "ABX9TyN90BEgzWjxe6QEAzT0/v/v",
      "collapsed_sections": [],
      "include_colab_link": true,
      "provenance": []
    },
    "kernelspec": {
      "display_name": "Python 3.9.6 64-bit",
      "language": "python",
      "name": "python3"
    },
    "language_info": {
      "codemirror_mode": {
        "name": "ipython",
        "version": 3
      },
      "file_extension": ".py",
      "mimetype": "text/x-python",
      "name": "python",
      "nbconvert_exporter": "python",
      "pygments_lexer": "ipython3",
      "version": "3.9.6"
    },
    "vscode": {
      "interpreter": {
        "hash": "4cf03a2963743c57c72d8ba6632c2081b501cae1666301abc782d21392c9048f"
      }
    }
  },
  "nbformat": 4,
  "nbformat_minor": 0
}
