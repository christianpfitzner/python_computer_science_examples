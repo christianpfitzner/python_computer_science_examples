{
  "cells": [
    {
      "cell_type": "markdown",
      "metadata": {
        "colab_type": "text",
        "id": "view-in-github"
      },
      "source": [
        "<a href=\"https://colab.research.google.com/github/christianpfitzner/python_computer_science_examples/blob/master/01_Mandatory_Fraction.ipynb\" target=\"_parent\"><img src=\"https://colab.research.google.com/assets/colab-badge.svg\" alt=\"Open In Colab\"/></a>"
      ]
    },
    {
      "cell_type": "markdown",
      "metadata": {
        "id": "Tft_mLI-HZKk"
      },
      "source": [
        "# Mandatory 1: Fraction Calculator\n",
        "\n",
        "\n",
        "<br> </br>\n",
        "\n",
        "\n",
        "---\n",
        "\n",
        "## Requirements\n",
        "* Basic arithmetic opterations\n",
        "* Variables\n",
        "* If-else statements\n",
        "\n",
        "\n",
        "<br> </br>\n",
        "\n",
        "\n",
        "---\n",
        "\n",
        "## Description\n",
        "\n",
        "In this mandatory exercise, you should write a program to calculate franctions and print the result in a nice format. \n",
        "The program has to fullfill the following requirements:\n",
        "\n",
        "* The program should ask the user for the **numerator** and **denominator** of two fractions. \n",
        " \n",
        "  \n",
        "* The program should offer the **basic arithmetics**, e.g. addition, subtraction, multiplication and division.\n",
        "\n",
        "  $ \\dfrac{\\text{num1}}{\\text{den1}} + \\dfrac{\\text{num1}}{\\text{den1}}  = ... $\n",
        "\n",
        "  $ \\dfrac{\\text{num1}}{\\text{den1}} - \\dfrac{\\text{num1}}{\\text{den1}}  = ... $\n",
        "\n",
        "  $ \\dfrac{\\text{num1}}{\\text{den1}} * \\dfrac{\\text{num1}}{\\text{den1}}  = ... $\n",
        "\n",
        "  $ \\dfrac{\\text{num1}}{\\text{den1}} / \\dfrac{\\text{num1}}{\\text{den1}}  = ... $\n",
        "\n",
        "\n",
        "* These **operations** should be selected by providing a character like `+`, `-`, `*` or `/`.\n",
        "* The operation is limited to **two rational numbers**. In case a user provides a *wrong input*, the program should print an **error messagen** and **terminate**. \n",
        "* The result should be **printed as a fraction** in the format `numerator/denominator`.\n",
        "* Addionally, the result should be printed as a **decimal number with two digits** after the decimal point. \n",
        "* **Optionally**: Create **own functions** for the arithmetic operations.\n",
        "\n",
        "Please structure your program based on the arithmetic operators. Your code should be comment and structured in a way that it is easy to understand.\n",
        "\n",
        "Test your program, in advance to submission extensively.\n",
        "\n",
        "In case you do not know how the arithmetics for rational numbers work, read [here](https://en.wikipedia.org/wiki/Rational_number). "
      ]
    },
    {
      "cell_type": "markdown",
      "metadata": {
        "id": "ElHY7i1zHxzw"
      },
      "source": [
        "<br> </br>\n",
        "\n",
        "\n",
        "---\n",
        "\n",
        "## Grading Scheme\n",
        "\n",
        "You need 80 Percent of the points to pass this mandatory exercise. There are 100 points in total. The can receive credits for the following reasons: \n",
        "\n",
        "* **10 Points**: The program asks the user for the numerator and denominator of two fractions.\n",
        "* **10 Points**: The program offers the basic arithmetics, e.g. addition, subtraction, multiplication and division.\n",
        "* **10 Points**: The program prints an error message in case of wrong input.\n",
        "* **20 Points**: The program gives the result as a fraction in the format `numerator/denominator`.\n",
        "* **20 Points**: The program proints the result as decimal number. \n",
        "* **20 Points**: You program is logically structured and you used meaningfull variable names. \n",
        "* **10 Points**: You comment parts of your code. \n",
        "\n",
        "\n",
        "<br></br>\n",
        "**Please note:** You will fail in the following events: \n",
        "* Copying parts of the code from someone else\n",
        "* Submitting your solution late (the date will be announced in moodle). \n",
        "\n",
        "This means you are **not allowed to write the exam**, and therefore pass this class. \n",
        "\n",
        "\n"
      ]
    },
    {
      "cell_type": "markdown",
      "metadata": {
        "id": "7S9c-4j-Ll3_"
      },
      "source": [
        "<br> </br>\n",
        "\n",
        "\n",
        "---\n",
        "\n",
        "\n",
        "## Your Solution"
      ]
    },
    {
      "cell_type": "code",
      "execution_count": 3,
      "metadata": {
        "colab": {
          "base_uri": "https://localhost:8080/"
        },
        "id": "on88F4ebGfM0",
        "outputId": "2ec984dd-fa8a-458a-bc57-83634b17b0f4"
      },
      "outputs": [
        {
          "name": "stdout",
          "output_type": "stream",
          "text": [
            "Numerator 1st number: 10\n",
            "Denominator 1st number: 10\n",
            "Numerator 2nd number: 10\n",
            "Denominator 2nd number: 10\n"
          ]
        }
      ],
      "source": [
        "# input of the first number\n",
        "num1 = int(input(\"Numerator 1st number: \"))\n",
        "den1 = int(input(\"Denominator 1st number: \"))\n",
        "\n",
        "# input of the second number\n",
        "num2 = int(input(\"Numerator 2nd number: \"))\n",
        "den2 = int(input(\"Denominator 2nd number: \"))\n",
        "\n",
        "\n",
        "## Your Solution\n",
        "#\n",
        "#\n",
        "#\n",
        "#\n",
        "#\n",
        "#\n",
        "#\n",
        "#\n"
      ]
    },
    {
      "cell_type": "code",
      "execution_count": null,
      "metadata": {
        "id": "B-ETRPbIGlJz"
      },
      "outputs": [],
      "source": []
    }
  ],
  "metadata": {
    "colab": {
      "authorship_tag": "ABX9TyMbbbrIUMHXOpGbor4I7TqH",
      "include_colab_link": true,
      "provenance": []
    },
    "kernelspec": {
      "display_name": "Python 3.9.6 64-bit",
      "language": "python",
      "name": "python3"
    },
    "language_info": {
      "name": "python",
      "version": "3.9.6"
    },
    "vscode": {
      "interpreter": {
        "hash": "4cf03a2963743c57c72d8ba6632c2081b501cae1666301abc782d21392c9048f"
      }
    }
  },
  "nbformat": 4,
  "nbformat_minor": 0
}
