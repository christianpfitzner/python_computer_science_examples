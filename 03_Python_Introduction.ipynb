{
  "cells": [
    {
      "cell_type": "markdown",
      "metadata": {
        "id": "view-in-github",
        "colab_type": "text"
      },
      "source": [
        "<a href=\"https://colab.research.google.com/github/christianpfitzner/python_computer_science_examples/blob/master/03_Python_Introduction.ipynb\" target=\"_parent\"><img src=\"https://colab.research.google.com/assets/colab-badge.svg\" alt=\"Open In Colab\"/></a>"
      ]
    },
    {
      "cell_type": "markdown",
      "metadata": {
        "id": "wFwkl4Gq1M66"
      },
      "source": [
        "# Introduction to Python"
      ]
    },
    {
      "cell_type": "markdown",
      "metadata": {
        "id": "0HhTooUj6OB9"
      },
      "source": [
        "The following command generates the story of Python:"
      ]
    },
    {
      "cell_type": "code",
      "execution_count": null,
      "metadata": {
        "id": "8mpwu0QJzz6S"
      },
      "outputs": [],
      "source": [
        "import this"
      ]
    },
    {
      "cell_type": "markdown",
      "metadata": {
        "id": "CCbhgWJK4Smd"
      },
      "source": [
        "## Output"
      ]
    },
    {
      "cell_type": "markdown",
      "metadata": {
        "id": "-8xIABzOb3ZF"
      },
      "source": [
        "A Hello World example exists in all programming languages and is often the smallest\n",
        "possible program with a tiny user interaction: The words ”Hello” and ”World” are\n",
        "displayed"
      ]
    },
    {
      "cell_type": "code",
      "execution_count": null,
      "metadata": {
        "id": "Y051gP0s0F3d"
      },
      "outputs": [],
      "source": [
        "print(\"Hello World\")"
      ]
    },
    {
      "cell_type": "markdown",
      "metadata": {
        "id": "XNCTnq2z6OCG"
      },
      "source": [
        "The program includes a single function call: print(). The function call is surrounded\n",
        "by parentheses and the arguments are separated by commas. Functions is an own, and\n",
        "also more complex topic, which will have an own chapter in this lecture."
      ]
    },
    {
      "cell_type": "markdown",
      "metadata": {
        "id": "kDbyhAZP6OCI"
      },
      "source": [
        "The output of a program can be formatted, based on the use of the function print(),\n",
        "which was previously used to generate the output for the hello world example.\n",
        "The following examples all show the same output, while the function print is called\n",
        "differently."
      ]
    },
    {
      "cell_type": "code",
      "execution_count": null,
      "metadata": {
        "id": "E-df9cMV1Jx1"
      },
      "outputs": [],
      "source": [
        "print(\"Hello World\")\n",
        "print(\"Hello\", \"World\")\n",
        "print(\"Hello\", \"World\", sep=\" \")\n",
        "print(\"Hello\", \"World\", sep=\" \", end=\" \")"
      ]
    },
    {
      "cell_type": "markdown",
      "metadata": {
        "id": "Xc7GbmpS6OCL"
      },
      "source": [
        "Python offers several ways to add variables to a string. One way is by adding a %d for\n",
        "an integer number, a %f for a floating number, or %s for a string. Here is an example\n",
        "for an integer."
      ]
    },
    {
      "cell_type": "code",
      "execution_count": null,
      "metadata": {
        "id": "avLIXNla3Ox1"
      },
      "outputs": [],
      "source": [
        "age = 20\n",
        "print(\"My age is %d\" % age)"
      ]
    },
    {
      "cell_type": "markdown",
      "metadata": {
        "id": "w8HkrZa36OCO"
      },
      "source": [
        "You can also extend this by adding multiple variables to your string. You just extend\n",
        "the string with more "
      ]
    },
    {
      "cell_type": "code",
      "execution_count": null,
      "metadata": {
        "id": "Z0zW6WNx3Y13"
      },
      "outputs": [],
      "source": [
        "name = \"Bob\"\n",
        "print(\"My name is %s. I am %d years old\" % (name,age))"
      ]
    },
    {
      "cell_type": "code",
      "execution_count": null,
      "metadata": {
        "id": "OD-9z22q3aYi"
      },
      "outputs": [],
      "source": [
        "print(\"I love {1}. It is a great {0}\".format(\"programming language\", \"Python\"))"
      ]
    },
    {
      "cell_type": "markdown",
      "metadata": {
        "id": "7fv3j0XE6OCR"
      },
      "source": [
        "For the formatting of float numbers, you can use the format() method as well. In this\n",
        "case, you can specify the number of digits after the comma, additional to the numbers\n",
        "in front of the decimal point."
      ]
    },
    {
      "cell_type": "markdown",
      "metadata": {
        "id": "L47o3J1N6OCR"
      },
      "source": [
        "Please note that the index number or a variable name within the brackets is required.\n",
        "Otherwise, Python will call with an error."
      ]
    },
    {
      "cell_type": "markdown",
      "metadata": {
        "id": "QZe-q8ab6OCT"
      },
      "source": [
        "Therefore, you can decide how many digits after the decimal point are displayed."
      ]
    },
    {
      "cell_type": "code",
      "execution_count": null,
      "metadata": {
        "colab": {
          "base_uri": "https://localhost:8080/"
        },
        "id": "IPvUPVGS3_Ab",
        "outputId": "cf6e59cf-970b-4944-9d86-d5290b07133d"
      },
      "outputs": [
        {
          "name": "stdout",
          "output_type": "stream",
          "text": [
            "Number: 123\n",
            "Number: 123\n",
            "Number: 123\n",
            "Number:  123\n",
            "Number:   123\n",
            "Number:    123\n",
            "Number:     123\n",
            "Number:      123\n"
          ]
        }
      ],
      "source": [
        "print(\"Number: {0:1d}\".format(123))   # Number: 123   \n",
        "print(\"Number: {0:2d}\".format(123))   # Number: 123\n",
        "print(\"Number: {0:3d}\".format(123))   # Number: 123\n",
        "print(\"Number: {0:4d}\".format(123))   # Number:  123\n",
        "print(\"Number: {0:5d}\".format(123))   # Number:   123   \n",
        "print(\"Number: {0:6d}\".format(123))   # Number:    123\n",
        "print(\"Number: {0:7d}\".format(123))   # Number:     123\n",
        "print(\"Number: {0:8d}\".format(123))   # Number:      123"
      ]
    },
    {
      "cell_type": "markdown",
      "metadata": {
        "id": "apAPCqvP6OCY"
      },
      "source": [
        "Or similar to the integer, you can specify the minimal number of digits."
      ]
    },
    {
      "cell_type": "code",
      "execution_count": null,
      "metadata": {
        "colab": {
          "base_uri": "https://localhost:8080/"
        },
        "id": "0uR5jGK-cOpJ",
        "outputId": "d8bddd2b-aa23-497e-f0b4-702620f41b4a"
      },
      "outputs": [
        {
          "name": "stdout",
          "output_type": "stream",
          "text": [
            "Float: 123\n",
            "Float: 123.5\n",
            "Float: 123.46\n",
            "Float: 123.457\n",
            "Float: 123.4568\n",
            "Float: 123.45679\n",
            "Float: 123.456789\n",
            "Float: 123.4567890\n",
            "Float: 123.45678900\n",
            "Float: 123.456789000\n"
          ]
        }
      ],
      "source": [
        "a = 123.456789\n",
        "print(\"Float: {0:1.0f}\".format(a))   # Float: 123\n",
        "print(\"Float: {0:1.1f}\".format(a))   # Float: 123.5\n",
        "print(\"Float: {0:1.2f}\".format(a))   # Float: 123.46\n",
        "print(\"Float: {0:1.3f}\".format(a))   # Float: 123.457\n",
        "print(\"Float: {0:1.4f}\".format(a))   # Float: 123.4578\n",
        "print(\"Float: {0:1.5f}\".format(a))   # Float: 123.45789\n",
        "print(\"Float: {0:1.6f}\".format(a))   # Float: 123.457890\n",
        "print(\"Float: {0:1.7f}\".format(a))   # Float: 123.4578900\n",
        "print(\"Float: {0:1.8f}\".format(a))   # Float: 123.45789000\n",
        "print(\"Float: {0:1.9f}\".format(a))   # Float: 123.457890000"
      ]
    },
    {
      "cell_type": "code",
      "execution_count": null,
      "metadata": {
        "colab": {
          "base_uri": "https://localhost:8080/"
        },
        "id": "tme5L_bDcbNt",
        "outputId": "2138858c-7001-407b-dee3-f71d5bd1d498"
      },
      "outputs": [
        {
          "name": "stdout",
          "output_type": "stream",
          "text": [
            "Float: 123.46\n",
            "Float: 123.46\n",
            "Float: 123.46\n",
            "Float:  123.46\n",
            "Float:   123.46\n",
            "Float:    123.46\n",
            "Float:     123.46\n",
            "Float:      123.46\n",
            "Float:       123.46\n",
            "Float:        123.46\n",
            "Float:         123.46\n",
            "Float:          123.46\n",
            "Float:           123.46\n"
          ]
        }
      ],
      "source": [
        "print(\"Float: {0:4.2f}\".format(a))   # Float: 123.45\n",
        "print(\"Float: {0:5.2f}\".format(a))   # Float: 123.45\n",
        "print(\"Float: {0:6.2f}\".format(a))   # Float: 123.45\n",
        "print(\"Float: {0:7.2f}\".format(a))   # Float: 123.45\n",
        "print(\"Float: {0:8.2f}\".format(a))   # Float: 123.45\n",
        "print(\"Float: {0:9.2f}\".format(a))   # Float: 123.45\n",
        "print(\"Float: {0:10.2f}\".format(a))  # Float:  123.45\n",
        "print(\"Float: {0:11.2f}\".format(a))  # Float:   123.45\n",
        "print(\"Float: {0:12.2f}\".format(a))  # Float:     123.45\n",
        "print(\"Float: {0:13.2f}\".format(a))  # Float:      123.45\n",
        "print(\"Float: {0:14.2f}\".format(a))  # Float:       123.45\n",
        "print(\"Float: {0:15.2f}\".format(a))  # Float:        123.45\n",
        "print(\"Float: {0:16.2f}\".format(a))  # Float:         123.45"
      ]
    },
    {
      "cell_type": "markdown",
      "metadata": {
        "id": "bknsUo3BcoTD"
      },
      "source": [
        "\n",
        "### f-String"
      ]
    },
    {
      "cell_type": "markdown",
      "metadata": {
        "id": "RqqqFtgz6OCb"
      },
      "source": [
        "Python 3.6 introduced a new way to format strings. This is called f-Strings, due to a\n",
        "leading f in the string. See the following snippet."
      ]
    },
    {
      "cell_type": "code",
      "execution_count": null,
      "metadata": {
        "id": "38FHrCRlcpZF"
      },
      "outputs": [],
      "source": [
        "name = 'Chris'\n",
        "age = 34\n",
        "print(f\"Hello, My name is {name} and I'm {age} years old.\")"
      ]
    },
    {
      "cell_type": "markdown",
      "metadata": {
        "id": "lFzVNscC6OCc"
      },
      "source": [
        "The previously defined variables are directly integrated into the string within\n",
        "parentheses."
      ]
    },
    {
      "cell_type": "markdown",
      "metadata": {
        "id": "3-_X1bT86OCd"
      },
      "source": [
        "Beside only the output, you can also do calculations within the string."
      ]
    },
    {
      "cell_type": "code",
      "execution_count": null,
      "metadata": {
        "id": "DKa4fZ63c7SF"
      },
      "outputs": [],
      "source": [
        "a = 4\n",
        "b = 3\n",
        "print(f\"You can also do calculations: {a}+{b} = {a+b}\")"
      ]
    },
    {
      "cell_type": "markdown",
      "metadata": {
        "id": "8VR0Ep_x6OCd"
      },
      "source": [
        "Doing small calculations within the string is a convenient way to format your output.\n",
        "However, more complex calculations should be done outside the string. We will see\n",
        "this in the next section."
      ]
    },
    {
      "cell_type": "markdown",
      "metadata": {
        "id": "1B0I6M_K6OCe"
      },
      "source": [
        "Which output method you use is up to you. I would recommend the f-string method\n",
        "due to its simplicity and readability."
      ]
    },
    {
      "cell_type": "markdown",
      "metadata": {
        "id": "e1iQVAcsdCIh"
      },
      "source": [
        "<br></br>\n",
        "<br></br>\n",
        "## Variables"
      ]
    },
    {
      "cell_type": "markdown",
      "metadata": {
        "id": "O7JjIHY56OCf"
      },
      "source": [
        "Variables exist in most programming languages, as well as in Python. A variable is a\n",
        "container for a value. An analogy for a variable might be a cup, which can be filled\n",
        "with all kind of beverages, e.g. water, coffee, tea, etc.\n",
        "Using variables in python is easy and looks like the following, where two variables are\n",
        "defined and initialized. You can also apply basic mathematical operations on the\n",
        "variables, here with an addition of the two previously defined variables, to create a\n",
        "third variable."
      ]
    },
    {
      "cell_type": "markdown",
      "metadata": {
        "id": "o2-6OlS06OCg"
      },
      "source": [
        "You can also mix the types of the variables in a single line."
      ]
    },
    {
      "cell_type": "code",
      "execution_count": null,
      "metadata": {
        "id": "5-jOKvUOdY68"
      },
      "outputs": [],
      "source": [
        "a, b, c = 1, \"Hello\", 3.14\n",
        "print(a)\n",
        "print(b)\n",
        "print(c)"
      ]
    },
    {
      "cell_type": "code",
      "execution_count": null,
      "metadata": {
        "colab": {
          "base_uri": "https://localhost:8080/"
        },
        "id": "as9GBPsTdDE5",
        "outputId": "b92b360b-ab3b-452b-a52f-aca6bc8d45ec"
      },
      "outputs": [
        {
          "name": "stdout",
          "output_type": "stream",
          "text": [
            "3\n"
          ]
        }
      ],
      "source": [
        "variable_a = 1\n",
        "variable_b = 2\n",
        "variable_c = variable_a + variable_b\n",
        "print(variable_c)"
      ]
    },
    {
      "cell_type": "markdown",
      "metadata": {
        "id": "Fu_DQmm86OCh"
      },
      "source": [
        "All variables which are created outside a function are called global variables. They can\n",
        "be used by everyone, both inside of functions and outside. So far we haven’t talked\n",
        "about functions yet. We will do this in the next section. See the following example for\n",
        "a global variable."
      ]
    },
    {
      "cell_type": "code",
      "execution_count": null,
      "metadata": {
        "colab": {
          "base_uri": "https://localhost:8080/"
        },
        "id": "8jeBqZ7kDxGV",
        "outputId": "76fc8b01-923c-4d61-cee9-c471ef30e0d5"
      },
      "outputs": [
        {
          "name": "stdout",
          "output_type": "stream",
          "text": [
            "Python is great\n"
          ]
        }
      ],
      "source": [
        "x = \"great\"\n",
        "\n",
        "def myfunc():\n",
        "   print(\"Python is \" + x)\n",
        "\n",
        "myfunc()"
      ]
    },
    {
      "cell_type": "code",
      "execution_count": null,
      "metadata": {
        "id": "x3InXovF6OCl"
      },
      "outputs": [],
      "source": []
    },
    {
      "cell_type": "markdown",
      "metadata": {
        "id": "-qNaIbGo6OCm"
      },
      "source": [
        "As you see in this example, the variable x is defined outside the function and can be\n",
        "used inside the function. However, it can not be changed."
      ]
    },
    {
      "cell_type": "markdown",
      "metadata": {
        "id": "GfQWHMEk6OCm"
      },
      "source": [
        "Global variables seem like a good idea, but you really should use them carefully or avoid\n",
        "them. Global variables can lead to unexpected behavior, especially if you change the\n",
        "value of a global variable inside a function. So far you can not change a variable within\n",
        "a function if it was defined outside. For this purpose we need the keyword global."
      ]
    },
    {
      "cell_type": "code",
      "execution_count": null,
      "metadata": {
        "colab": {
          "base_uri": "https://localhost:8080/"
        },
        "id": "an8zQrG1DxZK",
        "outputId": "89a304fd-8eaf-4b36-c4b4-4845e72b1b1e"
      },
      "outputs": [
        {
          "name": "stdout",
          "output_type": "stream",
          "text": [
            "Python is fantastic\n"
          ]
        }
      ],
      "source": [
        "x = \"awesome\"        # global variable\n",
        "def myfunc():\n",
        "   global x          # make global variable mutable\n",
        "   x = \"fantastic\"   # change value of global variable\n",
        "\n",
        "myfunc()\n",
        "print(\"Python is \" + x)"
      ]
    },
    {
      "cell_type": "code",
      "execution_count": null,
      "metadata": {
        "id": "905G4SY0D7Z-"
      },
      "outputs": [],
      "source": []
    },
    {
      "cell_type": "markdown",
      "metadata": {
        "id": "TJttx4VRdj8D"
      },
      "source": [
        "<br></br>\n",
        "<br></br>\n",
        "## Keywords"
      ]
    },
    {
      "cell_type": "code",
      "execution_count": null,
      "metadata": {
        "id": "_sJWLClrdIbE"
      },
      "outputs": [],
      "source": [
        "# importing \"keyword\" for keyword operations\n",
        "import keyword\n",
        "  \n",
        "# printing all keywords at once using \"kwlist()\"\n",
        "print(\"The list of keywords is : \")\n",
        "print(keyword.kwlist)"
      ]
    },
    {
      "cell_type": "markdown",
      "metadata": {
        "id": "azcvUY5vfsi7"
      },
      "source": [
        "<br></br>\n",
        "<br></br>\n",
        "## Comments"
      ]
    },
    {
      "cell_type": "markdown",
      "metadata": {
        "id": "An7q4TVT6OCq"
      },
      "source": [
        "Comments are not mandatory in your code. However, it is good practice to enhance\n",
        "your work with some additional notes. These notes help you to understand your own\n",
        "code, if you come back after a longer time – or some days. They also help other\n",
        "people to understand your code."
      ]
    },
    {
      "cell_type": "code",
      "execution_count": null,
      "metadata": {
        "id": "FYcw6yPXdmoE"
      },
      "outputs": [],
      "source": [
        "# this is a simple comment\n",
        "\n",
        "\"\"\"\n",
        "This is a comment over\n",
        "several lines. \n",
        "\"\"\""
      ]
    },
    {
      "cell_type": "markdown",
      "metadata": {
        "id": "MYVPhiHs6OCr"
      },
      "source": [
        "Exercise: \n",
        "Have a look for the following examples. Where and how would you add\n",
        "comments to this? What might not be clear in this code?"
      ]
    },
    {
      "cell_type": "code",
      "execution_count": null,
      "metadata": {
        "id": "V7AGQcXAfumH"
      },
      "outputs": [],
      "source": [
        "v = 30\n",
        "t = 1\n",
        "s = v * t     # multiply the variables \n",
        "              # v and t and store the result in s"
      ]
    },
    {
      "cell_type": "markdown",
      "metadata": {
        "id": "IRvTzW9qgCER"
      },
      "source": [
        "## Datatypes"
      ]
    },
    {
      "cell_type": "markdown",
      "metadata": {
        "id": "zlDwAlWOQi2H"
      },
      "source": [
        "### Integer"
      ]
    },
    {
      "cell_type": "code",
      "execution_count": null,
      "metadata": {
        "colab": {
          "base_uri": "https://localhost:8080/"
        },
        "id": "YrV2UDhPf-dW",
        "outputId": "8135a347-4e73-4f0c-87c1-79fd4034d357"
      },
      "outputs": [
        {
          "name": "stdout",
          "output_type": "stream",
          "text": [
            "<class 'bool'>\n"
          ]
        }
      ],
      "source": [
        "x = 1\n",
        "print(type(a))      # <class 'int'>"
      ]
    },
    {
      "cell_type": "code",
      "execution_count": null,
      "metadata": {
        "colab": {
          "base_uri": "https://localhost:8080/"
        },
        "id": "eFKBtaFOJRSI",
        "outputId": "936002e0-01f4-449c-aa0d-9cea9541dc2f"
      },
      "outputs": [
        {
          "name": "stdout",
          "output_type": "stream",
          "text": [
            "9223372036854775807\n",
            "9223372036854775817\n"
          ]
        },
        {
          "data": {
            "text/plain": [
              "24"
            ]
          },
          "execution_count": 35,
          "metadata": {},
          "output_type": "execute_result"
        }
      ],
      "source": [
        "import sys\n",
        "max_int = int(sys.maxsize)\n",
        "print(max_int)\n",
        "max_int = max_int+10\n",
        "print(max_int)\n",
        "\n",
        "sys.getsizeof(max_int)\n",
        "\n",
        "sys.getsizeof(int()) "
      ]
    },
    {
      "cell_type": "markdown",
      "metadata": {
        "id": "MGY0Gnn-QkvF"
      },
      "source": [
        "<br></br>\n",
        "<br></br>\n",
        "### Float"
      ]
    },
    {
      "cell_type": "code",
      "execution_count": null,
      "metadata": {
        "colab": {
          "base_uri": "https://localhost:8080/"
        },
        "id": "YYcuXx5Of43a",
        "outputId": "54846e57-b8c1-4266-bdc5-b180f37d99d4"
      },
      "outputs": [
        {
          "name": "stdout",
          "output_type": "stream",
          "text": [
            "<class 'float'>\n"
          ]
        }
      ],
      "source": [
        "x = 1.0\n",
        "print(type(x))     # <class 'float'>"
      ]
    },
    {
      "cell_type": "code",
      "execution_count": null,
      "metadata": {
        "colab": {
          "base_uri": "https://localhost:8080/"
        },
        "id": "UthaUXGrQRSu",
        "outputId": "935b68c2-26a6-434f-c9fd-47d4652e75c3"
      },
      "outputs": [
        {
          "name": "stdout",
          "output_type": "stream",
          "text": [
            "9223372036854775807\n"
          ]
        },
        {
          "data": {
            "text/plain": [
              "24"
            ]
          },
          "execution_count": 31,
          "metadata": {},
          "output_type": "execute_result"
        }
      ],
      "source": [
        "import sys\n",
        "max_int = sys.maxsize\n",
        "print(max_int)\n",
        "\n",
        "sys.getsizeof(max_int)\n",
        "\n",
        "sys.getsizeof(float()) "
      ]
    },
    {
      "cell_type": "code",
      "execution_count": null,
      "metadata": {
        "id": "sfy_dPTngSq4"
      },
      "outputs": [],
      "source": [
        "x = 1              # define and init x as an integer\n",
        "y = float(x)       # cast x to a float and store it in y\n",
        "print(type(y))     # prints <class 'float'>\n",
        "\n",
        "z = 1.0            # define and init z as a float\n",
        "a = int(z)         # cast z to an int and store it in a \n",
        "print(type(a))     # prints <class 'int'>"
      ]
    },
    {
      "cell_type": "markdown",
      "metadata": {
        "id": "nOnEVTlDQnQd"
      },
      "source": [
        "<br></br>\n",
        "<br></br>\n",
        "### Boolean "
      ]
    },
    {
      "cell_type": "markdown",
      "metadata": {
        "id": "RXHqVz5f6OCy"
      },
      "source": [
        "A boolean is the most basic type in computer science. It can only have two values,\n",
        "True or False. Boolean values are important when it comes to decision-making in a\n",
        "program, e.g. if a certain condition is met or not. Boolean values ideal to classify if a\n",
        "certain statement or condition is true or false. All data types in computer science can\n",
        "be generated by a set of boolean values. This includes integers, floats, as well as\n",
        "strings."
      ]
    },
    {
      "cell_type": "code",
      "execution_count": null,
      "metadata": {
        "colab": {
          "base_uri": "https://localhost:8080/"
        },
        "id": "cW5Uv2lzgYi6",
        "outputId": "17777471-4f18-42ee-a19f-c53acc432a71"
      },
      "outputs": [
        {
          "name": "stdout",
          "output_type": "stream",
          "text": [
            "True False\n"
          ]
        }
      ],
      "source": [
        "a = True\n",
        "b = False\n",
        "print(a,b)   # True False"
      ]
    },
    {
      "cell_type": "markdown",
      "metadata": {
        "id": "pNPXeTJK6OCz"
      },
      "source": [
        "The following statements will all return True."
      ]
    },
    {
      "cell_type": "code",
      "execution_count": null,
      "metadata": {
        "colab": {
          "base_uri": "https://localhost:8080/"
        },
        "id": "i1nMhz84EFS3",
        "outputId": "9a6c08cf-3a04-4be2-99ef-780062268191"
      },
      "outputs": [
        {
          "data": {
            "text/plain": [
              "True"
            ]
          },
          "execution_count": 9,
          "metadata": {},
          "output_type": "execute_result"
        }
      ],
      "source": [
        "bool(1)                           # True Integer\n",
        "bool(2.3)                         # True Float\n",
        "bool(\"Hello World\")               # True String\n",
        "bool([\"This\", \"is\", \"a\", \"list\"]) # True List"
      ]
    },
    {
      "cell_type": "markdown",
      "metadata": {
        "id": "r-zotJcO6OC0"
      },
      "source": [
        "There are some statements, when cast to boolean, result in a False value. The\n",
        "following statements will all return False:"
      ]
    },
    {
      "cell_type": "code",
      "execution_count": null,
      "metadata": {
        "colab": {
          "base_uri": "https://localhost:8080/"
        },
        "id": "zwwk_j5fEL8i",
        "outputId": "5e424418-5ac6-4dad-ca97-9039fb9b54ed"
      },
      "outputs": [
        {
          "data": {
            "text/plain": [
              "False"
            ]
          },
          "execution_count": 10,
          "metadata": {},
          "output_type": "execute_result"
        }
      ],
      "source": [
        "bool(0)         # False Int\n",
        "bool(0.0)       # False Float\n",
        "bool(None)      # False None\n",
        "bool(\"\")        # False String\n",
        "bool([])        # False List\n",
        "bool(())        # False Tuple\n",
        "bool({})        # False Dictionary"
      ]
    },
    {
      "cell_type": "markdown",
      "metadata": {
        "id": "7mojg-BCEVPg"
      },
      "source": [
        "<br></br>\n",
        "<br></br>\n",
        "### Strings"
      ]
    },
    {
      "cell_type": "markdown",
      "metadata": {
        "id": "rM1GcaIs6OC2"
      },
      "source": [
        "We already used the datatype string in the previous lecture. A string is a sequence of\n",
        "characters, which are enclosed by quotation marks. You know this from the hello world\n",
        "example.\n",
        "\n",
        "Strings are special in most programming languages: They are not a primitive datatype,\n",
        "but a sequence of characters. This means, that you can access each character of a\n",
        "string individually. This is very useful, when you want to manipulate a string. We will\n",
        "have a look at string operations in one of the next lectures.\n",
        "\n",
        "Strings can be initialized in three different ways. You already know the initialization\n",
        "with the double quotation marks.\n",
        "\n",
        "You can also use single quotation marks.\n",
        "\n",
        "The third way is to use triple quotation marks. This is useful, when you want to write\n",
        "a string, which contains multiple lines.\n"
      ]
    },
    {
      "cell_type": "code",
      "execution_count": null,
      "metadata": {
        "colab": {
          "base_uri": "https://localhost:8080/"
        },
        "id": "08mbVQmDgbIV",
        "outputId": "1d04ef27-85cb-4fb5-86e4-29421367cf07"
      },
      "outputs": [
        {
          "name": "stdout",
          "output_type": "stream",
          "text": [
            "This is a valid string\n",
            "This is also a valid string\n",
            "This is a string\n",
            "which contains multiple lines\n"
          ]
        }
      ],
      "source": [
        "print(\"This is a valid string\")\n",
        "print('This is also a valid string')\n",
        "print('''This is a string\n",
        "which contains multiple lines''')"
      ]
    },
    {
      "cell_type": "markdown",
      "metadata": {
        "id": "JLNNivam6OC3"
      },
      "source": [
        "<br></br>\n",
        "<br></br>\n",
        "### Complex Numbers"
      ]
    },
    {
      "cell_type": "markdown",
      "metadata": {
        "id": "byH4CdZb6OC3"
      },
      "source": [
        "The third numerical type in python is the complex number. A complex number is a\n",
        "number, which consists out of a real and an imaginary part. If you study in the field of\n",
        "engineering, complex numbers are often used in electrical or mechanical engineering.\n",
        "The real part of the complex number is a normal floating point number, while the\n",
        "imaginary part of a complex number is marked with a j."
      ]
    },
    {
      "cell_type": "code",
      "execution_count": null,
      "metadata": {
        "id": "V-rfnRlkgfS6"
      },
      "outputs": [],
      "source": [
        "a = 1+2j\n",
        "print('a =',a)            # a = (2+3j) \n",
        "print('Type: ',type(a))   # Type: <class 'complex'>"
      ]
    },
    {
      "cell_type": "markdown",
      "metadata": {
        "id": "vcID2npT6OC4"
      },
      "source": [
        "Todo: Add link to complex numbers in wiki"
      ]
    },
    {
      "cell_type": "markdown",
      "metadata": {
        "id": "egb_ZnFV6OC4"
      },
      "source": [
        "<br></br>\n",
        "<br></br>\n",
        "### Random Numbers\n",
        "\n",
        "\n",
        "Random numbers are important when it comes to cryptography, simulation, and many\n",
        "other fields from engineering and computer science. The truth is, that really random\n",
        "numbers can hardly be generated by a computer. In most cases the generated numbers\n",
        "are pseudo random numbers.\n",
        "Python provides a module called random, which provides a lot of functions to generate\n",
        "random numbers. To use this module you have to import it first by using the import\n",
        "statement:"
      ]
    },
    {
      "cell_type": "code",
      "execution_count": null,
      "metadata": {
        "id": "HoNMXdzN6OC5"
      },
      "outputs": [],
      "source": [
        "import random"
      ]
    },
    {
      "cell_type": "markdown",
      "metadata": {
        "id": "04nCaW0Y6OC5"
      },
      "source": [
        "The following example generates a random number in the range of 0 to 1."
      ]
    },
    {
      "cell_type": "code",
      "execution_count": null,
      "metadata": {
        "id": "4G6OpjnFgrps"
      },
      "outputs": [],
      "source": [
        "import random\n",
        "rand_num = random.random()\n",
        "print (rand_num)"
      ]
    },
    {
      "cell_type": "markdown",
      "metadata": {
        "id": "dykLPSO36OC5"
      },
      "source": [
        "You can also generate numbers in a certain range. For example, if you want to generate\n",
        "a random number in and interval as integer, you can use the function randint(),\n",
        "which takes two arguments for the lower and the upper part of the desired range."
      ]
    },
    {
      "cell_type": "code",
      "execution_count": null,
      "metadata": {
        "id": "FLXPfKMqg_cb"
      },
      "outputs": [],
      "source": [
        "random.randint(-1, 200)    # -1 to 200\n",
        "random.uniform(10.5, 20.5) # 10.5 to 20.5\n",
        "random.random()*4.5        # 0 to 4.5"
      ]
    },
    {
      "cell_type": "markdown",
      "metadata": {
        "id": "c7B8L_mchICi"
      },
      "source": [
        "<br></br>\n",
        "<br></br>\n",
        "## Operators"
      ]
    },
    {
      "cell_type": "markdown",
      "metadata": {
        "id": "NAEjmn2B6OC6"
      },
      "source": [
        "We already used some basic arithmetic operations in our examples, e.g. adding two\n",
        "numbers. For arithmetic operations you need a variable to the left and to the right side\n",
        "of the operator.\n",
        "In python, you can use the following operators for basic arithmetic operations:"
      ]
    },
    {
      "cell_type": "code",
      "execution_count": null,
      "metadata": {
        "id": "mh8iQoFDhAmp"
      },
      "outputs": [],
      "source": [
        "10 + 5      # addition\n",
        "10 - 4      # subtraction\n",
        "10 * 4      # multiplication \n",
        "10 / 4      # division\n",
        "10 % 4      # modulus\n",
        "10 ** 4     # exponential \n",
        "10 // 4     # floor division \n",
        "\n",
        "\n",
        "print(f\"4  + 5  =  {4  + 5}\")\n",
        "print(f\"10 - 4  =  {10 - 4}\")\n"
      ]
    },
    {
      "cell_type": "markdown",
      "metadata": {
        "id": "Ji0aOZiM6OC7"
      },
      "source": [
        "From the definition of a variable, you already know the simplest assignment operator\n",
        "=. You can also apply an arithmetic operator, while assigning the result to the same\n",
        "variable.\n",
        "The following code illustrates the possibilities of the different assignment operators."
      ]
    },
    {
      "cell_type": "code",
      "execution_count": null,
      "metadata": {
        "id": "si2aDVZchKGr"
      },
      "outputs": [],
      "source": [
        "a = 10          # assigning a variable to it\n",
        "a += 4          # same as a = a + 4\n",
        "a -= 10         # same as a = a - 10\n",
        "a *= 10         # same as a = a * 10\n",
        "a /= 3          # same as a = a / 3\n",
        "a %= 7          # same as a = a % 7\n",
        "a //= 2         # same as a = a // 2\n",
        "a **= 4         # same as a = a ** 4"
      ]
    },
    {
      "cell_type": "markdown",
      "metadata": {
        "id": "EQMJpsxm6OC8"
      },
      "source": [
        "Going back to the first section of this lecture, we already talked about decisions. In\n",
        "order to make a decision, you have to compare two variables. The result of a\n",
        "comparison can always only be True or False:\n",
        "Python provides the following relational operators for comparisons:"
      ]
    },
    {
      "cell_type": "code",
      "execution_count": null,
      "metadata": {
        "id": "-HlyPFcshSau"
      },
      "outputs": [],
      "source": [
        "a = 4\n",
        "b = 5\n",
        "print(\"a == b: \", a == b)   # equal\n",
        "print(\"a != b: \", a != b)   # unequal\n",
        "print(\"a > b:  \", a > b )    # bigger\n",
        "print(\"a < b:  \", a < b )    # smaller\n",
        "print(\"a <= b: \", a <= b)   # less or equal\n",
        "print(\"a >= b: \", a >= b)   # more or equal"
      ]
    },
    {
      "cell_type": "markdown",
      "metadata": {
        "id": "qJVCgMAL6OC9"
      },
      "source": [
        "These rational operators can be combined by logic operators, e.g. and, or, and not."
      ]
    },
    {
      "cell_type": "code",
      "execution_count": null,
      "metadata": {
        "id": "bXlISbv4hXff"
      },
      "outputs": [],
      "source": [
        "a = 5\n",
        "b = 6\n",
        "print(a < 7 and b < 10)     # and operator\n",
        "print((a < 5) and (b < 10)) # and operator \n",
        "                            # with parentheses\n",
        "print(a < 7 or b < 4)       # or operator\n",
        "print(not(a < 7 and b < 10))# not function"
      ]
    },
    {
      "cell_type": "markdown",
      "metadata": {
        "id": "bkWspvSChkHr"
      },
      "source": [
        "<br></br>\n",
        "<br></br>\n",
        "## Input"
      ]
    },
    {
      "cell_type": "markdown",
      "metadata": {
        "id": "UUZeehk-6OC-"
      },
      "source": [
        "So far we have only used the print() function to display data on the console. But we\n",
        "can also read data from the console, e.g. by the input() function. The function is\n",
        "called with a string as parameter, which is displayed on the console. The function\n",
        "returns the input as a string."
      ]
    },
    {
      "cell_type": "code",
      "execution_count": null,
      "metadata": {
        "id": "dh4gCPa4hixq"
      },
      "outputs": [],
      "source": [
        "input_number = input(\"Please enter a number: \")\n"
      ]
    },
    {
      "cell_type": "markdown",
      "metadata": {
        "id": "I2v_SNLF6OC_"
      },
      "source": [
        "With this feature you can finally interact with your program getting input data during\n",
        "the runtime. See another example:"
      ]
    },
    {
      "cell_type": "code",
      "execution_count": null,
      "metadata": {
        "id": "quBEKGjWivHC"
      },
      "outputs": [],
      "source": [
        "name = input(\"Please enter your name: \")\n",
        "print(\"Hello \" + name + \"!\")"
      ]
    },
    {
      "cell_type": "markdown",
      "metadata": {
        "id": "U8pBHC246OC_"
      },
      "source": [
        "Due to dynamic typing in python, the input is always a string (!). This behavior leads\n",
        "to an unexpected result, as shown in the following listing."
      ]
    },
    {
      "cell_type": "code",
      "execution_count": null,
      "metadata": {
        "id": "0bvaS4hKkP4q"
      },
      "outputs": [],
      "source": [
        "a = input(\"Number 1: \")  # input \"1\"\n",
        "b = input(\"Number 2: \")  # input \"2\"\n",
        "print(a+b)               # output \"12\""
      ]
    },
    {
      "cell_type": "markdown",
      "metadata": {
        "id": "rnEKrSsX6ODA"
      },
      "source": [
        "If you want to use the input as a number, you have to convert it to an integer or float.\n",
        "You can achieve this by adding the desired data type in front of the input function as\n",
        "an explicit cast."
      ]
    },
    {
      "cell_type": "code",
      "execution_count": null,
      "metadata": {
        "id": "pIZd8qaZkXL8"
      },
      "outputs": [],
      "source": [
        "input_number = int(input(\"Enter integer: \"))\n",
        "float_number = float(input(\"Ener float: \"))"
      ]
    },
    {
      "cell_type": "markdown",
      "metadata": {
        "id": "_oYFhwaHkgJB"
      },
      "source": [
        "<br></br>\n",
        "<br></br>\n",
        "## Math module"
      ]
    },
    {
      "cell_type": "markdown",
      "metadata": {
        "id": "AQ0YTpDY6ODA"
      },
      "source": [
        "Especially in engineering, math is an important role. While you know the fundamental\n",
        "operators in Python, there are many more functions available in the math module.\n",
        "Loading a module requires an import statement in advance to the rest of the program.\n",
        "See the following code which imports the math module and prints the constant of π."
      ]
    },
    {
      "cell_type": "code",
      "execution_count": null,
      "metadata": {
        "id": "V6tsfkzGkZ8-"
      },
      "outputs": [],
      "source": [
        "import math\n",
        "print(math.pi)       # output: 3.141592653589793"
      ]
    },
    {
      "cell_type": "markdown",
      "metadata": {
        "id": "uEyfeL9G6ODB"
      },
      "source": [
        "The math module provides the following constants:"
      ]
    },
    {
      "cell_type": "code",
      "execution_count": null,
      "metadata": {
        "id": "Ak-XkRVckjKe"
      },
      "outputs": [],
      "source": [
        "print(math.pi)    # 3.141592653589793\n",
        "print(math.tau)   # 6.283185307179586\n",
        "print(math.e)     # 2.718281828459045\n",
        "print(math.inf)   # inf\n",
        "print(math.nan)   # nan"
      ]
    },
    {
      "cell_type": "markdown",
      "metadata": {
        "id": "F1Z6m2Yx6ODB"
      },
      "source": [
        "The math module also provides the basic functions of trigonometry. Here are some of\n",
        "them in the following listing."
      ]
    },
    {
      "cell_type": "code",
      "execution_count": null,
      "metadata": {
        "id": "YLPc0y5SknwL"
      },
      "outputs": [],
      "source": [
        "math.sin(0.00)\n",
        "math.sin(-1.23)\n",
        "math.cos(10)\n",
        "math.tan(math.pi)\n",
        "math.sin(math.pi/2)"
      ]
    },
    {
      "cell_type": "markdown",
      "metadata": {
        "id": "aCKwZ4OP6ODC"
      },
      "source": [
        "All functions in the math module work with int and float values, while most of the\n",
        "time, int values are converted into float values during the function call."
      ]
    },
    {
      "cell_type": "markdown",
      "metadata": {
        "id": "oxd9hndw6ODD"
      },
      "source": [
        "The math module also provides the following functions:"
      ]
    },
    {
      "cell_type": "code",
      "execution_count": null,
      "metadata": {
        "id": "Jyq--c8XkvP1"
      },
      "outputs": [],
      "source": [
        "math.log(10)           # log of 10\n",
        "math.sqrt(2)           # square root of 2\n",
        "math.ceil(2.33)        # round up\n",
        "math.degrees(math.pi)  # conversion from rad to deg\n",
        "math.radians(180)      # conversion for deg to rad"
      ]
    },
    {
      "cell_type": "markdown",
      "metadata": {
        "id": "ch7_LV_9LUrn"
      },
      "source": [
        "<br></br>\n",
        "\n",
        "\n",
        "\n",
        "\n",
        "<br></br>\n",
        "\n",
        "---\n",
        "\n",
        "# Exercises for Chapter 3\n",
        "\n",
        "---"
      ]
    },
    {
      "cell_type": "markdown",
      "metadata": {
        "id": "juuHL4UHLV78"
      },
      "source": [
        "<br></br>\n",
        "\n",
        "## Radius Circle\n",
        "Write a piece of code which asks for the radius of a circle $r$. Your program should compute the diameter $d$, area $A$ and circumference $u$. You obviously have to use the [math module](https://docs.python.org/3/library/math.html), to have a high accuracy for Pi. \n",
        "\n",
        "Use the input function, to get the user's forwarded parameter for the radius. "
      ]
    },
    {
      "cell_type": "code",
      "execution_count": null,
      "metadata": {
        "id": "kvJpV2omMIM1"
      },
      "outputs": [],
      "source": [
        "## your solution here\n",
        "#\n",
        "#\n",
        "#\n",
        "#\n",
        "#"
      ]
    },
    {
      "cell_type": "markdown",
      "metadata": {
        "id": "ErxV4oW5MKd1"
      },
      "source": [
        "<br></br>\n",
        "\n",
        "## Volume of a Sphere\n",
        "Write a piece of code which calculates the volume $V$ of a sphere, where you provide the radius $r$. \n",
        "\n",
        "Use the input function, to get the user's forwarded parameter for the radius. "
      ]
    },
    {
      "cell_type": "code",
      "execution_count": null,
      "metadata": {
        "id": "fLA79RYWMa90"
      },
      "outputs": [],
      "source": [
        "## your solution here\n",
        "#\n",
        "#\n",
        "#\n",
        "#\n",
        "#"
      ]
    },
    {
      "cell_type": "markdown",
      "metadata": {
        "id": "75wqv9bsNk2s"
      },
      "source": [
        "<br></br>\n",
        "\n",
        "## Volume of a Cube\n",
        "\n",
        "Write a piece of code which calculates the volume of a cube, based on the length of an edge. \n",
        "\n",
        "\n"
      ]
    },
    {
      "cell_type": "code",
      "execution_count": null,
      "metadata": {
        "id": "Tgm3JUz_NqPD"
      },
      "outputs": [],
      "source": [
        "## your solution here\n",
        "#\n",
        "#\n",
        "#\n",
        "#\n",
        "#"
      ]
    },
    {
      "cell_type": "markdown",
      "metadata": {
        "id": "O_ZE74dkNJWJ"
      },
      "source": [
        "<br></br>\n",
        "\n",
        "## Gas Consumption of a Car\n",
        "\n",
        "Write a program, which calculates the gas consumption of your car per 100 km. You should provide two parameters: \n",
        "*   Kilometers driven in total $s$. \n",
        "*   Gas consumed for the driven distance $l$ in liters.   \n",
        "\n",
        "\n"
      ]
    },
    {
      "cell_type": "code",
      "execution_count": null,
      "metadata": {
        "id": "T843Yt6RNPPI"
      },
      "outputs": [],
      "source": [
        "## your solution here\n",
        "#\n",
        "#\n",
        "#\n",
        "#\n",
        "#"
      ]
    },
    {
      "cell_type": "markdown",
      "metadata": {
        "id": "qbKUDn71M-3a"
      },
      "source": [
        "<br></br>\n",
        "\n",
        "\n",
        "## Gravity\n",
        "\n",
        "In this task, we want to calculate the time $t$ and the velocity $v$ of an object falling from a certain hight $h$. The simplified equation for this -- without friction, aerodynamics or the coriolis force -- look like the following: \n",
        "\n",
        "$t(h) = \\sqrt{\\dfrac{2h}{g}}$ \n",
        "\n",
        "and\n",
        "\n",
        "$v(h) = \\sqrt{2hg}$\n",
        "\n",
        "Gravity is defined by $g = 9.81~\\dfrac{ \\text{m} }{\\text{s}^2}$. \n",
        "\n",
        "You need to load the [math module](https://docs.python.org/3/library/math.html) to use the square root function. \n",
        "\n",
        "How long does it take for an object to hit the ground, when released from 100 meters, and what velocity would it reach in vacuum?"
      ]
    },
    {
      "cell_type": "code",
      "execution_count": null,
      "metadata": {
        "id": "rE697L4eNCfG"
      },
      "outputs": [],
      "source": [
        "## your solution here\n",
        "#\n",
        "#\n",
        "#\n",
        "#\n",
        "#"
      ]
    },
    {
      "cell_type": "markdown",
      "metadata": {
        "id": "ZTttcIl1M4VW"
      },
      "source": [
        "<br></br>\n",
        "\n",
        "## Money and Interest\n",
        "\n",
        "Based on the following equation. You can calculate how much money you have after $n$ years. \n",
        "\n",
        "$K_n = K_0 \\cdot (1 + z/100)^n$\n",
        "\n",
        "where $K_0$ is the amount of money from the start and $z$ is the interest in percent. \n",
        "\n",
        "Implement this equation. "
      ]
    },
    {
      "cell_type": "code",
      "execution_count": null,
      "metadata": {
        "id": "HlQhsLSoM4mv"
      },
      "outputs": [],
      "source": [
        "## your solution here\n",
        "#\n",
        "#\n",
        "#\n",
        "#\n",
        "#"
      ]
    }
  ],
  "metadata": {
    "colab": {
      "collapsed_sections": [],
      "provenance": [],
      "include_colab_link": true
    },
    "kernelspec": {
      "display_name": "Python 3.9.6 64-bit",
      "language": "python",
      "name": "python3"
    },
    "language_info": {
      "codemirror_mode": {
        "name": "ipython",
        "version": 3
      },
      "file_extension": ".py",
      "mimetype": "text/x-python",
      "name": "python",
      "nbconvert_exporter": "python",
      "pygments_lexer": "ipython3",
      "version": "3.9.6"
    },
    "vscode": {
      "interpreter": {
        "hash": "4cf03a2963743c57c72d8ba6632c2081b501cae1666301abc782d21392c9048f"
      }
    }
  },
  "nbformat": 4,
  "nbformat_minor": 0
}