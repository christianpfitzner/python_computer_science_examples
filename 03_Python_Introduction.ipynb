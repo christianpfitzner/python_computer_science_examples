{
  "nbformat": 4,
  "nbformat_minor": 0,
  "metadata": {
    "colab": {
      "provenance": [],
      "collapsed_sections": [],
      "authorship_tag": "ABX9TyPrx70x3YpgIwVeS6LGFkh1",
      "include_colab_link": true
    },
    "kernelspec": {
      "name": "python3",
      "display_name": "Python 3"
    },
    "language_info": {
      "name": "python"
    }
  },
  "cells": [
    {
      "cell_type": "markdown",
      "metadata": {
        "id": "view-in-github",
        "colab_type": "text"
      },
      "source": [
        "<a href=\"https://colab.research.google.com/github/christianpfitzner/python_computer_science_examples/blob/master/03_Python_Introduction.ipynb\" target=\"_parent\"><img src=\"https://colab.research.google.com/assets/colab-badge.svg\" alt=\"Open In Colab\"/></a>"
      ]
    },
    {
      "cell_type": "markdown",
      "source": [
        "# Introduction to Python"
      ],
      "metadata": {
        "id": "wFwkl4Gq1M66"
      }
    },
    {
      "cell_type": "code",
      "source": [
        "import this"
      ],
      "metadata": {
        "colab": {
          "base_uri": "https://localhost:8080/"
        },
        "id": "8mpwu0QJzz6S",
        "outputId": "482ac7cc-4767-417c-a07c-1c782a817119"
      },
      "execution_count": null,
      "outputs": [
        {
          "output_type": "stream",
          "name": "stdout",
          "text": [
            "The Zen of Python, by Tim Peters\n",
            "\n",
            "Beautiful is better than ugly.\n",
            "Explicit is better than implicit.\n",
            "Simple is better than complex.\n",
            "Complex is better than complicated.\n",
            "Flat is better than nested.\n",
            "Sparse is better than dense.\n",
            "Readability counts.\n",
            "Special cases aren't special enough to break the rules.\n",
            "Although practicality beats purity.\n",
            "Errors should never pass silently.\n",
            "Unless explicitly silenced.\n",
            "In the face of ambiguity, refuse the temptation to guess.\n",
            "There should be one-- and preferably only one --obvious way to do it.\n",
            "Although that way may not be obvious at first unless you're Dutch.\n",
            "Now is better than never.\n",
            "Although never is often better than *right* now.\n",
            "If the implementation is hard to explain, it's a bad idea.\n",
            "If the implementation is easy to explain, it may be a good idea.\n",
            "Namespaces are one honking great idea -- let's do more of those!\n"
          ]
        }
      ]
    },
    {
      "cell_type": "markdown",
      "source": [
        "## Output"
      ],
      "metadata": {
        "id": "CCbhgWJK4Smd"
      }
    },
    {
      "cell_type": "markdown",
      "source": [
        "A Hello World example exists in all programming languages and is often the smallest\n",
        "possible program with a tiny user interaction: The words ”Hello” and ”World” are\n",
        "displayed"
      ],
      "metadata": {
        "id": "-8xIABzOb3ZF"
      }
    },
    {
      "cell_type": "code",
      "source": [
        "print(\"Hello World\")"
      ],
      "metadata": {
        "id": "Y051gP0s0F3d"
      },
      "execution_count": null,
      "outputs": []
    },
    {
      "cell_type": "code",
      "source": [
        "print(\"Hello World\")\n",
        "print(\"Hello\", \"World\")\n",
        "print(\"Hello\", \"World\", sep=\" \")\n",
        "print(\"Hello\", \"World\", sep=\" \", end=\" \")"
      ],
      "metadata": {
        "colab": {
          "base_uri": "https://localhost:8080/"
        },
        "id": "E-df9cMV1Jx1",
        "outputId": "f65fd362-d877-4029-91e0-698ef22f9eee"
      },
      "execution_count": null,
      "outputs": [
        {
          "output_type": "stream",
          "name": "stdout",
          "text": [
            "Hello World\n",
            "Hello World\n",
            "Hello World\n",
            "Hello World "
          ]
        }
      ]
    },
    {
      "cell_type": "code",
      "source": [
        "age = 20\n",
        "print(\"My age is %d\" % age)"
      ],
      "metadata": {
        "colab": {
          "base_uri": "https://localhost:8080/"
        },
        "id": "avLIXNla3Ox1",
        "outputId": "911272e6-56c3-4b56-cac5-3a80a5b29f00"
      },
      "execution_count": null,
      "outputs": [
        {
          "output_type": "stream",
          "name": "stdout",
          "text": [
            "My age is 20\n"
          ]
        }
      ]
    },
    {
      "cell_type": "code",
      "source": [
        "name = \"Bob\"\n",
        "print(\"My name is %s. I am %d years old\" % (name,age))"
      ],
      "metadata": {
        "colab": {
          "base_uri": "https://localhost:8080/"
        },
        "id": "Z0zW6WNx3Y13",
        "outputId": "bb5a5400-78d1-4594-e846-73322e5cac41"
      },
      "execution_count": null,
      "outputs": [
        {
          "output_type": "stream",
          "name": "stdout",
          "text": [
            "My name is Bob. I am 20 years old\n"
          ]
        }
      ]
    },
    {
      "cell_type": "code",
      "source": [
        "print(\"I love {1}. It is a great {0}\".format(\"programming language\", \"Python\"))"
      ],
      "metadata": {
        "colab": {
          "base_uri": "https://localhost:8080/"
        },
        "id": "OD-9z22q3aYi",
        "outputId": "c58b7988-1959-4662-9aaf-231ced2886fc"
      },
      "execution_count": null,
      "outputs": [
        {
          "output_type": "stream",
          "name": "stdout",
          "text": [
            "I love Python. It is a great programming language\n"
          ]
        }
      ]
    },
    {
      "cell_type": "code",
      "source": [
        "print(\"Number: {0:1d}\".format(123))   # Number: 123   \n",
        "print(\"Number: {0:2d}\".format(123))   # Number: 123\n",
        "print(\"Number: {0:3d}\".format(123))   # Number: 123\n",
        "print(\"Number: {0:4d}\".format(123))   # Number:  123"
      ],
      "metadata": {
        "id": "IPvUPVGS3_Ab",
        "colab": {
          "base_uri": "https://localhost:8080/"
        },
        "outputId": "15c2a90e-eb00-4920-8dfc-e23241f24220"
      },
      "execution_count": null,
      "outputs": [
        {
          "output_type": "stream",
          "name": "stdout",
          "text": [
            "Number: 123\n",
            "Number: 123\n",
            "Number: 123\n",
            "Number:  123\n"
          ]
        }
      ]
    },
    {
      "cell_type": "code",
      "source": [
        "a = 123.456789\n",
        "print(\"Float: {0:1.0f}\".format(a))   # Float: 123\n",
        "print(\"Float: {0:1.1f}\".format(a))   # Float: 123.5\n",
        "print(\"Float: {0:1.2f}\".format(a))   # Float: 123.46\n",
        "print(\"Float: {0:1.3f}\".format(a))   # Float: 123.457\n",
        "print(\"Float: {0:1.4f}\".format(a))   # Float: 123.457\n",
        "print(\"Float: {0:1.5f}\".format(a))   # Float: 123.457\n",
        "print(\"Float: {0:1.6f}\".format(a))   # Float: 123.457\n",
        "print(\"Float: {0:1.7f}\".format(a))   # Float: 123.457\n",
        "print(\"Float: {0:1.8f}\".format(a))   # Float: 123.457\n",
        "print(\"Float: {0:1.9f}\".format(a))   # Float: 123.457"
      ],
      "metadata": {
        "colab": {
          "base_uri": "https://localhost:8080/"
        },
        "id": "0uR5jGK-cOpJ",
        "outputId": "82720a39-a227-4bc0-c9b8-b2e36e62c9ee"
      },
      "execution_count": null,
      "outputs": [
        {
          "output_type": "stream",
          "name": "stdout",
          "text": [
            "Float: 123\n",
            "Float: 123.5\n",
            "Float: 123.46\n",
            "Float: 123.457\n",
            "Float: 123.4568\n",
            "Float: 123.45679\n",
            "Float: 123.456789\n",
            "Float: 123.4567890\n",
            "Float: 123.45678900\n",
            "Float: 123.456789000\n"
          ]
        }
      ]
    },
    {
      "cell_type": "code",
      "source": [
        "print(\"Float: {0:4.2f}\".format(a))   # Float: 123.45\n",
        "print(\"Float: {0:5.2f}\".format(a))   # Float: 123.45\n",
        "print(\"Float: {0:6.2f}\".format(a))   # Float: 123.45\n",
        "print(\"Float: {0:7.2f}\".format(a))   # Float: 123.45\n",
        "print(\"Float: {0:8.2f}\".format(a))   # Float: 123.45\n",
        "print(\"Float: {0:9.2f}\".format(a))   # Float: 123.45\n",
        "print(\"Float: {0:10.2f}\".format(a))  # Float:  123.45\n",
        "print(\"Float: {0:11.2f}\".format(a))  # Float:   123.45\n",
        "print(\"Float: {0:12.2f}\".format(a))  # Float:   123.45\n",
        "print(\"Float: {0:13.2f}\".format(a))  # Float:   123.45\n",
        "print(\"Float: {0:14.2f}\".format(a))  # Float:   123.45\n",
        "print(\"Float: {0:15.2f}\".format(a))  # Float:   123.45\n",
        "print(\"Float: {0:16.2f}\".format(a))  # Float:   123.45"
      ],
      "metadata": {
        "colab": {
          "base_uri": "https://localhost:8080/"
        },
        "id": "tme5L_bDcbNt",
        "outputId": "6092b84b-915d-4e4b-a6f7-4c9c2515cae0"
      },
      "execution_count": null,
      "outputs": [
        {
          "output_type": "stream",
          "name": "stdout",
          "text": [
            "Float: 123.46\n",
            "Float: 123.46\n",
            "Float: 123.46\n",
            "Float:  123.46\n",
            "Float:   123.46\n",
            "Float:    123.46\n",
            "Float:     123.46\n",
            "Float:      123.46\n",
            "Float:       123.46\n",
            "Float:        123.46\n",
            "Float:         123.46\n",
            "Float:          123.46\n",
            "Float:           123.46\n"
          ]
        }
      ]
    },
    {
      "cell_type": "markdown",
      "source": [
        "\n",
        "### f-String"
      ],
      "metadata": {
        "id": "bknsUo3BcoTD"
      }
    },
    {
      "cell_type": "code",
      "source": [
        "name = 'Chris'\n",
        "age = 34\n",
        "print(f\"Hello, My name is {name} and I'm {age} years old.\")"
      ],
      "metadata": {
        "colab": {
          "base_uri": "https://localhost:8080/"
        },
        "id": "38FHrCRlcpZF",
        "outputId": "1c139af1-7930-4e7b-d221-b749cff63144"
      },
      "execution_count": null,
      "outputs": [
        {
          "output_type": "stream",
          "name": "stdout",
          "text": [
            "Hello, My name is Chris and I'm 34 years old.\n"
          ]
        }
      ]
    },
    {
      "cell_type": "code",
      "source": [
        "a = 4\n",
        "b = 3\n",
        "print(f\"You can also do calculations: {a}+{b} = {a+b}\")"
      ],
      "metadata": {
        "id": "DKa4fZ63c7SF"
      },
      "execution_count": null,
      "outputs": []
    },
    {
      "cell_type": "markdown",
      "source": [
        "## Variables"
      ],
      "metadata": {
        "id": "e1iQVAcsdCIh"
      }
    },
    {
      "cell_type": "code",
      "source": [
        "a, b, c = 1, \"Hello\", 3.14\n",
        "print(a)\n",
        "print(b)\n",
        "print(c)"
      ],
      "metadata": {
        "colab": {
          "base_uri": "https://localhost:8080/"
        },
        "id": "5-jOKvUOdY68",
        "outputId": "1294c706-9d17-4f14-c21e-503713ab9d28"
      },
      "execution_count": null,
      "outputs": [
        {
          "output_type": "stream",
          "name": "stdout",
          "text": [
            "1\n",
            "Hello\n",
            "3.14\n"
          ]
        }
      ]
    },
    {
      "cell_type": "code",
      "source": [
        "variable_a = 1\n",
        "variable_b = 2\n",
        "variable_c = variable_a + variable_b\n",
        "print(variable_c)"
      ],
      "metadata": {
        "colab": {
          "base_uri": "https://localhost:8080/"
        },
        "id": "as9GBPsTdDE5",
        "outputId": "70bff6f9-ae6b-4d54-a882-b084573814fd"
      },
      "execution_count": null,
      "outputs": [
        {
          "output_type": "stream",
          "name": "stdout",
          "text": [
            "3\n"
          ]
        }
      ]
    },
    {
      "cell_type": "markdown",
      "source": [
        "## Keywords"
      ],
      "metadata": {
        "id": "TJttx4VRdj8D"
      }
    },
    {
      "cell_type": "code",
      "source": [
        "# importing \"keyword\" for keyword operations\n",
        "import keyword\n",
        "  \n",
        "# printing all keywords at once using \"kwlist()\"\n",
        "print(\"The list of keywords is : \")\n",
        "print(keyword.kwlist)"
      ],
      "metadata": {
        "colab": {
          "base_uri": "https://localhost:8080/"
        },
        "id": "_sJWLClrdIbE",
        "outputId": "22c3316c-772b-4afc-acee-0703e17b404e"
      },
      "execution_count": null,
      "outputs": [
        {
          "output_type": "stream",
          "name": "stdout",
          "text": [
            "The list of keywords is : \n",
            "['False', 'None', 'True', 'and', 'as', 'assert', 'async', 'await', 'break', 'class', 'continue', 'def', 'del', 'elif', 'else', 'except', 'finally', 'for', 'from', 'global', 'if', 'import', 'in', 'is', 'lambda', 'nonlocal', 'not', 'or', 'pass', 'raise', 'return', 'try', 'while', 'with', 'yield']\n"
          ]
        }
      ]
    },
    {
      "cell_type": "markdown",
      "source": [
        "## Comments"
      ],
      "metadata": {
        "id": "azcvUY5vfsi7"
      }
    },
    {
      "cell_type": "code",
      "source": [
        "# this is a simple comment\n",
        "\n",
        "\"\"\"\n",
        "This is a comment over\n",
        "several lines. \n",
        "\"\"\""
      ],
      "metadata": {
        "colab": {
          "base_uri": "https://localhost:8080/",
          "height": 35
        },
        "id": "FYcw6yPXdmoE",
        "outputId": "fa905867-ace7-45b7-d2dd-8bb5b4364d37"
      },
      "execution_count": null,
      "outputs": [
        {
          "output_type": "execute_result",
          "data": {
            "text/plain": [
              "'\\nThis is a comment over\\nseveral lines. \\n'"
            ],
            "application/vnd.google.colaboratory.intrinsic+json": {
              "type": "string"
            }
          },
          "metadata": {},
          "execution_count": 8
        }
      ]
    },
    {
      "cell_type": "code",
      "source": [
        "v = 30\n",
        "t = 1\n",
        "s = v * t     # multiply the variables \n",
        "              # v and t and store the result in s"
      ],
      "metadata": {
        "id": "V7AGQcXAfumH"
      },
      "execution_count": null,
      "outputs": []
    },
    {
      "cell_type": "markdown",
      "source": [
        "## Datatypes"
      ],
      "metadata": {
        "id": "IRvTzW9qgCER"
      }
    },
    {
      "cell_type": "code",
      "source": [
        "x = 1\n",
        "print(type(a))      # <class 'int'>"
      ],
      "metadata": {
        "id": "YrV2UDhPf-dW"
      },
      "execution_count": null,
      "outputs": []
    },
    {
      "cell_type": "code",
      "source": [
        "x = 1.0\n",
        "print(type(x))     # <class 'float'>"
      ],
      "metadata": {
        "colab": {
          "base_uri": "https://localhost:8080/"
        },
        "id": "YYcuXx5Of43a",
        "outputId": "328a7a05-298e-46db-e662-c5e2b942d0f5"
      },
      "execution_count": null,
      "outputs": [
        {
          "output_type": "stream",
          "name": "stdout",
          "text": [
            "<class 'float'>\n"
          ]
        }
      ]
    },
    {
      "cell_type": "code",
      "source": [
        "x = 1              # define and init x as an integer\n",
        "y = float(x)       # cast x to a float and store it in y\n",
        "print(type(y))     # prints <class 'float'>\n",
        "\n",
        "z = 1.0            # define and init z as a float\n",
        "a = int(z)         # cast z to an int and store it in a \n",
        "print(type(a))     # prints <class 'int'>"
      ],
      "metadata": {
        "colab": {
          "base_uri": "https://localhost:8080/"
        },
        "id": "sfy_dPTngSq4",
        "outputId": "bf366704-5d82-4fae-8f15-a8dfb00fec69"
      },
      "execution_count": null,
      "outputs": [
        {
          "output_type": "stream",
          "name": "stdout",
          "text": [
            "<class 'float'>\n",
            "<class 'int'>\n"
          ]
        }
      ]
    },
    {
      "cell_type": "code",
      "source": [
        "a = True\n",
        "b = False\n",
        "print(a,b)   # True False"
      ],
      "metadata": {
        "colab": {
          "base_uri": "https://localhost:8080/"
        },
        "id": "cW5Uv2lzgYi6",
        "outputId": "2d15c2a3-18cd-4e1c-ed84-1a78dc77617e"
      },
      "execution_count": null,
      "outputs": [
        {
          "output_type": "stream",
          "name": "stdout",
          "text": [
            "True False\n"
          ]
        }
      ]
    },
    {
      "cell_type": "code",
      "source": [
        "print(\"This is a valid string\")"
      ],
      "metadata": {
        "colab": {
          "base_uri": "https://localhost:8080/"
        },
        "id": "08mbVQmDgbIV",
        "outputId": "c253ec34-7cde-401a-a58f-0dc3a97b390e"
      },
      "execution_count": null,
      "outputs": [
        {
          "output_type": "stream",
          "name": "stdout",
          "text": [
            "This is a valid string\n"
          ]
        }
      ]
    },
    {
      "cell_type": "code",
      "source": [
        "a = 1+2j\n",
        "print('a =',a)            # a = (2+3j) \n",
        "print('Type: ',type(a))   # Type: <class 'complex'>"
      ],
      "metadata": {
        "colab": {
          "base_uri": "https://localhost:8080/"
        },
        "id": "V-rfnRlkgfS6",
        "outputId": "66220bd0-a883-41df-ff4a-ecbe95cba8ee"
      },
      "execution_count": null,
      "outputs": [
        {
          "output_type": "stream",
          "name": "stdout",
          "text": [
            "a = (1+2j)\n",
            "Type:  <class 'complex'>\n"
          ]
        }
      ]
    },
    {
      "cell_type": "code",
      "source": [
        "import random\n",
        "rand_num = random.random()\n",
        "print (rand_num)"
      ],
      "metadata": {
        "colab": {
          "base_uri": "https://localhost:8080/"
        },
        "id": "4G6OpjnFgrps",
        "outputId": "24b58306-9070-4c67-a8e7-bb4e606672fd"
      },
      "execution_count": null,
      "outputs": [
        {
          "output_type": "stream",
          "name": "stdout",
          "text": [
            "0.4296549087810667\n"
          ]
        }
      ]
    },
    {
      "cell_type": "code",
      "source": [
        "random.randint(-1, 200)    # -1 to 200\n",
        "random.uniform(10.5, 20.5) # 10.5 to 20.5\n",
        "random.random()*4.5        # 0 to 4.5"
      ],
      "metadata": {
        "colab": {
          "base_uri": "https://localhost:8080/"
        },
        "id": "FLXPfKMqg_cb",
        "outputId": "c23da7db-9b5c-4f80-9706-74e140b56ad5"
      },
      "execution_count": null,
      "outputs": [
        {
          "output_type": "execute_result",
          "data": {
            "text/plain": [
              "4.187890034162638"
            ]
          },
          "metadata": {},
          "execution_count": 18
        }
      ]
    },
    {
      "cell_type": "markdown",
      "source": [
        "## Operators"
      ],
      "metadata": {
        "id": "c7B8L_mchICi"
      }
    },
    {
      "cell_type": "code",
      "source": [
        "10 + 5      # addition\n",
        "10 - 4      # subtraction\n",
        "10 * 4      # multiplication \n",
        "10 / 4      # division\n",
        "10 % 4      # modulus\n",
        "10 ** 4     # exponential \n",
        "10 // 4     # floor division \n",
        "\n",
        "\n",
        "print(f\"4  + 5  =  {4  + 5}\")\n",
        "print(f\"10 - 4  =  {10 - 4}\")\n"
      ],
      "metadata": {
        "colab": {
          "base_uri": "https://localhost:8080/"
        },
        "id": "mh8iQoFDhAmp",
        "outputId": "85d7c564-3267-4de2-a117-0034f15c88f8"
      },
      "execution_count": null,
      "outputs": [
        {
          "output_type": "stream",
          "name": "stdout",
          "text": [
            "4  + 5  = 9\n",
            "10 - 4  = 6\n"
          ]
        }
      ]
    },
    {
      "cell_type": "code",
      "source": [
        "a = 10          # assigning a variable to it\n",
        "a += 4          # same as a = a + 4\n",
        "a -= 10         # same as a = a - 10\n",
        "a *= 10         # same as a = a * 10\n",
        "a /= 3          # same as a = a / 3\n",
        "a %= 7          # same as a = a % 7\n",
        "a //= 2         # same as a = a // 2\n",
        "a **= 4         # same as a = a ** 4"
      ],
      "metadata": {
        "id": "si2aDVZchKGr"
      },
      "execution_count": null,
      "outputs": []
    },
    {
      "cell_type": "code",
      "source": [
        "a = 4\n",
        "b = 5\n",
        "print(\"a == b: \", a == b)   # equal\n",
        "print(\"a != b: \", a != b)   # unequal\n",
        "print(\"a > b:  \", a > b )    # bigger\n",
        "print(\"a < b:  \", a < b )    # smaller\n",
        "print(\"a <= b: \", a <= b)   # less or equal\n",
        "print(\"a >= b: \", a >= b)   # more or equal"
      ],
      "metadata": {
        "colab": {
          "base_uri": "https://localhost:8080/"
        },
        "id": "-HlyPFcshSau",
        "outputId": "22449666-22ba-4d58-f53c-f131754b8abc"
      },
      "execution_count": null,
      "outputs": [
        {
          "output_type": "stream",
          "name": "stdout",
          "text": [
            "a == b:  False\n",
            "a != b:  True\n",
            "a > b:   False\n",
            "a < b:   True\n",
            "a <= b:  True\n",
            "a >= b:  False\n"
          ]
        }
      ]
    },
    {
      "cell_type": "code",
      "source": [
        "a = 5\n",
        "b = 6\n",
        "print(a < 7 and b < 10)     # and operator\n",
        "print((a < 5) and (b < 10)) # and operator \n",
        "                            # with parentheses\n",
        "print(a < 7 or b < 4)       # or operator\n",
        "print(not(a < 7 and b < 10))# not function"
      ],
      "metadata": {
        "colab": {
          "base_uri": "https://localhost:8080/"
        },
        "id": "bXlISbv4hXff",
        "outputId": "9a6389a6-83ce-4316-9e83-a29d990b6d11"
      },
      "execution_count": null,
      "outputs": [
        {
          "output_type": "stream",
          "name": "stdout",
          "text": [
            "True\n",
            "False\n",
            "True\n",
            "False\n"
          ]
        }
      ]
    },
    {
      "cell_type": "markdown",
      "source": [
        "## Input"
      ],
      "metadata": {
        "id": "bkWspvSChkHr"
      }
    },
    {
      "cell_type": "code",
      "source": [
        "input_number = input(\"Please enter a number: \")\n"
      ],
      "metadata": {
        "colab": {
          "base_uri": "https://localhost:8080/"
        },
        "id": "dh4gCPa4hixq",
        "outputId": "117e8622-6893-49e5-8955-76edc8dbff0a"
      },
      "execution_count": null,
      "outputs": [
        {
          "name": "stdout",
          "output_type": "stream",
          "text": [
            "Please enter a number: Bob\n"
          ]
        }
      ]
    },
    {
      "cell_type": "code",
      "source": [
        "name = input(\"Please enter your name: \")\n",
        "print(\"Hello \" + name + \"!\")"
      ],
      "metadata": {
        "colab": {
          "base_uri": "https://localhost:8080/"
        },
        "id": "quBEKGjWivHC",
        "outputId": "53d30f20-d0e3-441c-9a55-2be9542766c4"
      },
      "execution_count": null,
      "outputs": [
        {
          "output_type": "stream",
          "name": "stdout",
          "text": [
            "Please enter your name: bob\n",
            "Hello bob!\n"
          ]
        }
      ]
    },
    {
      "cell_type": "code",
      "source": [
        "a = input(\"Number 1: \")  # input \"1\"\n",
        "b = input(\"Number 2: \")  # input \"2\"\n",
        "print(a+b)               # output \"12\""
      ],
      "metadata": {
        "colab": {
          "base_uri": "https://localhost:8080/"
        },
        "id": "0bvaS4hKkP4q",
        "outputId": "307c79b9-1683-41be-f31d-3f190266b8ae"
      },
      "execution_count": null,
      "outputs": [
        {
          "output_type": "stream",
          "name": "stdout",
          "text": [
            "Number 1: 1\n",
            "Number 2: 2\n",
            "12\n"
          ]
        }
      ]
    },
    {
      "cell_type": "code",
      "source": [
        "input_number = int(input(\"Enter integer: \"))\n",
        "float_number = float(input(\"Ener float: \"))"
      ],
      "metadata": {
        "colab": {
          "base_uri": "https://localhost:8080/"
        },
        "id": "pIZd8qaZkXL8",
        "outputId": "35bb9870-a918-4ca8-973d-8e1a78893b2f"
      },
      "execution_count": null,
      "outputs": [
        {
          "name": "stdout",
          "output_type": "stream",
          "text": [
            "Enter integer: 10\n",
            "Ener float: 10\n"
          ]
        }
      ]
    },
    {
      "cell_type": "markdown",
      "source": [
        "## Math module"
      ],
      "metadata": {
        "id": "_oYFhwaHkgJB"
      }
    },
    {
      "cell_type": "code",
      "source": [
        "import math\n",
        "print(math.pi)       # output: 3.141592653589793"
      ],
      "metadata": {
        "colab": {
          "base_uri": "https://localhost:8080/"
        },
        "id": "V6tsfkzGkZ8-",
        "outputId": "6d26d4f6-af6a-4429-afe8-29aeeb50ebd7"
      },
      "execution_count": null,
      "outputs": [
        {
          "output_type": "stream",
          "name": "stdout",
          "text": [
            "3.141592653589793\n"
          ]
        }
      ]
    },
    {
      "cell_type": "code",
      "source": [
        "print(math.pi)    # 3.141592653589793\n",
        "print(math.tau)   # 6.283185307179586\n",
        "print(math.e)     # 2.718281828459045\n",
        "print(math.inf)   # inf\n",
        "print(math.nan)   # nan"
      ],
      "metadata": {
        "colab": {
          "base_uri": "https://localhost:8080/"
        },
        "id": "Ak-XkRVckjKe",
        "outputId": "b1763faa-17fb-4b07-8f66-9ce6039227a2"
      },
      "execution_count": null,
      "outputs": [
        {
          "output_type": "stream",
          "name": "stdout",
          "text": [
            "3.141592653589793\n",
            "6.283185307179586\n",
            "2.718281828459045\n",
            "inf\n",
            "nan\n"
          ]
        }
      ]
    },
    {
      "cell_type": "code",
      "source": [
        "math.sin(0.00)\n",
        "math.sin(-1.23)\n",
        "math.cos(10)\n",
        "math.tan(math.pi)\n",
        "math.sin(math.pi/2)"
      ],
      "metadata": {
        "colab": {
          "base_uri": "https://localhost:8080/"
        },
        "id": "YLPc0y5SknwL",
        "outputId": "88f75a33-ef19-4835-8f14-72ede3c2b9a3"
      },
      "execution_count": null,
      "outputs": [
        {
          "output_type": "execute_result",
          "data": {
            "text/plain": [
              "1.0"
            ]
          },
          "metadata": {},
          "execution_count": 29
        }
      ]
    },
    {
      "cell_type": "code",
      "source": [
        "math.log(10)           # log of 10\n",
        "math.sqrt(2)           # square root of 2\n",
        "math.ceil(2.33)        # round up\n",
        "math.degrees(math.pi)  # conversion from rad to deg\n",
        "math.radians(180)      # conversion for deg to rad"
      ],
      "metadata": {
        "id": "Jyq--c8XkvP1"
      },
      "execution_count": null,
      "outputs": []
    },
    {
      "cell_type": "markdown",
      "source": [
        "## Exercises"
      ],
      "metadata": {
        "id": "ch7_LV_9LUrn"
      }
    },
    {
      "cell_type": "markdown",
      "source": [
        "## Radius Circle\n",
        "Write a piece of code which asks for the radius of a circle $r$. Your program should compute the diameter $d$, area $A$ and circumference $u$. "
      ],
      "metadata": {
        "id": "juuHL4UHLV78"
      }
    },
    {
      "cell_type": "code",
      "source": [
        "## your solution here\n",
        "#\n",
        "#\n",
        "#\n",
        "#\n",
        "#"
      ],
      "metadata": {
        "id": "kvJpV2omMIM1"
      },
      "execution_count": 1,
      "outputs": []
    },
    {
      "cell_type": "markdown",
      "source": [
        "## Volume of a Sphere\n",
        "Write a piece of code which calculates the volume $V$ of a sphere, where you provide the radius $r$. "
      ],
      "metadata": {
        "id": "ErxV4oW5MKd1"
      }
    },
    {
      "cell_type": "code",
      "source": [
        "## your solution here\n",
        "#\n",
        "#\n",
        "#\n",
        "#\n",
        "#"
      ],
      "metadata": {
        "id": "fLA79RYWMa90"
      },
      "execution_count": 11,
      "outputs": []
    },
    {
      "cell_type": "markdown",
      "source": [
        "## Volume of a Cube\n",
        "\n",
        "Write a piece of code which calculates the volume of a cube, based on the length of an edge. \n",
        "\n",
        "\n"
      ],
      "metadata": {
        "id": "75wqv9bsNk2s"
      }
    },
    {
      "cell_type": "code",
      "source": [
        "## your solution here\n",
        "#\n",
        "#\n",
        "#\n",
        "#\n",
        "#"
      ],
      "metadata": {
        "id": "Tgm3JUz_NqPD"
      },
      "execution_count": 12,
      "outputs": []
    },
    {
      "cell_type": "markdown",
      "source": [
        "## Gas Consumption of a Car\n",
        "\n",
        "Use the following equation got calculate the sum of all natural numbers to a specified end value. \n",
        "\n",
        "$\\sum_{i=1}^n = \\dfrac{n \\cdot (n+1)}{2}$\n",
        "\n",
        "Input the number $n$ and provide the user a nicely formatted output. \n",
        "\n",
        "\n",
        "This task can also be solved by using loops; however, these are not taught till now in this course. \n",
        "\n"
      ],
      "metadata": {
        "id": "O_ZE74dkNJWJ"
      }
    },
    {
      "cell_type": "code",
      "source": [
        "## your solution here\n",
        "#\n",
        "#\n",
        "#\n",
        "#\n",
        "#"
      ],
      "metadata": {
        "id": "T843Yt6RNPPI"
      },
      "execution_count": 10,
      "outputs": []
    },
    {
      "cell_type": "markdown",
      "source": [
        "## Gravity\n",
        "\n",
        "In this task, we want to calculate the time $t$ and the velocity $v$ of an object falling from a certain hight $h$. The simplified equation for this -- without friction, aerodynamics or the coriolis force -- look like the following: \n",
        "\n",
        "$t(h) = \\sqrt{\\dfrac{2h}{g}}$ \n",
        "\n",
        "and\n",
        "\n",
        "$v(h) = \\sqrt{2hg}$\n",
        "\n",
        "Gravity is defined by $g = 9.81~\\dfrac{ \\text{m} }{\\text{s}^2}$ "
      ],
      "metadata": {
        "id": "qbKUDn71M-3a"
      }
    },
    {
      "cell_type": "code",
      "source": [
        "## your solution here\n",
        "#\n",
        "#\n",
        "#\n",
        "#\n",
        "#"
      ],
      "metadata": {
        "id": "rE697L4eNCfG"
      },
      "execution_count": 7,
      "outputs": []
    },
    {
      "cell_type": "markdown",
      "source": [
        "## Money and Interest\n",
        "\n",
        "Based on the following equation. You can calculate how much money you have after $n$ years. \n",
        "\n",
        "$K_n = K_0 \\cdot (1 + z/100)^n$\n",
        "\n",
        "where $K_0$ is the amount of money from the start and $z$ is the interest in percent. \n",
        "\n",
        "Implement this equation. "
      ],
      "metadata": {
        "id": "ZTttcIl1M4VW"
      }
    },
    {
      "cell_type": "code",
      "source": [
        "## your solution here\n",
        "#\n",
        "#\n",
        "#\n",
        "#\n",
        "#"
      ],
      "metadata": {
        "id": "HlQhsLSoM4mv"
      },
      "execution_count": 5,
      "outputs": []
    },
    {
      "cell_type": "code",
      "source": [],
      "metadata": {
        "id": "RR-orT5OM87I"
      },
      "execution_count": null,
      "outputs": []
    }
  ]
}