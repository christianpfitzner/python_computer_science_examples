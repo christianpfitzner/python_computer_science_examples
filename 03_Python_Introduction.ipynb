{
  "nbformat": 4,
  "nbformat_minor": 0,
  "metadata": {
    "colab": {
      "provenance": [],
      "collapsed_sections": [],
      "authorship_tag": "ABX9TyN1ZelfmeU4b77JkkZiQ2z3",
      "include_colab_link": true
    },
    "kernelspec": {
      "name": "python3",
      "display_name": "Python 3"
    },
    "language_info": {
      "name": "python"
    }
  },
  "cells": [
    {
      "cell_type": "markdown",
      "metadata": {
        "id": "view-in-github",
        "colab_type": "text"
      },
      "source": [
        "<a href=\"https://colab.research.google.com/github/christianpfitzner/python_computer_science_examples/blob/master/03_Python_Introduction.ipynb\" target=\"_parent\"><img src=\"https://colab.research.google.com/assets/colab-badge.svg\" alt=\"Open In Colab\"/></a>"
      ]
    },
    {
      "cell_type": "markdown",
      "source": [
        "# Introduction to Python"
      ],
      "metadata": {
        "id": "wFwkl4Gq1M66"
      }
    },
    {
      "cell_type": "code",
      "source": [
        "import this"
      ],
      "metadata": {
        "id": "8mpwu0QJzz6S"
      },
      "execution_count": null,
      "outputs": []
    },
    {
      "cell_type": "markdown",
      "source": [
        "## Output"
      ],
      "metadata": {
        "id": "CCbhgWJK4Smd"
      }
    },
    {
      "cell_type": "markdown",
      "source": [
        "A Hello World example exists in all programming languages and is often the smallest\n",
        "possible program with a tiny user interaction: The words ”Hello” and ”World” are\n",
        "displayed"
      ],
      "metadata": {
        "id": "-8xIABzOb3ZF"
      }
    },
    {
      "cell_type": "code",
      "source": [
        "print(\"Hello World\")"
      ],
      "metadata": {
        "id": "Y051gP0s0F3d"
      },
      "execution_count": null,
      "outputs": []
    },
    {
      "cell_type": "code",
      "source": [
        "print(\"Hello World\")\n",
        "print(\"Hello\", \"World\")\n",
        "print(\"Hello\", \"World\", sep=\" \")\n",
        "print(\"Hello\", \"World\", sep=\" \", end=\" \")"
      ],
      "metadata": {
        "id": "E-df9cMV1Jx1"
      },
      "execution_count": null,
      "outputs": []
    },
    {
      "cell_type": "code",
      "source": [
        "age = 20\n",
        "print(\"My age is %d\" % age)"
      ],
      "metadata": {
        "id": "avLIXNla3Ox1"
      },
      "execution_count": null,
      "outputs": []
    },
    {
      "cell_type": "code",
      "source": [
        "name = \"Bob\"\n",
        "print(\"My name is %s. I am %d years old\" % (name,age))"
      ],
      "metadata": {
        "id": "Z0zW6WNx3Y13"
      },
      "execution_count": null,
      "outputs": []
    },
    {
      "cell_type": "code",
      "source": [
        "print(\"I love {1}. It is a great {0}\".format(\"programming language\", \"Python\"))"
      ],
      "metadata": {
        "id": "OD-9z22q3aYi"
      },
      "execution_count": null,
      "outputs": []
    },
    {
      "cell_type": "code",
      "source": [
        "print(\"Number: {0:1d}\".format(123))   # Number: 123   \n",
        "print(\"Number: {0:2d}\".format(123))   # Number: 123\n",
        "print(\"Number: {0:3d}\".format(123))   # Number: 123\n",
        "print(\"Number: {0:4d}\".format(123))   # Number:  123\n",
        "print(\"Number: {0:5d}\".format(123))   # Number:   123   \n",
        "print(\"Number: {0:6d}\".format(123))   # Number:    123\n",
        "print(\"Number: {0:7d}\".format(123))   # Number:     123\n",
        "print(\"Number: {0:8d}\".format(123))   # Number:      123"
      ],
      "metadata": {
        "id": "IPvUPVGS3_Ab",
        "outputId": "cf6e59cf-970b-4944-9d86-d5290b07133d",
        "colab": {
          "base_uri": "https://localhost:8080/"
        }
      },
      "execution_count": 1,
      "outputs": [
        {
          "output_type": "stream",
          "name": "stdout",
          "text": [
            "Number: 123\n",
            "Number: 123\n",
            "Number: 123\n",
            "Number:  123\n",
            "Number:   123\n",
            "Number:    123\n",
            "Number:     123\n",
            "Number:      123\n"
          ]
        }
      ]
    },
    {
      "cell_type": "code",
      "source": [
        "a = 123.456789\n",
        "print(\"Float: {0:1.0f}\".format(a))   # Float: 123\n",
        "print(\"Float: {0:1.1f}\".format(a))   # Float: 123.5\n",
        "print(\"Float: {0:1.2f}\".format(a))   # Float: 123.46\n",
        "print(\"Float: {0:1.3f}\".format(a))   # Float: 123.457\n",
        "print(\"Float: {0:1.4f}\".format(a))   # Float: 123.4578\n",
        "print(\"Float: {0:1.5f}\".format(a))   # Float: 123.45789\n",
        "print(\"Float: {0:1.6f}\".format(a))   # Float: 123.457890\n",
        "print(\"Float: {0:1.7f}\".format(a))   # Float: 123.4578900\n",
        "print(\"Float: {0:1.8f}\".format(a))   # Float: 123.45789000\n",
        "print(\"Float: {0:1.9f}\".format(a))   # Float: 123.457890000"
      ],
      "metadata": {
        "id": "0uR5jGK-cOpJ",
        "outputId": "d8bddd2b-aa23-497e-f0b4-702620f41b4a",
        "colab": {
          "base_uri": "https://localhost:8080/"
        }
      },
      "execution_count": 2,
      "outputs": [
        {
          "output_type": "stream",
          "name": "stdout",
          "text": [
            "Float: 123\n",
            "Float: 123.5\n",
            "Float: 123.46\n",
            "Float: 123.457\n",
            "Float: 123.4568\n",
            "Float: 123.45679\n",
            "Float: 123.456789\n",
            "Float: 123.4567890\n",
            "Float: 123.45678900\n",
            "Float: 123.456789000\n"
          ]
        }
      ]
    },
    {
      "cell_type": "code",
      "source": [
        "print(\"Float: {0:4.2f}\".format(a))   # Float: 123.45\n",
        "print(\"Float: {0:5.2f}\".format(a))   # Float: 123.45\n",
        "print(\"Float: {0:6.2f}\".format(a))   # Float: 123.45\n",
        "print(\"Float: {0:7.2f}\".format(a))   # Float: 123.45\n",
        "print(\"Float: {0:8.2f}\".format(a))   # Float: 123.45\n",
        "print(\"Float: {0:9.2f}\".format(a))   # Float: 123.45\n",
        "print(\"Float: {0:10.2f}\".format(a))  # Float:  123.45\n",
        "print(\"Float: {0:11.2f}\".format(a))  # Float:   123.45\n",
        "print(\"Float: {0:12.2f}\".format(a))  # Float:     123.45\n",
        "print(\"Float: {0:13.2f}\".format(a))  # Float:      123.45\n",
        "print(\"Float: {0:14.2f}\".format(a))  # Float:       123.45\n",
        "print(\"Float: {0:15.2f}\".format(a))  # Float:        123.45\n",
        "print(\"Float: {0:16.2f}\".format(a))  # Float:         123.45"
      ],
      "metadata": {
        "id": "tme5L_bDcbNt",
        "outputId": "2138858c-7001-407b-dee3-f71d5bd1d498",
        "colab": {
          "base_uri": "https://localhost:8080/"
        }
      },
      "execution_count": 3,
      "outputs": [
        {
          "output_type": "stream",
          "name": "stdout",
          "text": [
            "Float: 123.46\n",
            "Float: 123.46\n",
            "Float: 123.46\n",
            "Float:  123.46\n",
            "Float:   123.46\n",
            "Float:    123.46\n",
            "Float:     123.46\n",
            "Float:      123.46\n",
            "Float:       123.46\n",
            "Float:        123.46\n",
            "Float:         123.46\n",
            "Float:          123.46\n",
            "Float:           123.46\n"
          ]
        }
      ]
    },
    {
      "cell_type": "markdown",
      "source": [
        "\n",
        "### f-String"
      ],
      "metadata": {
        "id": "bknsUo3BcoTD"
      }
    },
    {
      "cell_type": "code",
      "source": [
        "name = 'Chris'\n",
        "age = 34\n",
        "print(f\"Hello, My name is {name} and I'm {age} years old.\")"
      ],
      "metadata": {
        "id": "38FHrCRlcpZF"
      },
      "execution_count": null,
      "outputs": []
    },
    {
      "cell_type": "code",
      "source": [
        "a = 4\n",
        "b = 3\n",
        "print(f\"You can also do calculations: {a}+{b} = {a+b}\")"
      ],
      "metadata": {
        "id": "DKa4fZ63c7SF"
      },
      "execution_count": null,
      "outputs": []
    },
    {
      "cell_type": "markdown",
      "source": [
        "## Variables"
      ],
      "metadata": {
        "id": "e1iQVAcsdCIh"
      }
    },
    {
      "cell_type": "code",
      "source": [
        "a, b, c = 1, \"Hello\", 3.14\n",
        "print(a)\n",
        "print(b)\n",
        "print(c)"
      ],
      "metadata": {
        "id": "5-jOKvUOdY68"
      },
      "execution_count": null,
      "outputs": []
    },
    {
      "cell_type": "code",
      "source": [
        "variable_a = 1\n",
        "variable_b = 2\n",
        "variable_c = variable_a + variable_b\n",
        "print(variable_c)"
      ],
      "metadata": {
        "id": "as9GBPsTdDE5",
        "outputId": "b92b360b-ab3b-452b-a52f-aca6bc8d45ec",
        "colab": {
          "base_uri": "https://localhost:8080/"
        }
      },
      "execution_count": 4,
      "outputs": [
        {
          "output_type": "stream",
          "name": "stdout",
          "text": [
            "3\n"
          ]
        }
      ]
    },
    {
      "cell_type": "code",
      "source": [
        "x = \"great\"\n",
        "\n",
        "def myfunc():\n",
        "   print(\"Python is \" + x)\n",
        "\n",
        "myfunc()"
      ],
      "metadata": {
        "id": "8jeBqZ7kDxGV",
        "outputId": "76fc8b01-923c-4d61-cee9-c471ef30e0d5",
        "colab": {
          "base_uri": "https://localhost:8080/"
        }
      },
      "execution_count": 5,
      "outputs": [
        {
          "output_type": "stream",
          "name": "stdout",
          "text": [
            "Python is great\n"
          ]
        }
      ]
    },
    {
      "cell_type": "code",
      "source": [
        "x = \"awesome\"        # global variable\n",
        "def myfunc():\n",
        "   global x          # make global variable mutable\n",
        "   x = \"fantastic\"   # change value of global variable\n",
        "\n",
        "myfunc()\n",
        "print(\"Python is \" + x)"
      ],
      "metadata": {
        "id": "an8zQrG1DxZK",
        "outputId": "89a304fd-8eaf-4b36-c4b4-4845e72b1b1e",
        "colab": {
          "base_uri": "https://localhost:8080/"
        }
      },
      "execution_count": 6,
      "outputs": [
        {
          "output_type": "stream",
          "name": "stdout",
          "text": [
            "Python is fantastic\n"
          ]
        }
      ]
    },
    {
      "cell_type": "code",
      "source": [],
      "metadata": {
        "id": "905G4SY0D7Z-"
      },
      "execution_count": null,
      "outputs": []
    },
    {
      "cell_type": "markdown",
      "source": [
        "## Keywords"
      ],
      "metadata": {
        "id": "TJttx4VRdj8D"
      }
    },
    {
      "cell_type": "code",
      "source": [
        "# importing \"keyword\" for keyword operations\n",
        "import keyword\n",
        "  \n",
        "# printing all keywords at once using \"kwlist()\"\n",
        "print(\"The list of keywords is : \")\n",
        "print(keyword.kwlist)"
      ],
      "metadata": {
        "id": "_sJWLClrdIbE"
      },
      "execution_count": null,
      "outputs": []
    },
    {
      "cell_type": "markdown",
      "source": [
        "## Comments"
      ],
      "metadata": {
        "id": "azcvUY5vfsi7"
      }
    },
    {
      "cell_type": "code",
      "source": [
        "# this is a simple comment\n",
        "\n",
        "\"\"\"\n",
        "This is a comment over\n",
        "several lines. \n",
        "\"\"\""
      ],
      "metadata": {
        "id": "FYcw6yPXdmoE"
      },
      "execution_count": null,
      "outputs": []
    },
    {
      "cell_type": "code",
      "source": [
        "v = 30\n",
        "t = 1\n",
        "s = v * t     # multiply the variables \n",
        "              # v and t and store the result in s"
      ],
      "metadata": {
        "id": "V7AGQcXAfumH"
      },
      "execution_count": null,
      "outputs": []
    },
    {
      "cell_type": "markdown",
      "source": [
        "## Datatypes"
      ],
      "metadata": {
        "id": "IRvTzW9qgCER"
      }
    },
    {
      "cell_type": "code",
      "source": [
        "x = 1\n",
        "print(type(a))      # <class 'int'>"
      ],
      "metadata": {
        "id": "YrV2UDhPf-dW"
      },
      "execution_count": null,
      "outputs": []
    },
    {
      "cell_type": "code",
      "source": [
        "x = 1.0\n",
        "print(type(x))     # <class 'float'>"
      ],
      "metadata": {
        "id": "YYcuXx5Of43a"
      },
      "execution_count": null,
      "outputs": []
    },
    {
      "cell_type": "code",
      "source": [
        "x = 1              # define and init x as an integer\n",
        "y = float(x)       # cast x to a float and store it in y\n",
        "print(type(y))     # prints <class 'float'>\n",
        "\n",
        "z = 1.0            # define and init z as a float\n",
        "a = int(z)         # cast z to an int and store it in a \n",
        "print(type(a))     # prints <class 'int'>"
      ],
      "metadata": {
        "id": "sfy_dPTngSq4"
      },
      "execution_count": null,
      "outputs": []
    },
    {
      "cell_type": "code",
      "source": [
        "a = True\n",
        "b = False\n",
        "print(a,b)   # True False"
      ],
      "metadata": {
        "id": "cW5Uv2lzgYi6",
        "outputId": "17777471-4f18-42ee-a19f-c53acc432a71",
        "colab": {
          "base_uri": "https://localhost:8080/"
        }
      },
      "execution_count": 7,
      "outputs": [
        {
          "output_type": "stream",
          "name": "stdout",
          "text": [
            "True False\n"
          ]
        }
      ]
    },
    {
      "cell_type": "code",
      "source": [
        "bool(1)                           # True Integer\n",
        "bool(2.3)                         # True Float\n",
        "bool(\"Hello World\")               # True String\n",
        "bool([\"This\", \"is\", \"a\", \"list\"]) # True List"
      ],
      "metadata": {
        "id": "i1nMhz84EFS3",
        "outputId": "9a6c08cf-3a04-4be2-99ef-780062268191",
        "colab": {
          "base_uri": "https://localhost:8080/"
        }
      },
      "execution_count": 9,
      "outputs": [
        {
          "output_type": "execute_result",
          "data": {
            "text/plain": [
              "True"
            ]
          },
          "metadata": {},
          "execution_count": 9
        }
      ]
    },
    {
      "cell_type": "code",
      "source": [
        "bool(0)         # False Int\n",
        "bool(0.0)       # False Float\n",
        "bool(None)      # False None\n",
        "bool(\"\")        # False String\n",
        "bool([])        # False List\n",
        "bool(())        # False Tuple\n",
        "bool({})        # False Dictionary"
      ],
      "metadata": {
        "id": "zwwk_j5fEL8i",
        "outputId": "5e424418-5ac6-4dad-ca97-9039fb9b54ed",
        "colab": {
          "base_uri": "https://localhost:8080/"
        }
      },
      "execution_count": 10,
      "outputs": [
        {
          "output_type": "execute_result",
          "data": {
            "text/plain": [
              "False"
            ]
          },
          "metadata": {},
          "execution_count": 10
        }
      ]
    },
    {
      "cell_type": "markdown",
      "source": [
        "## Strings"
      ],
      "metadata": {
        "id": "7mojg-BCEVPg"
      }
    },
    {
      "cell_type": "code",
      "source": [
        "print(\"This is a valid string\")\n",
        "print('This is also a valid string')\n",
        "print('''This is a string\n",
        "which contains multiple lines''')"
      ],
      "metadata": {
        "id": "08mbVQmDgbIV",
        "outputId": "1d04ef27-85cb-4fb5-86e4-29421367cf07",
        "colab": {
          "base_uri": "https://localhost:8080/"
        }
      },
      "execution_count": 11,
      "outputs": [
        {
          "output_type": "stream",
          "name": "stdout",
          "text": [
            "This is a valid string\n",
            "This is also a valid string\n",
            "This is a string\n",
            "which contains multiple lines\n"
          ]
        }
      ]
    },
    {
      "cell_type": "code",
      "source": [
        "a = 1+2j\n",
        "print('a =',a)            # a = (2+3j) \n",
        "print('Type: ',type(a))   # Type: <class 'complex'>"
      ],
      "metadata": {
        "id": "V-rfnRlkgfS6"
      },
      "execution_count": null,
      "outputs": []
    },
    {
      "cell_type": "code",
      "source": [
        "import random\n",
        "rand_num = random.random()\n",
        "print (rand_num)"
      ],
      "metadata": {
        "id": "4G6OpjnFgrps"
      },
      "execution_count": null,
      "outputs": []
    },
    {
      "cell_type": "code",
      "source": [
        "random.randint(-1, 200)    # -1 to 200\n",
        "random.uniform(10.5, 20.5) # 10.5 to 20.5\n",
        "random.random()*4.5        # 0 to 4.5"
      ],
      "metadata": {
        "id": "FLXPfKMqg_cb"
      },
      "execution_count": null,
      "outputs": []
    },
    {
      "cell_type": "markdown",
      "source": [
        "## Operators"
      ],
      "metadata": {
        "id": "c7B8L_mchICi"
      }
    },
    {
      "cell_type": "code",
      "source": [
        "10 + 5      # addition\n",
        "10 - 4      # subtraction\n",
        "10 * 4      # multiplication \n",
        "10 / 4      # division\n",
        "10 % 4      # modulus\n",
        "10 ** 4     # exponential \n",
        "10 // 4     # floor division \n",
        "\n",
        "\n",
        "print(f\"4  + 5  =  {4  + 5}\")\n",
        "print(f\"10 - 4  =  {10 - 4}\")\n"
      ],
      "metadata": {
        "id": "mh8iQoFDhAmp"
      },
      "execution_count": null,
      "outputs": []
    },
    {
      "cell_type": "code",
      "source": [
        "a = 10          # assigning a variable to it\n",
        "a += 4          # same as a = a + 4\n",
        "a -= 10         # same as a = a - 10\n",
        "a *= 10         # same as a = a * 10\n",
        "a /= 3          # same as a = a / 3\n",
        "a %= 7          # same as a = a % 7\n",
        "a //= 2         # same as a = a // 2\n",
        "a **= 4         # same as a = a ** 4"
      ],
      "metadata": {
        "id": "si2aDVZchKGr"
      },
      "execution_count": null,
      "outputs": []
    },
    {
      "cell_type": "code",
      "source": [
        "a = 4\n",
        "b = 5\n",
        "print(\"a == b: \", a == b)   # equal\n",
        "print(\"a != b: \", a != b)   # unequal\n",
        "print(\"a > b:  \", a > b )    # bigger\n",
        "print(\"a < b:  \", a < b )    # smaller\n",
        "print(\"a <= b: \", a <= b)   # less or equal\n",
        "print(\"a >= b: \", a >= b)   # more or equal"
      ],
      "metadata": {
        "id": "-HlyPFcshSau"
      },
      "execution_count": null,
      "outputs": []
    },
    {
      "cell_type": "code",
      "source": [
        "a = 5\n",
        "b = 6\n",
        "print(a < 7 and b < 10)     # and operator\n",
        "print((a < 5) and (b < 10)) # and operator \n",
        "                            # with parentheses\n",
        "print(a < 7 or b < 4)       # or operator\n",
        "print(not(a < 7 and b < 10))# not function"
      ],
      "metadata": {
        "id": "bXlISbv4hXff"
      },
      "execution_count": null,
      "outputs": []
    },
    {
      "cell_type": "markdown",
      "source": [
        "## Input"
      ],
      "metadata": {
        "id": "bkWspvSChkHr"
      }
    },
    {
      "cell_type": "code",
      "source": [
        "input_number = input(\"Please enter a number: \")\n"
      ],
      "metadata": {
        "id": "dh4gCPa4hixq"
      },
      "execution_count": null,
      "outputs": []
    },
    {
      "cell_type": "code",
      "source": [
        "name = input(\"Please enter your name: \")\n",
        "print(\"Hello \" + name + \"!\")"
      ],
      "metadata": {
        "id": "quBEKGjWivHC"
      },
      "execution_count": null,
      "outputs": []
    },
    {
      "cell_type": "code",
      "source": [
        "a = input(\"Number 1: \")  # input \"1\"\n",
        "b = input(\"Number 2: \")  # input \"2\"\n",
        "print(a+b)               # output \"12\""
      ],
      "metadata": {
        "id": "0bvaS4hKkP4q"
      },
      "execution_count": null,
      "outputs": []
    },
    {
      "cell_type": "code",
      "source": [
        "input_number = int(input(\"Enter integer: \"))\n",
        "float_number = float(input(\"Ener float: \"))"
      ],
      "metadata": {
        "id": "pIZd8qaZkXL8"
      },
      "execution_count": null,
      "outputs": []
    },
    {
      "cell_type": "markdown",
      "source": [
        "## Math module"
      ],
      "metadata": {
        "id": "_oYFhwaHkgJB"
      }
    },
    {
      "cell_type": "code",
      "source": [
        "import math\n",
        "print(math.pi)       # output: 3.141592653589793"
      ],
      "metadata": {
        "id": "V6tsfkzGkZ8-"
      },
      "execution_count": null,
      "outputs": []
    },
    {
      "cell_type": "code",
      "source": [
        "print(math.pi)    # 3.141592653589793\n",
        "print(math.tau)   # 6.283185307179586\n",
        "print(math.e)     # 2.718281828459045\n",
        "print(math.inf)   # inf\n",
        "print(math.nan)   # nan"
      ],
      "metadata": {
        "id": "Ak-XkRVckjKe"
      },
      "execution_count": null,
      "outputs": []
    },
    {
      "cell_type": "code",
      "source": [
        "math.sin(0.00)\n",
        "math.sin(-1.23)\n",
        "math.cos(10)\n",
        "math.tan(math.pi)\n",
        "math.sin(math.pi/2)"
      ],
      "metadata": {
        "id": "YLPc0y5SknwL"
      },
      "execution_count": null,
      "outputs": []
    },
    {
      "cell_type": "code",
      "source": [
        "math.log(10)           # log of 10\n",
        "math.sqrt(2)           # square root of 2\n",
        "math.ceil(2.33)        # round up\n",
        "math.degrees(math.pi)  # conversion from rad to deg\n",
        "math.radians(180)      # conversion for deg to rad"
      ],
      "metadata": {
        "id": "Jyq--c8XkvP1"
      },
      "execution_count": null,
      "outputs": []
    },
    {
      "cell_type": "markdown",
      "source": [
        "# Exercises"
      ],
      "metadata": {
        "id": "ch7_LV_9LUrn"
      }
    },
    {
      "cell_type": "markdown",
      "source": [
        "## Radius Circle\n",
        "Write a piece of code which asks for the radius of a circle $r$. Your program should compute the diameter $d$, area $A$ and circumference $u$. "
      ],
      "metadata": {
        "id": "juuHL4UHLV78"
      }
    },
    {
      "cell_type": "code",
      "source": [
        "## your solution here\n",
        "#\n",
        "#\n",
        "#\n",
        "#\n",
        "#"
      ],
      "metadata": {
        "id": "kvJpV2omMIM1"
      },
      "execution_count": null,
      "outputs": []
    },
    {
      "cell_type": "markdown",
      "source": [
        "## Volume of a Sphere\n",
        "Write a piece of code which calculates the volume $V$ of a sphere, where you provide the radius $r$. "
      ],
      "metadata": {
        "id": "ErxV4oW5MKd1"
      }
    },
    {
      "cell_type": "code",
      "source": [
        "## your solution here\n",
        "#\n",
        "#\n",
        "#\n",
        "#\n",
        "#"
      ],
      "metadata": {
        "id": "fLA79RYWMa90"
      },
      "execution_count": null,
      "outputs": []
    },
    {
      "cell_type": "markdown",
      "source": [
        "## Volume of a Cube\n",
        "\n",
        "Write a piece of code which calculates the volume of a cube, based on the length of an edge. \n",
        "\n",
        "\n"
      ],
      "metadata": {
        "id": "75wqv9bsNk2s"
      }
    },
    {
      "cell_type": "code",
      "source": [
        "## your solution here\n",
        "#\n",
        "#\n",
        "#\n",
        "#\n",
        "#"
      ],
      "metadata": {
        "id": "Tgm3JUz_NqPD"
      },
      "execution_count": null,
      "outputs": []
    },
    {
      "cell_type": "markdown",
      "source": [
        "## Gas Consumption of a Car\n",
        "\n",
        "Use the following equation got calculate the sum of all natural numbers to a specified end value. \n",
        "\n",
        "$\\sum_{i=1}^n = \\dfrac{n \\cdot (n+1)}{2}$\n",
        "\n",
        "Input the number $n$ and provide the user a nicely formatted output. \n",
        "\n",
        "\n",
        "This task can also be solved by using loops; however, these are not taught till now in this course. \n",
        "\n"
      ],
      "metadata": {
        "id": "O_ZE74dkNJWJ"
      }
    },
    {
      "cell_type": "code",
      "source": [
        "## your solution here\n",
        "#\n",
        "#\n",
        "#\n",
        "#\n",
        "#"
      ],
      "metadata": {
        "id": "T843Yt6RNPPI"
      },
      "execution_count": null,
      "outputs": []
    },
    {
      "cell_type": "markdown",
      "source": [
        "## Gravity\n",
        "\n",
        "In this task, we want to calculate the time $t$ and the velocity $v$ of an object falling from a certain hight $h$. The simplified equation for this -- without friction, aerodynamics or the coriolis force -- look like the following: \n",
        "\n",
        "$t(h) = \\sqrt{\\dfrac{2h}{g}}$ \n",
        "\n",
        "and\n",
        "\n",
        "$v(h) = \\sqrt{2hg}$\n",
        "\n",
        "Gravity is defined by $g = 9.81~\\dfrac{ \\text{m} }{\\text{s}^2}$ "
      ],
      "metadata": {
        "id": "qbKUDn71M-3a"
      }
    },
    {
      "cell_type": "code",
      "source": [
        "## your solution here\n",
        "#\n",
        "#\n",
        "#\n",
        "#\n",
        "#"
      ],
      "metadata": {
        "id": "rE697L4eNCfG"
      },
      "execution_count": null,
      "outputs": []
    },
    {
      "cell_type": "markdown",
      "source": [
        "## Money and Interest\n",
        "\n",
        "Based on the following equation. You can calculate how much money you have after $n$ years. \n",
        "\n",
        "$K_n = K_0 \\cdot (1 + z/100)^n$\n",
        "\n",
        "where $K_0$ is the amount of money from the start and $z$ is the interest in percent. \n",
        "\n",
        "Implement this equation. "
      ],
      "metadata": {
        "id": "ZTttcIl1M4VW"
      }
    },
    {
      "cell_type": "code",
      "source": [
        "## your solution here\n",
        "#\n",
        "#\n",
        "#\n",
        "#\n",
        "#"
      ],
      "metadata": {
        "id": "HlQhsLSoM4mv"
      },
      "execution_count": null,
      "outputs": []
    }
  ]
}