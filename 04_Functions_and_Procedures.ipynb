{
  "cells": [
    {
      "cell_type": "markdown",
      "metadata": {
        "colab_type": "text",
        "id": "view-in-github"
      },
      "source": [
        "<a href=\"https://colab.research.google.com/github/christianpfitzner/python_computer_science_examples/blob/master/04_Functions_and_Procedures.ipynb\" target=\"_parent\"><img src=\"https://colab.research.google.com/assets/colab-badge.svg\" alt=\"Open In Colab\"/></a>"
      ]
    },
    {
      "cell_type": "markdown",
      "metadata": {
        "id": "SL-zle8mlKa3"
      },
      "source": [
        "# Functions"
      ]
    },
    {
      "cell_type": "code",
      "execution_count": null,
      "metadata": {
        "id": "ylAmKEY4lHdi"
      },
      "outputs": [],
      "source": [
        "def my_function():\n",
        "   print(\"Hello from a function\")\n",
        "   "
      ]
    },
    {
      "cell_type": "code",
      "execution_count": null,
      "metadata": {
        "colab": {
          "base_uri": "https://localhost:8080/"
        },
        "id": "OdtEH-rDlV8B",
        "outputId": "b6c6255e-593a-4c7c-8b21-8854e81aa1aa"
      },
      "outputs": [
        {
          "name": "stdout",
          "output_type": "stream",
          "text": [
            "Hello from a function\n"
          ]
        }
      ],
      "source": [
        "my_function()"
      ]
    },
    {
      "cell_type": "code",
      "execution_count": null,
      "metadata": {
        "colab": {
          "base_uri": "https://localhost:8080/"
        },
        "id": "L_l2cHmWlXD-",
        "outputId": "c0b07458-0619-49d0-bf13-5de4db242e74"
      },
      "outputs": [
        {
          "name": "stdout",
          "output_type": "stream",
          "text": [
            "I am from Sweden\n",
            "I am from India\n",
            "I am from Norway\n",
            "I am from Brazil\n"
          ]
        }
      ],
      "source": [
        "def my_function(country = \"Norway\"):\n",
        "  print(\"I am from \" + country)\n",
        "\n",
        "my_function(\"Sweden\")\n",
        "my_function(\"India\")\n",
        "my_function()\n",
        "my_function(\"Brazil\")\n",
        "\n"
      ]
    },
    {
      "cell_type": "code",
      "execution_count": null,
      "metadata": {
        "colab": {
          "base_uri": "https://localhost:8080/",
          "height": 339
        },
        "id": "VGXQRDI5lmwt",
        "outputId": "cb9f9abf-3954-4925-c432-9c3c6b3473ef"
      },
      "outputs": [
        {
          "name": "stdout",
          "output_type": "stream",
          "text": [
            "My first child is ['Bob', 'Eve', 'Sego']\n"
          ]
        },
        {
          "ename": "IndexError",
          "evalue": "ignored",
          "output_type": "error",
          "traceback": [
            "\u001b[0;31m---------------------------------------------------------------------------\u001b[0m",
            "\u001b[0;31mIndexError\u001b[0m                                Traceback (most recent call last)",
            "\u001b[0;32m<ipython-input-10-a6079d74aaa1>\u001b[0m in \u001b[0;36m<module>\u001b[0;34m\u001b[0m\n\u001b[1;32m      5\u001b[0m \u001b[0;34m\u001b[0m\u001b[0m\n\u001b[1;32m      6\u001b[0m \u001b[0mk\u001b[0m \u001b[0;34m=\u001b[0m \u001b[0;34m[\u001b[0m\u001b[0;34m\"Bob\"\u001b[0m\u001b[0;34m,\u001b[0m \u001b[0;34m\"Eve\"\u001b[0m\u001b[0;34m,\u001b[0m \u001b[0;34m\"Sego\"\u001b[0m\u001b[0;34m]\u001b[0m\u001b[0;34m\u001b[0m\u001b[0;34m\u001b[0m\u001b[0m\n\u001b[0;32m----> 7\u001b[0;31m \u001b[0mmy_function\u001b[0m\u001b[0;34m(\u001b[0m\u001b[0mk\u001b[0m\u001b[0;34m)\u001b[0m\u001b[0;34m\u001b[0m\u001b[0;34m\u001b[0m\u001b[0m\n\u001b[0m",
            "\u001b[0;32m<ipython-input-10-a6079d74aaa1>\u001b[0m in \u001b[0;36mmy_function\u001b[0;34m(*kids)\u001b[0m\n\u001b[1;32m      1\u001b[0m \u001b[0;32mdef\u001b[0m \u001b[0mmy_function\u001b[0m\u001b[0;34m(\u001b[0m\u001b[0;34m*\u001b[0m\u001b[0mkids\u001b[0m\u001b[0;34m)\u001b[0m\u001b[0;34m:\u001b[0m\u001b[0;34m\u001b[0m\u001b[0;34m\u001b[0m\u001b[0m\n\u001b[1;32m      2\u001b[0m    \u001b[0mprint\u001b[0m\u001b[0;34m(\u001b[0m\u001b[0;34m\"My first child is \"\u001b[0m  \u001b[0;34m+\u001b[0m \u001b[0mstr\u001b[0m\u001b[0;34m(\u001b[0m\u001b[0mkids\u001b[0m\u001b[0;34m[\u001b[0m\u001b[0;36m0\u001b[0m\u001b[0;34m]\u001b[0m\u001b[0;34m)\u001b[0m\u001b[0;34m)\u001b[0m\u001b[0;34m\u001b[0m\u001b[0;34m\u001b[0m\u001b[0m\n\u001b[0;32m----> 3\u001b[0;31m    \u001b[0mprint\u001b[0m\u001b[0;34m(\u001b[0m\u001b[0;34m\"My second child is \"\u001b[0m \u001b[0;34m+\u001b[0m \u001b[0mstr\u001b[0m\u001b[0;34m(\u001b[0m\u001b[0mkids\u001b[0m\u001b[0;34m[\u001b[0m\u001b[0;36m1\u001b[0m\u001b[0;34m]\u001b[0m\u001b[0;34m)\u001b[0m\u001b[0;34m)\u001b[0m\u001b[0;34m\u001b[0m\u001b[0;34m\u001b[0m\u001b[0m\n\u001b[0m\u001b[1;32m      4\u001b[0m \u001b[0;34m\u001b[0m\u001b[0m\n\u001b[1;32m      5\u001b[0m \u001b[0;34m\u001b[0m\u001b[0m\n",
            "\u001b[0;31mIndexError\u001b[0m: tuple index out of range"
          ]
        }
      ],
      "source": [
        "def my_function(*kids):\n",
        "   print(\"My first child is \"  + str(kids[0]))\n",
        "   print(\"My second child is \" + str(kids[1]))\n",
        "\n",
        "\n",
        "k = [\"Bob\", \"Eve\", \"Sego\"]\n",
        "my_function(k)"
      ]
    },
    {
      "cell_type": "code",
      "execution_count": null,
      "metadata": {
        "colab": {
          "base_uri": "https://localhost:8080/"
        },
        "id": "yDFISRNxl-71",
        "outputId": "f5ad6f86-f52f-41a2-ce22-a01b86a9eb70"
      },
      "outputs": [
        {
          "name": "stdout",
          "output_type": "stream",
          "text": [
            "15\n",
            "25\n",
            "45\n"
          ]
        }
      ],
      "source": [
        "def my_function(x):\n",
        "   return 5 * x\n",
        "\n",
        "print(my_function(3))\n",
        "print(my_function(5))\n",
        "print(my_function(9))"
      ]
    },
    {
      "cell_type": "markdown",
      "metadata": {
        "id": "YZnFRtS8m6_j"
      },
      "source": [
        "## Recursion"
      ]
    },
    {
      "cell_type": "code",
      "execution_count": null,
      "metadata": {
        "colab": {
          "base_uri": "https://localhost:8080/"
        },
        "id": "obJ15Z62mz3_",
        "outputId": "88ef5ca4-1a1b-400e-964c-af3666b910c1"
      },
      "outputs": [
        {
          "name": "stdout",
          "output_type": "stream",
          "text": [
            "120\n"
          ]
        }
      ],
      "source": [
        "def factorial(x):\n",
        "   if x == 1:\n",
        "      return 1\n",
        "   else:\n",
        "      return x * factorial(x-1)\n",
        "\n",
        "print(factorial(5))"
      ]
    },
    {
      "cell_type": "markdown",
      "metadata": {
        "id": "eAFpK2vanDax"
      },
      "source": [
        "## Lambda"
      ]
    },
    {
      "cell_type": "code",
      "execution_count": null,
      "metadata": {
        "id": "jHu6y18hm5h2"
      },
      "outputs": [],
      "source": [
        "def myfunc(n):\n",
        "   return lambda a : a * n"
      ]
    },
    {
      "cell_type": "code",
      "execution_count": null,
      "metadata": {
        "colab": {
          "base_uri": "https://localhost:8080/"
        },
        "id": "NluI3SXhnCxV",
        "outputId": "6c980e7f-12ac-40e3-f379-bfbc5e0a500e"
      },
      "outputs": [
        {
          "data": {
            "text/plain": [
              "33"
            ]
          },
          "execution_count": 16,
          "metadata": {},
          "output_type": "execute_result"
        }
      ],
      "source": [
        "mydoubler = myfunc(2)    \n",
        "mytripler = myfunc(3)\n",
        "mydoubler(11)   # return 22\n",
        "mytripler(11)   # return 33"
      ]
    },
    {
      "cell_type": "markdown",
      "metadata": {
        "id": "JQmN_BUDnREY"
      },
      "source": [
        "## IPO Model"
      ]
    },
    {
      "cell_type": "code",
      "execution_count": null,
      "metadata": {
        "colab": {
          "base_uri": "https://localhost:8080/"
        },
        "id": "-ZIrDmQ6nF6O",
        "outputId": "38d04236-b091-403c-f459-c832e9812e7a"
      },
      "outputs": [
        {
          "name": "stdout",
          "output_type": "stream",
          "text": [
            "Radius of circle in cm: 10\n",
            "Radius: 10.0, Area: 314.159\n"
          ]
        }
      ],
      "source": [
        "import math\n",
        "\n",
        "def user_input():\n",
        "   return float(input(\"Radius of circle in cm: \"))\n",
        "                  \n",
        "def calculate_area(radius):\n",
        "   return radius**2 * math.pi\n",
        "\n",
        "def user_output(radius, area):\n",
        "   print(\"Radius: {0}, Area: {1:3.3f}\".format(radius, area))\n",
        "                  \n",
        "radius = user_input()\n",
        "area   = calculate_area(radius)\n",
        "user_output(radius, area)"
      ]
    },
    {
      "cell_type": "markdown",
      "metadata": {
        "id": "moy7GkPknQPp"
      },
      "source": [
        "# Exercises\n",
        "\n"
      ]
    },
    {
      "cell_type": "markdown",
      "metadata": {
        "id": "C9camAaNZzF9"
      },
      "source": [
        "## Print the Name and Address\n",
        "Create a function `print_name()` that takes the name and street, house number, zip code and city and prints everything nicely formatted. \n",
        "\n",
        "Input: \n",
        "```python\n",
        "print_names(\"Peter Müller\", \"Esplanade\", 10, 85049, \"Ingolstadt\")\n",
        "```\n",
        "\n",
        "Output: \n",
        "```python\n",
        "Peter Müller\n",
        "Esplanade 10\n",
        "85049 Ingolstadt \n",
        "```\n",
        "\n",
        "\n",
        "\n",
        "\n"
      ]
    },
    {
      "cell_type": "code",
      "execution_count": 1,
      "metadata": {
        "id": "PW0RtM3Aamji"
      },
      "outputs": [],
      "source": [
        "## your solution here\n",
        "#\n",
        "#\n",
        "#\n",
        "#\n",
        "#\n",
        "#\n",
        "#\n",
        "#"
      ]
    },
    {
      "cell_type": "markdown",
      "metadata": {
        "id": "YOwV_AgSamyi"
      },
      "source": [
        "## Variable Length of Arguments\n",
        "\n",
        "Create a function `variable_func()` that accepts a variable length of integers and prints their values. \n",
        "\n",
        "Input: \n",
        "```python\n",
        "variable_func(10,20)\n",
        "variable_func(10,20,30)\n",
        "```\n",
        "\n",
        "Output: \n",
        "```python\n",
        "Values: \n",
        "10\n",
        "20\n",
        "\n",
        "Values: \n",
        "10\n",
        "20\n",
        "30\n",
        "```"
      ]
    },
    {
      "cell_type": "code",
      "execution_count": 2,
      "metadata": {
        "id": "rPTeo4gEa5eK"
      },
      "outputs": [],
      "source": [
        "## your solution here\n",
        "#\n",
        "#\n",
        "#\n",
        "#\n",
        "#\n",
        "#\n",
        "#\n",
        "#"
      ]
    },
    {
      "cell_type": "markdown",
      "metadata": {
        "id": "mlGWdpVsbVIK"
      },
      "source": [
        "## Default Argument\n",
        "Create a function `show_employee()` that accepts an employees name, as well as the salary. The name is a mandatory field. In case the salary is missing, the value for the salary should be assigned with 50,000. \n",
        "\n",
        "Input: \n",
        "```python\n",
        "show_employee(\"Ben\", 30000)\n",
        "show_employee(\"Tina\")\n",
        "```\n",
        "\n",
        "Output: \n",
        "```python\n",
        "Name:    Ben\n",
        "Salary:  30000\n",
        "\n",
        "Name:    Tina\n",
        "Salary   50000\n",
        "```\n",
        "\n",
        "\n"
      ]
    },
    {
      "cell_type": "code",
      "execution_count": 3,
      "metadata": {
        "id": "bGOsAabucB31"
      },
      "outputs": [],
      "source": [
        "## your solution here\n",
        "#\n",
        "#\n",
        "#\n",
        "#\n",
        "#\n",
        "#\n",
        "#\n",
        "#"
      ]
    },
    {
      "cell_type": "markdown",
      "metadata": {
        "id": "iJaW7AYPcCGu"
      },
      "source": [
        "## Return Max Value\n",
        "\n",
        "Create a function `ret_max()` which takes a variable amount of input arguments and returns the maximum number. \n",
        "\n",
        "\n",
        "\n",
        "Input: \n",
        "```python\n",
        "print(ret_max(30,-20, 55))\n",
        "\n",
        "print(ret_max(-2, 5, 30, 0, 100))\n",
        "```\n",
        "\n",
        "Output: \n",
        "```python\n",
        "55\n",
        "100\n",
        "```\n"
      ]
    },
    {
      "cell_type": "markdown",
      "metadata": {},
      "source": []
    },
    {
      "cell_type": "code",
      "execution_count": 4,
      "metadata": {
        "id": "yXJnDf6XckUF"
      },
      "outputs": [],
      "source": [
        "## your solution here\n",
        "#\n",
        "#\n",
        "#\n",
        "#\n",
        "#\n",
        "#\n",
        "#\n",
        "#"
      ]
    },
    {
      "cell_type": "markdown",
      "metadata": {
        "id": "SMH-MjUncl7D"
      },
      "source": [
        "## Triangle\n",
        "\n",
        "Write a function `triangle()`which takes two sides of a triangle ($b$, $c$) and the angle between them $\\alpha_{deg}$. The function should calculate the length of the opposite line $a$. \n",
        "\n",
        "The function takes the two sides, $b$ and $c$, as well as the angle $\\alpha$ in degrees (!). You can assume that only valid values are forwarded. \n",
        "\n",
        "\n",
        "The length of the side $a$ and the area $f$ is calculated by the following formula\n",
        "\n",
        "\n",
        "$$ a^2 = b^2 + c^2 - 2\\cdot b \\cdot c \\cdot \\cos (\\alpha_{rad}) $$\n",
        "\n",
        "\n",
        "and the area is calculated by \n",
        "\n",
        "\n",
        "$$ f = \\dfrac{1}{2} \\cdot b \\cdot c \\cdot \\sin(\\alpha_{rad}) $$\n",
        "\n",
        "Please note, that here $a^2$ is calculated, while we want $a$. \n",
        "\n",
        "Use the math module to solve this exercise. "
      ]
    },
    {
      "cell_type": "code",
      "execution_count": 5,
      "metadata": {
        "id": "ARjoAuODjSFs"
      },
      "outputs": [],
      "source": [
        "## your solution here\n",
        "#\n",
        "#\n",
        "#\n",
        "#\n",
        "#\n",
        "#\n",
        "#\n",
        "#"
      ]
    },
    {
      "cell_type": "code",
      "execution_count": null,
      "metadata": {
        "id": "wWZwg4Fcj54i"
      },
      "outputs": [],
      "source": []
    }
  ],
  "metadata": {
    "colab": {
      "authorship_tag": "ABX9TyM3JDcUp76ZkstlsuEFAp8+",
      "collapsed_sections": [],
      "include_colab_link": true,
      "provenance": []
    },
    "kernelspec": {
      "display_name": "Python 3",
      "name": "python3"
    },
    "language_info": {
      "name": "python"
    }
  },
  "nbformat": 4,
  "nbformat_minor": 0
}
