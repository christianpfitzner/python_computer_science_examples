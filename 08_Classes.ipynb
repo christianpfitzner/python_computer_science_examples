{
  "nbformat": 4,
  "nbformat_minor": 0,
  "metadata": {
    "colab": {
      "provenance": [],
      "collapsed_sections": [],
      "authorship_tag": "ABX9TyNDA8PwEOxXPTujU2EbHrHy",
      "include_colab_link": true
    },
    "kernelspec": {
      "name": "python3",
      "display_name": "Python 3"
    },
    "language_info": {
      "name": "python"
    }
  },
  "cells": [
    {
      "cell_type": "markdown",
      "metadata": {
        "id": "view-in-github",
        "colab_type": "text"
      },
      "source": [
        "<a href=\"https://colab.research.google.com/github/christianpfitzner/python_computer_science_examples/blob/master/08_Classes.ipynb\" target=\"_parent\"><img src=\"https://colab.research.google.com/assets/colab-badge.svg\" alt=\"Open In Colab\"/></a>"
      ]
    },
    {
      "cell_type": "markdown",
      "source": [
        "# Classes"
      ],
      "metadata": {
        "id": "4nSVvrDNAZWF"
      }
    },
    {
      "cell_type": "code",
      "source": [
        "class MyClass:\n",
        "   pass"
      ],
      "metadata": {
        "id": "4qOVUKdUAo0L"
      },
      "execution_count": 1,
      "outputs": []
    },
    {
      "cell_type": "code",
      "source": [
        "my_class = MyClass()"
      ],
      "metadata": {
        "id": "4WgGjCXMAq4a"
      },
      "execution_count": 2,
      "outputs": []
    },
    {
      "cell_type": "code",
      "source": [
        "type(my_class) # <class '__main__.MyClass'>"
      ],
      "metadata": {
        "colab": {
          "base_uri": "https://localhost:8080/"
        },
        "id": "nQvtnl7YAvvs",
        "outputId": "ba454d38-fab9-4d01-d25d-5c9b0df9247e"
      },
      "execution_count": 3,
      "outputs": [
        {
          "output_type": "execute_result",
          "data": {
            "text/plain": [
              "__main__.MyClass"
            ]
          },
          "metadata": {},
          "execution_count": 3
        }
      ]
    },
    {
      "cell_type": "code",
      "source": [
        "my_class = MyClass()\n",
        "my_class.variable_a = 1\n",
        "my_class.variable_b = \"Hello World\""
      ],
      "metadata": {
        "id": "YgCUylZQAzrU"
      },
      "execution_count": 4,
      "outputs": []
    },
    {
      "cell_type": "code",
      "source": [
        "class Person:\n",
        "   # constructor of the class Person\n",
        "   def __init__(self, name, age):\n",
        "      self.name = name\n",
        "      self.age  = age"
      ],
      "metadata": {
        "id": "W2Sg5VnuA6uZ"
      },
      "execution_count": 5,
      "outputs": []
    },
    {
      "cell_type": "code",
      "source": [
        "person = Person(\"John\", 36)\n",
        "print(person.name)   # John\n",
        "print(person.age)    # 36"
      ],
      "metadata": {
        "colab": {
          "base_uri": "https://localhost:8080/"
        },
        "id": "lbkfLVuyBD4a",
        "outputId": "87688866-ebbc-4d5e-c44e-065ccc1f5481"
      },
      "execution_count": 6,
      "outputs": [
        {
          "output_type": "stream",
          "name": "stdout",
          "text": [
            "John\n",
            "36\n"
          ]
        }
      ]
    },
    {
      "cell_type": "code",
      "source": [
        "person.name = \"Jane\"\n",
        "person.age  = 37"
      ],
      "metadata": {
        "id": "dKVmuNPzBJN1"
      },
      "execution_count": 7,
      "outputs": []
    },
    {
      "cell_type": "code",
      "source": [
        "class Person:\n",
        "   # constructor of the class Person\n",
        "   def __init__(self, name, age):\n",
        "      self.name = name\n",
        "      self.age  = age\n",
        "\n",
        "   def print_person(self):\n",
        "      print(\"Name: \"+self.name+\"Age: \"+str(self.age))"
      ],
      "metadata": {
        "id": "Vn15XeMaBN4s"
      },
      "execution_count": 8,
      "outputs": []
    },
    {
      "cell_type": "code",
      "source": [
        "person = Person(\"John\", 36)\n",
        "person.print_person()      # Name: John  Age: 36"
      ],
      "metadata": {
        "colab": {
          "base_uri": "https://localhost:8080/"
        },
        "id": "sJpSep8_BZaa",
        "outputId": "4ec35ac8-afaa-421f-8707-aa1da8a07f5d"
      },
      "execution_count": 9,
      "outputs": [
        {
          "output_type": "stream",
          "name": "stdout",
          "text": [
            "Name: JohnAge: 36\n"
          ]
        }
      ]
    },
    {
      "cell_type": "code",
      "source": [
        "class Person: \n",
        "   def __init__(self, name, age):\n",
        "       self._name = name\n",
        "       self._age  = age\n",
        "       \n",
        "tim = Person(\"Tim\", 22)\n",
        "tim._name    # Still accessible from outside of the class"
      ],
      "metadata": {
        "colab": {
          "base_uri": "https://localhost:8080/",
          "height": 35
        },
        "id": "n2thP1iTBlhl",
        "outputId": "3289b96b-ec18-440c-abcd-5c5949bf35a2"
      },
      "execution_count": 10,
      "outputs": [
        {
          "output_type": "execute_result",
          "data": {
            "text/plain": [
              "'Tim'"
            ],
            "application/vnd.google.colaboratory.intrinsic+json": {
              "type": "string"
            }
          },
          "metadata": {},
          "execution_count": 10
        }
      ]
    },
    {
      "cell_type": "code",
      "source": [
        "class Person:\n",
        "   def __init__(self, name, age):\n",
        "      self.__name = name\n",
        "      self.__age  = age"
      ],
      "metadata": {
        "id": "VAYxgGu3ByDz"
      },
      "execution_count": 11,
      "outputs": []
    },
    {
      "cell_type": "code",
      "source": [
        "person = Person(\"John\", 36)\n",
        "print(person.__name)   # AttributeError: 'Person' object \n",
        "                       #  has no attribute '__name'\n",
        "print(person.__age)    # AttributeError: 'Person' object \n",
        "                       #  has no attribute '__age'   "
      ],
      "metadata": {
        "colab": {
          "base_uri": "https://localhost:8080/",
          "height": 235
        },
        "id": "hK9qMDgFByZE",
        "outputId": "097e6cec-6110-46a3-9791-7a6cfb499544"
      },
      "execution_count": 13,
      "outputs": [
        {
          "output_type": "error",
          "ename": "AttributeError",
          "evalue": "ignored",
          "traceback": [
            "\u001b[0;31m---------------------------------------------------------------------------\u001b[0m",
            "\u001b[0;31mAttributeError\u001b[0m                            Traceback (most recent call last)",
            "\u001b[0;32m<ipython-input-13-15f02c744ccb>\u001b[0m in \u001b[0;36m<module>\u001b[0;34m\u001b[0m\n\u001b[1;32m      1\u001b[0m \u001b[0mperson\u001b[0m \u001b[0;34m=\u001b[0m \u001b[0mPerson\u001b[0m\u001b[0;34m(\u001b[0m\u001b[0;34m\"John\"\u001b[0m\u001b[0;34m,\u001b[0m \u001b[0;36m36\u001b[0m\u001b[0;34m)\u001b[0m\u001b[0;34m\u001b[0m\u001b[0;34m\u001b[0m\u001b[0m\n\u001b[0;32m----> 2\u001b[0;31m \u001b[0mprint\u001b[0m\u001b[0;34m(\u001b[0m\u001b[0mperson\u001b[0m\u001b[0;34m.\u001b[0m\u001b[0m__name\u001b[0m\u001b[0;34m)\u001b[0m   \u001b[0;31m# AttributeError: 'Person' object\u001b[0m\u001b[0;34m\u001b[0m\u001b[0;34m\u001b[0m\u001b[0m\n\u001b[0m\u001b[1;32m      3\u001b[0m                        \u001b[0;31m#  has no attribute '__name'\u001b[0m\u001b[0;34m\u001b[0m\u001b[0;34m\u001b[0m\u001b[0;34m\u001b[0m\u001b[0m\n\u001b[1;32m      4\u001b[0m \u001b[0mprint\u001b[0m\u001b[0;34m(\u001b[0m\u001b[0mperson\u001b[0m\u001b[0;34m.\u001b[0m\u001b[0m__age\u001b[0m\u001b[0;34m)\u001b[0m    \u001b[0;31m# AttributeError: 'Person' object\u001b[0m\u001b[0;34m\u001b[0m\u001b[0;34m\u001b[0m\u001b[0m\n\u001b[1;32m      5\u001b[0m                        \u001b[0;31m#  has no attribute '__age'\u001b[0m\u001b[0;34m\u001b[0m\u001b[0;34m\u001b[0m\u001b[0;34m\u001b[0m\u001b[0m\n",
            "\u001b[0;31mAttributeError\u001b[0m: 'Person' object has no attribute '__name'"
          ]
        }
      ]
    },
    {
      "cell_type": "markdown",
      "source": [
        "## Overload Operators"
      ],
      "metadata": {
        "id": "g3EsISwSCD_c"
      }
    },
    {
      "cell_type": "code",
      "source": [
        "class Person: \n",
        "  def __init__(self, name, age):\n",
        "    self.name = name\n",
        "    self.age  = age\n",
        "  def __str__(self):\n",
        "    return \"Name: \"+self.name+\" Age: \"+str(self.age)"
      ],
      "metadata": {
        "id": "M7nU6pkgBzwM"
      },
      "execution_count": 16,
      "outputs": []
    },
    {
      "cell_type": "code",
      "source": [
        "person = Person(\"John\", 36)\n",
        "print(person)   # Name: John  Age: 36"
      ],
      "metadata": {
        "colab": {
          "base_uri": "https://localhost:8080/"
        },
        "id": "BxK6PYENCQzP",
        "outputId": "afe66065-7a0f-47ca-fe17-ed2d732680dc"
      },
      "execution_count": 17,
      "outputs": [
        {
          "output_type": "stream",
          "name": "stdout",
          "text": [
            "Name: John Age: 36\n"
          ]
        }
      ]
    },
    {
      "cell_type": "code",
      "source": [],
      "metadata": {
        "id": "RESH94IeCRIv"
      },
      "execution_count": null,
      "outputs": []
    },
    {
      "cell_type": "code",
      "source": [
        "class Vector2D:\n",
        "   def __init__(self, x, y):\n",
        "      self.x = x\n",
        "      self.y = y\n",
        "\n",
        "   def __add__(self, other):\n",
        "      return Vector2D(self.x + other.x, self.y + other.y)"
      ],
      "metadata": {
        "id": "dQGvbT71_-Ic"
      },
      "execution_count": null,
      "outputs": []
    },
    {
      "cell_type": "code",
      "source": [
        "v1 = Vector2D(1, 2)\n",
        "v2 = Vector2D(3, 4)\n",
        "v3 = v1 + v2     # v3 = Vector2D(4, 6)"
      ],
      "metadata": {
        "id": "4ymyplnDG7Hi"
      },
      "execution_count": null,
      "outputs": []
    },
    {
      "cell_type": "code",
      "source": [
        "class Vector2D:\n",
        "   def __init__(self, x, y):\n",
        "      self.x = x\n",
        "      self.y = y\n",
        "   def __add__(self, other):\n",
        "      return Vector2D(self.x + other.x, self.y + other.y)\n",
        "   def __sub__(self, other):\n",
        "      return Vector2D(self.x - other.x, self.y - other.y)\n",
        "   def __mul__(self, other):\n",
        "      return Vector2D(self.x * other.x, self.y * other.y)\n",
        "   def __truediv__(self, other):\n",
        "      return Vector2D(self.x / other.x, self.y / other.y)\n",
        "   def __str__(self):\n",
        "      return \"(\"+str(self.x)+\", \"+str(self.y)+\")\""
      ],
      "metadata": {
        "id": "JgV7gBpQG_yf"
      },
      "execution_count": null,
      "outputs": []
    },
    {
      "cell_type": "code",
      "source": [
        "class Student: \n",
        "   def __init__(self, name, id):\n",
        "       self.name = name\n",
        "       self.id   = id\n",
        "   def __eq__(self, other):\n",
        "       name_equal = self.name == other.name\n",
        "       id_equal   = self.id   == other.id\n",
        "       if(name_equal and id_equal):\n",
        "            return True\n",
        "       else: \n",
        "            return False"
      ],
      "metadata": {
        "id": "3o_kFFKpHFKy"
      },
      "execution_count": null,
      "outputs": []
    },
    {
      "cell_type": "markdown",
      "source": [
        "## Inheritance "
      ],
      "metadata": {
        "id": "gwJT6ucaHJpv"
      }
    },
    {
      "cell_type": "code",
      "source": [
        "class Student(Person):\n",
        "   def __init__(self, name, age, student_id, uni):\n",
        "      Person.__init__(self, name, age)\n",
        "      self.student_id = student_id\n",
        "      self.uni        = uni"
      ],
      "metadata": {
        "id": "35SdfU-kHgE3"
      },
      "execution_count": 18,
      "outputs": []
    },
    {
      "cell_type": "code",
      "source": [
        "   def print_student(self):\n",
        "      # call the print_person method of the base class\n",
        "      Person.print_person(self)              \n",
        "      # print the student id\n",
        "      print(\"Student ID: \" + self.student_id)  \n",
        "      # print the university\n",
        "      print(\"University: \" + self.uni) "
      ],
      "metadata": {
        "id": "VqNSTk2hHgTT"
      },
      "execution_count": 19,
      "outputs": []
    },
    {
      "cell_type": "code",
      "source": [
        "isinstance(1, int)          # True\n",
        "isinstance(1, float)        # False"
      ],
      "metadata": {
        "colab": {
          "base_uri": "https://localhost:8080/"
        },
        "id": "E21ZkyIQILQt",
        "outputId": "aaa4c8bf-3d46-4d47-dcd2-749fce2f54a5"
      },
      "execution_count": 20,
      "outputs": [
        {
          "output_type": "execute_result",
          "data": {
            "text/plain": [
              "False"
            ]
          },
          "metadata": {},
          "execution_count": 20
        }
      ]
    },
    {
      "cell_type": "code",
      "source": [
        "class A:       \n",
        "   pass           \n",
        "\n",
        "class B(A): \n",
        "   pass\n",
        "\n",
        "a = A()\n",
        "b = B()\n",
        "\n",
        "isinstance(a,A)   # True\n",
        "issubclass(A,B)   # False"
      ],
      "metadata": {
        "colab": {
          "base_uri": "https://localhost:8080/"
        },
        "id": "aiEIXxIZIRWg",
        "outputId": "afee4155-baa0-4827-e6ad-aa1e28fd2d55"
      },
      "execution_count": 22,
      "outputs": [
        {
          "output_type": "execute_result",
          "data": {
            "text/plain": [
              "False"
            ]
          },
          "metadata": {},
          "execution_count": 22
        }
      ]
    },
    {
      "cell_type": "code",
      "source": [],
      "metadata": {
        "id": "zUCnFcsVIWO4"
      },
      "execution_count": null,
      "outputs": []
    }
  ]
}