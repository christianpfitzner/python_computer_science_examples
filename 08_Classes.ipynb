{
  "cells": [
    {
      "cell_type": "markdown",
      "metadata": {
        "colab_type": "text",
        "id": "view-in-github"
      },
      "source": [
        "<a href=\"https://colab.research.google.com/github/christianpfitzner/python_computer_science_examples/blob/master/08_Classes.ipynb\" target=\"_parent\"><img src=\"https://colab.research.google.com/assets/colab-badge.svg\" alt=\"Open In Colab\"/></a>"
      ]
    },
    {
      "cell_type": "markdown",
      "metadata": {
        "id": "4nSVvrDNAZWF"
      },
      "source": [
        "# Classes"
      ]
    },
    {
      "cell_type": "code",
      "execution_count": 1,
      "metadata": {
        "id": "4qOVUKdUAo0L"
      },
      "outputs": [],
      "source": [
        "class MyClass:\n",
        "   pass"
      ]
    },
    {
      "cell_type": "code",
      "execution_count": 2,
      "metadata": {
        "id": "4WgGjCXMAq4a"
      },
      "outputs": [],
      "source": [
        "my_class = MyClass()"
      ]
    },
    {
      "cell_type": "code",
      "execution_count": 3,
      "metadata": {
        "colab": {
          "base_uri": "https://localhost:8080/"
        },
        "id": "nQvtnl7YAvvs",
        "outputId": "ba454d38-fab9-4d01-d25d-5c9b0df9247e"
      },
      "outputs": [
        {
          "data": {
            "text/plain": [
              "__main__.MyClass"
            ]
          },
          "execution_count": 3,
          "metadata": {},
          "output_type": "execute_result"
        }
      ],
      "source": [
        "type(my_class) # <class '__main__.MyClass'>"
      ]
    },
    {
      "cell_type": "code",
      "execution_count": 4,
      "metadata": {
        "id": "YgCUylZQAzrU"
      },
      "outputs": [],
      "source": [
        "my_class = MyClass()\n",
        "my_class.variable_a = 1\n",
        "my_class.variable_b = \"Hello World\""
      ]
    },
    {
      "cell_type": "code",
      "execution_count": 5,
      "metadata": {
        "id": "W2Sg5VnuA6uZ"
      },
      "outputs": [],
      "source": [
        "class Person:\n",
        "   # constructor of the class Person\n",
        "   def __init__(self, name, age):\n",
        "      self.name = name\n",
        "      self.age  = age"
      ]
    },
    {
      "cell_type": "code",
      "execution_count": 6,
      "metadata": {
        "colab": {
          "base_uri": "https://localhost:8080/"
        },
        "id": "lbkfLVuyBD4a",
        "outputId": "87688866-ebbc-4d5e-c44e-065ccc1f5481"
      },
      "outputs": [
        {
          "name": "stdout",
          "output_type": "stream",
          "text": [
            "John\n",
            "36\n"
          ]
        }
      ],
      "source": [
        "person = Person(\"John\", 36)\n",
        "print(person.name)   # John\n",
        "print(person.age)    # 36"
      ]
    },
    {
      "cell_type": "code",
      "execution_count": 7,
      "metadata": {
        "id": "dKVmuNPzBJN1"
      },
      "outputs": [],
      "source": [
        "person.name = \"Jane\"\n",
        "person.age  = 37"
      ]
    },
    {
      "cell_type": "code",
      "execution_count": 8,
      "metadata": {
        "id": "Vn15XeMaBN4s"
      },
      "outputs": [],
      "source": [
        "class Person:\n",
        "   # constructor of the class Person\n",
        "   def __init__(self, name, age):\n",
        "      self.name = name\n",
        "      self.age  = age\n",
        "\n",
        "   def print_person(self):\n",
        "      print(\"Name: \"+self.name+\"Age: \"+str(self.age))"
      ]
    },
    {
      "cell_type": "code",
      "execution_count": 9,
      "metadata": {
        "colab": {
          "base_uri": "https://localhost:8080/"
        },
        "id": "sJpSep8_BZaa",
        "outputId": "4ec35ac8-afaa-421f-8707-aa1da8a07f5d"
      },
      "outputs": [
        {
          "name": "stdout",
          "output_type": "stream",
          "text": [
            "Name: JohnAge: 36\n"
          ]
        }
      ],
      "source": [
        "person = Person(\"John\", 36)\n",
        "person.print_person()      # Name: John  Age: 36"
      ]
    },
    {
      "cell_type": "code",
      "execution_count": 10,
      "metadata": {
        "colab": {
          "base_uri": "https://localhost:8080/",
          "height": 35
        },
        "id": "n2thP1iTBlhl",
        "outputId": "3289b96b-ec18-440c-abcd-5c5949bf35a2"
      },
      "outputs": [
        {
          "data": {
            "application/vnd.google.colaboratory.intrinsic+json": {
              "type": "string"
            },
            "text/plain": [
              "'Tim'"
            ]
          },
          "execution_count": 10,
          "metadata": {},
          "output_type": "execute_result"
        }
      ],
      "source": [
        "class Person: \n",
        "   def __init__(self, name, age):\n",
        "       self._name = name\n",
        "       self._age  = age\n",
        "       \n",
        "tim = Person(\"Tim\", 22)\n",
        "tim._name    # Still accessible from outside of the class"
      ]
    },
    {
      "cell_type": "code",
      "execution_count": 11,
      "metadata": {
        "id": "VAYxgGu3ByDz"
      },
      "outputs": [],
      "source": [
        "class Person:\n",
        "   def __init__(self, name, age):\n",
        "      self.__name = name\n",
        "      self.__age  = age"
      ]
    },
    {
      "cell_type": "code",
      "execution_count": 13,
      "metadata": {
        "colab": {
          "base_uri": "https://localhost:8080/",
          "height": 235
        },
        "id": "hK9qMDgFByZE",
        "outputId": "097e6cec-6110-46a3-9791-7a6cfb499544"
      },
      "outputs": [
        {
          "ename": "AttributeError",
          "evalue": "ignored",
          "output_type": "error",
          "traceback": [
            "\u001b[0;31m---------------------------------------------------------------------------\u001b[0m",
            "\u001b[0;31mAttributeError\u001b[0m                            Traceback (most recent call last)",
            "\u001b[0;32m<ipython-input-13-15f02c744ccb>\u001b[0m in \u001b[0;36m<module>\u001b[0;34m\u001b[0m\n\u001b[1;32m      1\u001b[0m \u001b[0mperson\u001b[0m \u001b[0;34m=\u001b[0m \u001b[0mPerson\u001b[0m\u001b[0;34m(\u001b[0m\u001b[0;34m\"John\"\u001b[0m\u001b[0;34m,\u001b[0m \u001b[0;36m36\u001b[0m\u001b[0;34m)\u001b[0m\u001b[0;34m\u001b[0m\u001b[0;34m\u001b[0m\u001b[0m\n\u001b[0;32m----> 2\u001b[0;31m \u001b[0mprint\u001b[0m\u001b[0;34m(\u001b[0m\u001b[0mperson\u001b[0m\u001b[0;34m.\u001b[0m\u001b[0m__name\u001b[0m\u001b[0;34m)\u001b[0m   \u001b[0;31m# AttributeError: 'Person' object\u001b[0m\u001b[0;34m\u001b[0m\u001b[0;34m\u001b[0m\u001b[0m\n\u001b[0m\u001b[1;32m      3\u001b[0m                        \u001b[0;31m#  has no attribute '__name'\u001b[0m\u001b[0;34m\u001b[0m\u001b[0;34m\u001b[0m\u001b[0;34m\u001b[0m\u001b[0m\n\u001b[1;32m      4\u001b[0m \u001b[0mprint\u001b[0m\u001b[0;34m(\u001b[0m\u001b[0mperson\u001b[0m\u001b[0;34m.\u001b[0m\u001b[0m__age\u001b[0m\u001b[0;34m)\u001b[0m    \u001b[0;31m# AttributeError: 'Person' object\u001b[0m\u001b[0;34m\u001b[0m\u001b[0;34m\u001b[0m\u001b[0m\n\u001b[1;32m      5\u001b[0m                        \u001b[0;31m#  has no attribute '__age'\u001b[0m\u001b[0;34m\u001b[0m\u001b[0;34m\u001b[0m\u001b[0;34m\u001b[0m\u001b[0m\n",
            "\u001b[0;31mAttributeError\u001b[0m: 'Person' object has no attribute '__name'"
          ]
        }
      ],
      "source": [
        "person = Person(\"John\", 36)\n",
        "print(person.__name)   # AttributeError: 'Person' object \n",
        "                       #  has no attribute '__name'\n",
        "print(person.__age)    # AttributeError: 'Person' object \n",
        "                       #  has no attribute '__age'   "
      ]
    },
    {
      "cell_type": "markdown",
      "metadata": {
        "id": "g3EsISwSCD_c"
      },
      "source": [
        "## Overload Operators"
      ]
    },
    {
      "cell_type": "code",
      "execution_count": 16,
      "metadata": {
        "id": "M7nU6pkgBzwM"
      },
      "outputs": [],
      "source": [
        "class Person: \n",
        "  def __init__(self, name, age):\n",
        "    self.name = name\n",
        "    self.age  = age\n",
        "  def __str__(self):\n",
        "    return \"Name: \"+self.name+\" Age: \"+str(self.age)"
      ]
    },
    {
      "cell_type": "code",
      "execution_count": 17,
      "metadata": {
        "colab": {
          "base_uri": "https://localhost:8080/"
        },
        "id": "BxK6PYENCQzP",
        "outputId": "afe66065-7a0f-47ca-fe17-ed2d732680dc"
      },
      "outputs": [
        {
          "name": "stdout",
          "output_type": "stream",
          "text": [
            "Name: John Age: 36\n"
          ]
        }
      ],
      "source": [
        "person = Person(\"John\", 36)\n",
        "print(person)   # Name: John  Age: 36"
      ]
    },
    {
      "cell_type": "code",
      "execution_count": null,
      "metadata": {
        "id": "RESH94IeCRIv"
      },
      "outputs": [],
      "source": []
    },
    {
      "cell_type": "code",
      "execution_count": null,
      "metadata": {
        "id": "dQGvbT71_-Ic"
      },
      "outputs": [],
      "source": [
        "class Vector2D:\n",
        "   def __init__(self, x, y):\n",
        "      self.x = x\n",
        "      self.y = y\n",
        "\n",
        "   def __add__(self, other):\n",
        "      return Vector2D(self.x + other.x, self.y + other.y)"
      ]
    },
    {
      "cell_type": "code",
      "execution_count": null,
      "metadata": {
        "id": "4ymyplnDG7Hi"
      },
      "outputs": [],
      "source": [
        "v1 = Vector2D(1, 2)\n",
        "v2 = Vector2D(3, 4)\n",
        "v3 = v1 + v2     # v3 = Vector2D(4, 6)"
      ]
    },
    {
      "cell_type": "code",
      "execution_count": null,
      "metadata": {
        "id": "JgV7gBpQG_yf"
      },
      "outputs": [],
      "source": [
        "class Vector2D:\n",
        "   def __init__(self, x, y):\n",
        "      self.x = x\n",
        "      self.y = y\n",
        "   def __add__(self, other):\n",
        "      return Vector2D(self.x + other.x, self.y + other.y)\n",
        "   def __sub__(self, other):\n",
        "      return Vector2D(self.x - other.x, self.y - other.y)\n",
        "   def __mul__(self, other):\n",
        "      return Vector2D(self.x * other.x, self.y * other.y)\n",
        "   def __truediv__(self, other):\n",
        "      return Vector2D(self.x / other.x, self.y / other.y)\n",
        "   def __str__(self):\n",
        "      return \"(\"+str(self.x)+\", \"+str(self.y)+\")\""
      ]
    },
    {
      "cell_type": "code",
      "execution_count": null,
      "metadata": {
        "id": "3o_kFFKpHFKy"
      },
      "outputs": [],
      "source": [
        "class Student: \n",
        "   def __init__(self, name, id):\n",
        "       self.name = name\n",
        "       self.id   = id\n",
        "   def __eq__(self, other):\n",
        "       name_equal = self.name == other.name\n",
        "       id_equal   = self.id   == other.id\n",
        "       if(name_equal and id_equal):\n",
        "            return True\n",
        "       else: \n",
        "            return False"
      ]
    },
    {
      "cell_type": "markdown",
      "metadata": {
        "id": "gwJT6ucaHJpv"
      },
      "source": [
        "## Inheritance "
      ]
    },
    {
      "cell_type": "code",
      "execution_count": 18,
      "metadata": {
        "id": "35SdfU-kHgE3"
      },
      "outputs": [],
      "source": [
        "class Student(Person):\n",
        "   def __init__(self, name, age, student_id, uni):\n",
        "      Person.__init__(self, name, age)\n",
        "      self.student_id = student_id\n",
        "      self.uni        = uni"
      ]
    },
    {
      "cell_type": "code",
      "execution_count": 19,
      "metadata": {
        "id": "VqNSTk2hHgTT"
      },
      "outputs": [],
      "source": [
        "   def print_student(self):\n",
        "      # call the print_person method of the base class\n",
        "      Person.print_person(self)              \n",
        "      # print the student id\n",
        "      print(\"Student ID: \" + self.student_id)  \n",
        "      # print the university\n",
        "      print(\"University: \" + self.uni) "
      ]
    },
    {
      "cell_type": "code",
      "execution_count": 20,
      "metadata": {
        "colab": {
          "base_uri": "https://localhost:8080/"
        },
        "id": "E21ZkyIQILQt",
        "outputId": "aaa4c8bf-3d46-4d47-dcd2-749fce2f54a5"
      },
      "outputs": [
        {
          "data": {
            "text/plain": [
              "False"
            ]
          },
          "execution_count": 20,
          "metadata": {},
          "output_type": "execute_result"
        }
      ],
      "source": [
        "isinstance(1, int)          # True\n",
        "isinstance(1, float)        # False"
      ]
    },
    {
      "cell_type": "code",
      "execution_count": 22,
      "metadata": {
        "colab": {
          "base_uri": "https://localhost:8080/"
        },
        "id": "aiEIXxIZIRWg",
        "outputId": "afee4155-baa0-4827-e6ad-aa1e28fd2d55"
      },
      "outputs": [
        {
          "data": {
            "text/plain": [
              "False"
            ]
          },
          "execution_count": 22,
          "metadata": {},
          "output_type": "execute_result"
        }
      ],
      "source": [
        "class A:       \n",
        "   pass           \n",
        "\n",
        "class B(A): \n",
        "   pass\n",
        "\n",
        "a = A()\n",
        "b = B()\n",
        "\n",
        "isinstance(a,A)   # True\n",
        "issubclass(A,B)   # False"
      ]
    },
    {
      "cell_type": "code",
      "execution_count": null,
      "metadata": {
        "id": "zUCnFcsVIWO4"
      },
      "outputs": [],
      "source": []
    }
  ],
  "metadata": {
    "colab": {
      "authorship_tag": "ABX9TyNDA8PwEOxXPTujU2EbHrHy",
      "collapsed_sections": [],
      "include_colab_link": true,
      "provenance": []
    },
    "kernelspec": {
      "display_name": "Python 3.9.6 64-bit",
      "language": "python",
      "name": "python3"
    },
    "language_info": {
      "name": "python",
      "version": "3.9.6"
    },
    "vscode": {
      "interpreter": {
        "hash": "4cf03a2963743c57c72d8ba6632c2081b501cae1666301abc782d21392c9048f"
      }
    }
  },
  "nbformat": 4,
  "nbformat_minor": 0
}
