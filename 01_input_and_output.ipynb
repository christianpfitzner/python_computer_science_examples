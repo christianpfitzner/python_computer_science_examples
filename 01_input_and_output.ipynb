{
 "cells": [
  {
   "cell_type": "markdown",
   "id": "1516ac4d-f21d-452b-93bc-e9365d54f547",
   "metadata": {},
   "source": [
    "# Input and Output\n",
    "\n",
    "\n",
    "---\n",
    "## Output to the Terminal"
   ]
  },
  {
   "cell_type": "code",
   "execution_count": null,
   "id": "06faa158-3f72-4999-9a14-5f9b37007cb1",
   "metadata": {},
   "outputs": [],
   "source": [
    "print(\"Hello World\")"
   ]
  },
  {
   "cell_type": "markdown",
   "id": "817cf28e-e574-437e-a7f7-a3cfe5cd40e8",
   "metadata": {},
   "source": [
    "Additionally, numbers can be forwarded to a user"
   ]
  },
  {
   "cell_type": "code",
   "execution_count": null,
   "id": "da111b1b-9dbf-46f3-bfb7-0bd307a425c0",
   "metadata": {},
   "outputs": [],
   "source": [
    "print(1)\n",
    "print(1.2)\n",
    "print(-3)\n",
    "\n"
   ]
  },
  {
   "cell_type": "markdown",
   "id": "0584c55d-78b5-47a0-8e65-a24bad633de7",
   "metadata": {},
   "source": [
    "Also, it is possible to store values in variables. "
   ]
  },
  {
   "cell_type": "code",
   "execution_count": null,
   "id": "d7f51d52-539e-49c2-86be-198252f87965",
   "metadata": {},
   "outputs": [],
   "source": [
    "a = 1\n",
    "b = 1.2\n",
    "c = -4\n",
    "\n",
    "print(a)\n",
    "print(b)\n",
    "print(c)"
   ]
  },
  {
   "cell_type": "markdown",
   "id": "21872ddb-c904-436c-9206-49d02eac4bd6",
   "metadata": {},
   "source": [
    "If you'd like to have not a new line after the call of the print() function, you can use the option of the last character in the print. By default it is a new line. "
   ]
  },
  {
   "cell_type": "code",
   "execution_count": null,
   "id": "e08e89f5-a419-4a13-9dd6-1bde6bc06555",
   "metadata": {},
   "outputs": [],
   "source": [
    "print(3 * \"no new line \", end=\"\")\n",
    "print(\"\\n\")                        # a single new line\n",
    "print(\"Hallo Welt\", end=\"!\")"
   ]
  },
  {
   "cell_type": "markdown",
   "id": "b389e943-bc1b-42b1-a374-42e1c2fba79a",
   "metadata": {},
   "source": [
    "---\n",
    "## Printing Methods"
   ]
  },
  {
   "cell_type": "markdown",
   "id": "28d67fe1-5890-4d0d-8324-f5672a54ff7b",
   "metadata": {},
   "source": [
    "### Printing Strings based on %"
   ]
  },
  {
   "cell_type": "code",
   "execution_count": null,
   "id": "115649be-4a7a-4e6f-8d9e-21d315d3e16f",
   "metadata": {},
   "outputs": [],
   "source": [
    "age = 20.2\n",
    "print(\"My age is %f\" % age)"
   ]
  },
  {
   "cell_type": "code",
   "execution_count": null,
   "id": "a704cbc3-bbe1-45cd-9333-12eb4b07ba6b",
   "metadata": {},
   "outputs": [],
   "source": [
    "name = \"Bob\"\n",
    "print(\"My name is %s and I am %d years old\" % (name, age))"
   ]
  },
  {
   "cell_type": "markdown",
   "id": "aea4bda7-3998-4977-9701-2b0c2ca882cf",
   "metadata": {},
   "source": [
    "### Format Method for Output"
   ]
  },
  {
   "cell_type": "code",
   "execution_count": null,
   "id": "03211430-b012-4e2d-8082-ac4ae9772596",
   "metadata": {},
   "outputs": [],
   "source": [
    "print(\"I love {}. It is a great {}\".format(\"Python\", \"programming language\"))"
   ]
  },
  {
   "cell_type": "markdown",
   "id": "855245bd-a069-4707-b3db-7140d80aed58",
   "metadata": {},
   "source": [
    "You can also switch the order by applying an index ({0}, {1}, ...) to each variable in the string for the output. "
   ]
  },
  {
   "cell_type": "code",
   "execution_count": null,
   "id": "dcf54aab-fe6d-4aa5-ad1f-3d9b30199c6b",
   "metadata": {},
   "outputs": [],
   "source": [
    "print(\"I love {1}. It is a great {0}\".format(\"programming language\", \"Python\"))"
   ]
  },
  {
   "cell_type": "markdown",
   "id": "e365b41f-5dae-4de0-b1c1-3fbbb4a46bbf",
   "metadata": {},
   "source": [
    "Furthermore, you can also specify a string variable within the same line, similar as the previously demonstrated index and the order. "
   ]
  },
  {
   "cell_type": "code",
   "execution_count": null,
   "id": "36c63aed-ea85-431c-bd07-b7f4fe573ba7",
   "metadata": {},
   "outputs": [],
   "source": [
    "print(\"I love {language}. It is great for {purpose}. \".format(language = \"Python\", purpose = \"data science\"))"
   ]
  },
  {
   "cell_type": "markdown",
   "id": "ea13b73e-1429-4962-8df6-136c2db96410",
   "metadata": {},
   "source": [
    "<p>&nbsp;</p>\n",
    "<p>&nbsp;</p>\n",
    "<p>&nbsp;</p>\n",
    "---\n",
    "### Formating"
   ]
  },
  {
   "cell_type": "markdown",
   "id": "f32e3f5a-2190-44ce-84da-e9940e0fa5e0",
   "metadata": {},
   "source": [
    "You can also apply different formating options for numbers and strings. "
   ]
  },
  {
   "cell_type": "code",
   "execution_count": null,
   "id": "b79bdd85-cb17-4e3a-9356-bcf80eabaa12",
   "metadata": {},
   "outputs": [],
   "source": [
    "print(3 * \"Hurry up! \") # output of the string \"Hurry up\" three times. "
   ]
  },
  {
   "cell_type": "code",
   "execution_count": null,
   "id": "512904ee-bd4a-4a70-9335-2dbd33bad633",
   "metadata": {},
   "outputs": [],
   "source": [
    "print(\"The number is {0:5d}\".format(42))"
   ]
  },
  {
   "cell_type": "code",
   "execution_count": null,
   "id": "1022eb55-ac67-49a4-a843-ee2925fe5c90",
   "metadata": {},
   "outputs": [],
   "source": [
    "int_a = 123\n",
    "print(\"Int number: {0:1d}\".format(int_a))\n",
    "print(\"Int number: {0:2d}\".format(int_a))\n",
    "print(\"Int number: {0:3d}\".format(int_a))\n",
    "print(\"Int number: {0:4d}\".format(int_a))\n",
    "print(\"Int number: {0:5d}\".format(int_a))\n",
    "print(\"Int number: {0:6d}\".format(int_a))\n",
    "print(\"Int number: {0:7d}\".format(int_a))\n",
    "print(\"Int number: {0:8d}\".format(int_a))\n"
   ]
  },
  {
   "cell_type": "code",
   "execution_count": 4,
   "id": "5b414435-90b0-4063-a2f3-74899d4bab90",
   "metadata": {},
   "outputs": [
    {
     "name": "stdout",
     "output_type": "stream",
     "text": [
      "This is a very long number: 123\n",
      "This is a very long number: 123.5\n",
      "This is a very long number: 123.46\n",
      "This is a very long number: 123.457\n",
      "This is a very long number: 123.4568\n",
      "This is a very long number: 123.45679\n",
      "This is a very long number: 123.456789\n",
      "This is a very long number: 123.4567890\n",
      "This is a very long number: 123.45678900\n"
     ]
    }
   ],
   "source": [
    "float_a = 123.456789\n",
    "print(\"This is a very long number: {0:1.0f}\".format(float_a))\n",
    "print(\"This is a very long number: {0:1.1f}\".format(float_a))\n",
    "print(\"This is a very long number: {0:1.2f}\".format(float_a))\n",
    "print(\"This is a very long number: {0:1.3f}\".format(float_a))\n",
    "print(\"This is a very long number: {0:1.4f}\".format(float_a))\n",
    "print(\"This is a very long number: {0:1.5f}\".format(float_a))\n",
    "print(\"This is a very long number: {0:1.6f}\".format(float_a))\n",
    "print(\"This is a very long number: {0:1.7f}\".format(float_a))\n",
    "print(\"This is a very long number: {0:1.8f}\".format(float_a))"
   ]
  },
  {
   "cell_type": "code",
   "execution_count": 5,
   "id": "3d993547-14cb-475e-a920-b9ff53056b1c",
   "metadata": {},
   "outputs": [
    {
     "name": "stdout",
     "output_type": "stream",
     "text": [
      "This is a very long number:  123.45679\n",
      "This is a very long number:   123.45679\n",
      "This is a very long number:    123.45679\n",
      "This is a very long number:     123.45679\n",
      "This is a very long number:      123.45679\n",
      "This is a very long number:       123.45679\n",
      "This is a very long number:        123.45679\n",
      "This is a very long number:         123.45679\n"
     ]
    }
   ],
   "source": [
    "print(\"This is a very long number: {0:10.5f}\".format(float_a))\n",
    "print(\"This is a very long number: {0:11.5f}\".format(float_a))\n",
    "print(\"This is a very long number: {0:12.5f}\".format(float_a))\n",
    "print(\"This is a very long number: {0:13.5f}\".format(float_a))\n",
    "print(\"This is a very long number: {0:14.5f}\".format(float_a))\n",
    "print(\"This is a very long number: {0:15.5f}\".format(float_a))\n",
    "print(\"This is a very long number: {0:16.5f}\".format(float_a))\n",
    "print(\"This is a very long number: {0:17.5f}\".format(float_a))"
   ]
  },
  {
   "cell_type": "markdown",
   "id": "f0a5f03b-95fd-4b87-9c0f-ced6117d1a21",
   "metadata": {},
   "source": [
    "<p>&nbsp;</p>\n",
    "<p>&nbsp;</p>\n",
    "<p>&nbsp;</p>\n",
    "\n",
    "---\n",
    "## F-String Output\n"
   ]
  },
  {
   "cell_type": "code",
   "execution_count": null,
   "id": "3523236f-1ce9-4103-964f-4e4afaca2985",
   "metadata": {},
   "outputs": [],
   "source": [
    "name = 'Chris'\n",
    "age = 34\n",
    "print(f\"Hello, My name is {name} and I'm {age} years old.\")"
   ]
  },
  {
   "cell_type": "code",
   "execution_count": null,
   "id": "ed768125-697e-4dc5-94dc-47780f2f169d",
   "metadata": {},
   "outputs": [],
   "source": [
    "a = 4\n",
    "b = 3\n",
    "print(f\"You can also do calculations like {a} + {b} = {a+b}\")"
   ]
  },
  {
   "cell_type": "markdown",
   "id": "bfe55889-7f66-4a06-87d8-6033f2f613dc",
   "metadata": {},
   "source": [
    "<p>&nbsp;</p>\n",
    "<p>&nbsp;</p>\n",
    "<p>&nbsp;</p>\n",
    "\n",
    "---\n",
    "\n",
    "# Input"
   ]
  },
  {
   "cell_type": "code",
   "execution_count": null,
   "id": "4932ee44-e337-4e80-b3a5-10d3462e416a",
   "metadata": {},
   "outputs": [],
   "source": [
    "simple_input = input()\n",
    "\n",
    "print(\"Your input was *\", simple_input, \"*\")"
   ]
  },
  {
   "cell_type": "code",
   "execution_count": null,
   "id": "94ab5191-db9d-4f54-b3f3-17b3562a2a51",
   "metadata": {},
   "outputs": [],
   "source": [
    "input_number = input(\"Please provide a number: \")\n",
    "\n",
    "print(\"Your forwarded number was\", input_number)"
   ]
  },
  {
   "cell_type": "code",
   "execution_count": null,
   "id": "f66bd626-e8d1-4d33-a6c7-e862519804b6",
   "metadata": {},
   "outputs": [],
   "source": [
    "a = input(\"Number 1: \")\n",
    "b = input(\"Number 2: \")\n",
    "print(a+b)"
   ]
  },
  {
   "cell_type": "markdown",
   "id": "067979b8",
   "metadata": {},
   "source": [
    "<p>&nbsp;</p>\n",
    "<p>&nbsp;</p>\n",
    "<p>&nbsp;</p>\n",
    "\n",
    "---\n",
    "\n",
    "## IPyWidgets\n",
    "\n",
    "User interfaces (UI) are very big and also -- somehow -- advanced topic in programming. It is an art to create a good and correct UI. However, in this course, I want to give you a short introduction to simple UI possibilities. Therefore, we use the ipywidget module. Please see the following examples. So far not all structures might not be clear. We will come back later on this, as we proceed in this course. "
   ]
  },
  {
   "cell_type": "code",
   "execution_count": 1,
   "id": "22de47b0",
   "metadata": {},
   "outputs": [
    {
     "data": {
      "application/vnd.jupyter.widget-view+json": {
       "model_id": "d50c46331cfe4352b9349695139fbcbd",
       "version_major": 2,
       "version_minor": 0
      },
      "text/plain": [
       "IntSlider(value=0)"
      ]
     },
     "metadata": {},
     "output_type": "display_data"
    }
   ],
   "source": [
    "import ipywidgets\n",
    "\n",
    "\n",
    "slider = ipywidgets.IntSlider()\n",
    "display(slider)"
   ]
  },
  {
   "cell_type": "markdown",
   "id": "5edad04c",
   "metadata": {},
   "source": [
    "After you changed the value with your mouse, you can extract the value of the slider by the following line of code. "
   ]
  },
  {
   "cell_type": "code",
   "execution_count": 2,
   "id": "cacb5f87",
   "metadata": {},
   "outputs": [
    {
     "data": {
      "text/plain": [
       "59"
      ]
     },
     "execution_count": 2,
     "metadata": {},
     "output_type": "execute_result"
    }
   ],
   "source": [
    "slider.value"
   ]
  },
  {
   "cell_type": "markdown",
   "id": "508d0f7f-589b-40f2-83ec-f0379fd03951",
   "metadata": {},
   "source": [
    "<p>&nbsp;</p>\n",
    "<p>&nbsp;</p>\n",
    "<p>&nbsp;</p>\n",
    "\n",
    "---\n",
    "\n",
    "## Exercise"
   ]
  },
  {
   "cell_type": "markdown",
   "id": "68227ec1-936c-4778-9809-09e4573d026f",
   "metadata": {},
   "source": [
    "### Python Version"
   ]
  },
  {
   "cell_type": "markdown",
   "id": "10f7fd36-5b2e-4b36-85a1-60b2d6a6adcc",
   "metadata": {},
   "source": [
    "Write a short piece of code which outputs your current version of python. Look for the solution while exploring the sys library. \n",
    "The output should look similar to\n",
    "\n",
    "```\n",
    "Python version \n",
    "3.9.12 (main, Apr  4 2022, 05:22:27) [MSC v.1916 64 bit (AMD64)]\n",
    "Version info.\n",
    "sys.version_info(major=3, minor=9, micro=12, releaselevel='final', serial=0)\n",
    "```"
   ]
  },
  {
   "cell_type": "code",
   "execution_count": null,
   "id": "951f4811-74b0-498e-aa46-155e70337546",
   "metadata": {},
   "outputs": [],
   "source": [
    "import sys\n",
    "print(\"Python version\")\n",
    "print (sys.version)\n",
    "print(\"Version info.\")\n",
    "print (sys.version_info)"
   ]
  },
  {
   "cell_type": "markdown",
   "id": "69a381dc-f7bb-4ee7-bac6-59e84edc5ca7",
   "metadata": {},
   "source": [
    "### Greetings "
   ]
  },
  {
   "cell_type": "markdown",
   "id": "97b14476-d36d-4f01-9a37-285c1ebc9a9a",
   "metadata": {},
   "source": [
    "Write a small programm which greets you, with your name. You obviously have to provide your name via an input function. "
   ]
  },
  {
   "cell_type": "code",
   "execution_count": null,
   "id": "dbb5fcc2-8357-43a0-bad4-a130fc8d0c1f",
   "metadata": {},
   "outputs": [],
   "source": [
    "## your solution here\n",
    "#\n",
    "#\n",
    "#\n",
    "#\n",
    "#\n",
    "#\n",
    "#\n",
    "#"
   ]
  },
  {
   "cell_type": "markdown",
   "id": "6f61cbfb-5ccc-451c-80b9-49bdc01312ca",
   "metadata": {},
   "source": [
    "### User input"
   ]
  },
  {
   "cell_type": "markdown",
   "id": "01ea0097-ee6a-442d-b268-c570e91dbca7",
   "metadata": {},
   "source": [
    "Write a small programm that asks for your name, surname, age and nationallity. Output the information via the print command nicely formated. "
   ]
  },
  {
   "cell_type": "code",
   "execution_count": null,
   "id": "1d733b48-bf10-4200-9c88-1b3fcd583ed1",
   "metadata": {},
   "outputs": [],
   "source": [
    "## your solution here\n",
    "#\n",
    "#\n",
    "#\n",
    "#\n",
    "#\n",
    "#\n",
    "#\n",
    "#"
   ]
  },
  {
   "cell_type": "code",
   "execution_count": null,
   "id": "c4890c93-42c8-47c0-99f8-3bd2c7363810",
   "metadata": {},
   "outputs": [],
   "source": [
    "name_input        = input(\"Name: \")\n",
    "surname_input     = input(\"Surname: \")\n",
    "age_input         = int(input(\"Age: \"))\n",
    "nationality_input = input(\"Nationality: \")\n",
    "\n",
    "\n",
    "print(\"{name}, {surname}, ({age}) -- {nat}\".format(name = name_input, surname = surname_input, age = age_input, nat = nationality_input))"
   ]
  },
  {
   "cell_type": "markdown",
   "id": "fa03918e-25cf-45b8-b1f0-32966b9b74c3",
   "metadata": {},
   "source": [
    "### Text formating\n",
    "Create a programm which prints the following text, filling the blanks with variables from input. \n",
    "```\n",
    "*******************************************\n",
    "** This is my first python program       **\n",
    "**                                       **\n",
    "** created by:  <Ihr Name>               **\n",
    "** date:        <heutiges Datum>         **\n",
    "**                                       **\n",
    "*******************************************\n",
    "```\n",
    "\n",
    "If you are more advanced, create the date by the module datetime. You have the module via\n",
    "```\n",
    "from datetime import date\n",
    "```\n",
    "at the beginning of your code. "
   ]
  },
  {
   "cell_type": "code",
   "execution_count": null,
   "id": "e4c90b96-a0e4-4906-b00d-0101a30afd75",
   "metadata": {},
   "outputs": [],
   "source": [
    "## your solution here\n",
    "#\n",
    "#\n",
    "#\n",
    "#\n",
    "#\n",
    "#\n",
    "#\n",
    "#"
   ]
  },
  {
   "cell_type": "markdown",
   "id": "23c30361-d39d-4772-97fe-be02450be3fe",
   "metadata": {},
   "source": [
    "### Output of Date"
   ]
  },
  {
   "cell_type": "code",
   "execution_count": null,
   "id": "ca9de66b-8e08-4596-92e9-b6f56aa6053e",
   "metadata": {},
   "outputs": [],
   "source": [
    "import datetime\n",
    " \n",
    "today = datetime.datetime.today()\n",
    "print(f\"{today:%B %d, %Y}\")"
   ]
  },
  {
   "cell_type": "code",
   "execution_count": null,
   "id": "1acc8928-76da-4b51-8558-9a9c18f36f61",
   "metadata": {},
   "outputs": [],
   "source": [
    "## your solution here\n",
    "#\n",
    "#\n",
    "#\n",
    "#\n",
    "#\n",
    "#\n",
    "#\n",
    "#"
   ]
  },
  {
   "cell_type": "code",
   "execution_count": null,
   "id": "0532a2ba-789f-40a1-b6cb-b6fef289148d",
   "metadata": {},
   "outputs": [],
   "source": []
  }
 ],
 "metadata": {
  "kernelspec": {
   "display_name": "Python 3.9.12 ('base')",
   "language": "python",
   "name": "python3"
  },
  "language_info": {
   "codemirror_mode": {
    "name": "ipython",
    "version": 3
   },
   "file_extension": ".py",
   "mimetype": "text/x-python",
   "name": "python",
   "nbconvert_exporter": "python",
   "pygments_lexer": "ipython3",
   "version": "3.9.12"
  },
  "vscode": {
   "interpreter": {
    "hash": "df3f64ca5e16a52414df56f6fd8e5b33b60cd9e67139926ade6a9b44fe3fa7c2"
   }
  }
 },
 "nbformat": 4,
 "nbformat_minor": 5
}
