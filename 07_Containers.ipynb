{
  "nbformat": 4,
  "nbformat_minor": 0,
  "metadata": {
    "colab": {
      "provenance": [],
      "collapsed_sections": [],
      "authorship_tag": "ABX9TyNJD2jCWbXzwL/EqdTDRKBI",
      "include_colab_link": true
    },
    "kernelspec": {
      "name": "python3",
      "display_name": "Python 3"
    },
    "language_info": {
      "name": "python"
    }
  },
  "cells": [
    {
      "cell_type": "markdown",
      "metadata": {
        "id": "view-in-github",
        "colab_type": "text"
      },
      "source": [
        "<a href=\"https://colab.research.google.com/github/christianpfitzner/python_computer_science_examples/blob/master/07_Containers.ipynb\" target=\"_parent\"><img src=\"https://colab.research.google.com/assets/colab-badge.svg\" alt=\"Open In Colab\"/></a>"
      ]
    },
    {
      "cell_type": "markdown",
      "source": [
        "# Containers"
      ],
      "metadata": {
        "id": "sP4fPY9q8vRW"
      }
    },
    {
      "cell_type": "markdown",
      "source": [
        "## Lists"
      ],
      "metadata": {
        "id": "WWe7HIH68zpk"
      }
    },
    {
      "cell_type": "code",
      "source": [
        "my_list = [1, 2, 3, 4, 5]"
      ],
      "metadata": {
        "id": "Ojthy9fJ8-U5"
      },
      "execution_count": 1,
      "outputs": []
    },
    {
      "cell_type": "code",
      "source": [
        "my_list = [1, \"Hello\", 3.4]\n"
      ],
      "metadata": {
        "id": "eR-jW6U49APO"
      },
      "execution_count": 2,
      "outputs": []
    },
    {
      "cell_type": "code",
      "source": [
        "week_list = [\"Monday\", \"Tuesday\", \"Wednesday\", \"Thursday\", \"Friday\", \"Saturday\", \"Sunday\"]\n",
        "print(week_list)"
      ],
      "metadata": {
        "colab": {
          "base_uri": "https://localhost:8080/"
        },
        "id": "4jBhOwfv9BV1",
        "outputId": "ea81d4e3-8baa-4a69-b2bc-d0cb4667f05d"
      },
      "execution_count": 3,
      "outputs": [
        {
          "output_type": "stream",
          "name": "stdout",
          "text": [
            "['Monday', 'Tuesday', 'Wednesday', 'Thursday', 'Friday', 'Saturday', 'Sunday']\n"
          ]
        }
      ]
    },
    {
      "cell_type": "code",
      "source": [
        "print(week_list[0])   # Output: Monday\n",
        "print(week_list[1])   # Output: Tuesday"
      ],
      "metadata": {
        "colab": {
          "base_uri": "https://localhost:8080/"
        },
        "id": "o8eYVGbC9Cjt",
        "outputId": "6306983f-27a4-494a-9eb3-53f9a68b898a"
      },
      "execution_count": 5,
      "outputs": [
        {
          "output_type": "stream",
          "name": "stdout",
          "text": [
            "Monday\n",
            "Tuesday\n"
          ]
        }
      ]
    },
    {
      "cell_type": "code",
      "source": [
        "print(week_list[-1])   # Output: Sunday\n",
        "print(week_list[-2])   # Output: Saturday"
      ],
      "metadata": {
        "id": "g0GTLJbu9T-q"
      },
      "execution_count": null,
      "outputs": []
    },
    {
      "cell_type": "code",
      "source": [
        "work_days = week_list[0:5] \n",
        "print(work_days)  \n",
        "# Output: ['Monday', 'Tuesday', 'Wednesday', 'Thursday', 'Friday']"
      ],
      "metadata": {
        "id": "Aewip1dA9bwn"
      },
      "execution_count": null,
      "outputs": []
    },
    {
      "cell_type": "code",
      "source": [
        "all_days = week_list[0:7]"
      ],
      "metadata": {
        "id": "SOEddTkZ9oei"
      },
      "execution_count": null,
      "outputs": []
    },
    {
      "cell_type": "markdown",
      "source": [
        "## Tuples"
      ],
      "metadata": {
        "id": "LmvArInD86Wu"
      }
    },
    {
      "cell_type": "code",
      "source": [
        "my_tuple = (\"Monday\", \"Tuesday\", \"Wednesday\", \"Thursday\", \"Friday\", \"Saturday\", \"Sunday\")\n"
      ],
      "metadata": {
        "id": "C-ruZSXt-SxT"
      },
      "execution_count": 8,
      "outputs": []
    },
    {
      "cell_type": "code",
      "source": [
        "print(my_tuple)      # Output: \"Monday\", \"Tuesday\", ...\n",
        "print(my_tuple[0])   # Output: Monday"
      ],
      "metadata": {
        "colab": {
          "base_uri": "https://localhost:8080/"
        },
        "id": "1YzYWxD--YkI",
        "outputId": "a4df7977-5350-4fbc-e830-bf836cb0fae7"
      },
      "execution_count": 9,
      "outputs": [
        {
          "output_type": "stream",
          "name": "stdout",
          "text": [
            "('Monday', 'Tuesday', 'Wednesday', 'Thursday', 'Friday', 'Saturday', 'Sunday')\n",
            "Monday\n"
          ]
        }
      ]
    },
    {
      "cell_type": "code",
      "source": [
        "my_tuple = (1, 2, 3, 4, 1)\n",
        "my_tuple.count(1) # 2   \n",
        "my_tuple.index(1) # 0 "
      ],
      "metadata": {
        "id": "V56ywpAI-uXD"
      },
      "execution_count": null,
      "outputs": []
    },
    {
      "cell_type": "markdown",
      "source": [
        "## Dicts"
      ],
      "metadata": {
        "id": "OSG9naag82M6"
      }
    },
    {
      "cell_type": "code",
      "source": [
        "my_dict = {\"Monday\": 1, \"Tuesday\": 2, \"Wednesday\": 3, \"Thursday\": 4, \"Friday\": 5, \"Saturday\": 6, \"Sunday\": 7}\n"
      ],
      "metadata": {
        "id": "VYrFaITu-yG_"
      },
      "execution_count": 12,
      "outputs": []
    },
    {
      "cell_type": "code",
      "source": [
        "person = {\"name\": \"Christian\", \"age\": 34, \"country\": \"Germany\"}\n"
      ],
      "metadata": {
        "id": "EYcKrpfU-3Yi"
      },
      "execution_count": 13,
      "outputs": []
    },
    {
      "cell_type": "code",
      "source": [
        "print(person[\"name\"])   # Output: Christian \n",
        "print(person[\"age\"])    # Output: 34\n",
        "print(person[\"country\"])# Output: Germany"
      ],
      "metadata": {
        "colab": {
          "base_uri": "https://localhost:8080/"
        },
        "id": "cVPPHqCN--hZ",
        "outputId": "8bfba7ca-f2e1-46bc-dbb0-bb1f496537e5"
      },
      "execution_count": 15,
      "outputs": [
        {
          "output_type": "stream",
          "name": "stdout",
          "text": [
            "Christian\n",
            "34\n",
            "Germany\n"
          ]
        }
      ]
    },
    {
      "cell_type": "code",
      "source": [
        "person[\"age\"]  = 35       # changes age\n",
        "person[\"city\"] = \"Berlin\" # adds city"
      ],
      "metadata": {
        "id": "cdhcNaMu_GrN"
      },
      "execution_count": 17,
      "outputs": []
    },
    {
      "cell_type": "code",
      "source": [
        "person = {\"name\": \"Chris\", \"age\": 34, \"country\": \"Ger\"}\n",
        "print(all(person))   # Output: True\n",
        "print(any(person))   # Output: True\n",
        "print(len(person))   # Output: 3\n",
        "print(sorted(person))# Output: ['age','country','name']"
      ],
      "metadata": {
        "colab": {
          "base_uri": "https://localhost:8080/"
        },
        "id": "1deVXVnM_Lac",
        "outputId": "19cd198c-2f3d-4b57-ceb1-ebd92f7e3776"
      },
      "execution_count": 18,
      "outputs": [
        {
          "output_type": "stream",
          "name": "stdout",
          "text": [
            "True\n",
            "True\n",
            "3\n",
            "['age', 'country', 'name']\n"
          ]
        }
      ]
    },
    {
      "cell_type": "code",
      "source": [
        "squares = {1: 1, 2: 4, 3: 9, 4: 16, 5: 25}\n",
        "squares.pop(4)\n",
        "print(squares) # Output: {1: 1, 2: 4, 3: 9, 5: 25}"
      ],
      "metadata": {
        "colab": {
          "base_uri": "https://localhost:8080/"
        },
        "id": "B6nDlixU_ReN",
        "outputId": "5327e038-73a9-4f00-9e0b-5abbd0c7b40c"
      },
      "execution_count": 20,
      "outputs": [
        {
          "output_type": "stream",
          "name": "stdout",
          "text": [
            "{1: 1, 2: 4, 3: 9, 5: 25}\n"
          ]
        }
      ]
    },
    {
      "cell_type": "code",
      "source": [
        "squares.popitem()\n",
        "print(squares) # Output: {1: 1, 2: 4, 3: 9}"
      ],
      "metadata": {
        "colab": {
          "base_uri": "https://localhost:8080/"
        },
        "id": "sL1BLDlG_X1P",
        "outputId": "dd69b43f-68ae-42ea-f939-c8982a392156"
      },
      "execution_count": 21,
      "outputs": [
        {
          "output_type": "stream",
          "name": "stdout",
          "text": [
            "{1: 1, 2: 4, 3: 9}\n"
          ]
        }
      ]
    },
    {
      "cell_type": "code",
      "source": [],
      "metadata": {
        "id": "GQJy1ba7_Srl"
      },
      "execution_count": null,
      "outputs": []
    },
    {
      "cell_type": "markdown",
      "source": [
        "## Sets"
      ],
      "metadata": {
        "id": "TNZc2gRV84AV"
      }
    },
    {
      "cell_type": "code",
      "source": [
        "my_set = {1, 2, 3, 4, 5}\n",
        "print(my_set) # Output: {1, 2, 3, 4, 5}\n"
      ],
      "metadata": {
        "colab": {
          "base_uri": "https://localhost:8080/"
        },
        "id": "e8t_sXfA89m0",
        "outputId": "a99a12fa-46c0-417d-b37c-fc5718950661"
      },
      "execution_count": 22,
      "outputs": [
        {
          "output_type": "stream",
          "name": "stdout",
          "text": [
            "{1, 2, 3, 4, 5}\n"
          ]
        }
      ]
    },
    {
      "cell_type": "code",
      "source": [
        "my_set = {1, 2, 3, 4, 5, 3, 2}\n",
        "print(my_set) # Output: {1, 2, 3, 4, 5}"
      ],
      "metadata": {
        "colab": {
          "base_uri": "https://localhost:8080/"
        },
        "id": "o2Ha8tAW_k-u",
        "outputId": "234c4f01-3251-43e6-ff69-5ea7ce96562a"
      },
      "execution_count": 23,
      "outputs": [
        {
          "output_type": "stream",
          "name": "stdout",
          "text": [
            "{1, 2, 3, 4, 5}\n"
          ]
        }
      ]
    },
    {
      "cell_type": "code",
      "source": [
        "for x in my_set:\n",
        "    print(x)"
      ],
      "metadata": {
        "colab": {
          "base_uri": "https://localhost:8080/"
        },
        "id": "CD-L8YmZ_qBq",
        "outputId": "fa44b21d-2239-4b31-d8b5-90eff564e30c"
      },
      "execution_count": 24,
      "outputs": [
        {
          "output_type": "stream",
          "name": "stdout",
          "text": [
            "1\n",
            "2\n",
            "3\n",
            "4\n",
            "5\n"
          ]
        }
      ]
    },
    {
      "cell_type": "code",
      "source": [
        "color = {\"red\", \"green\", \"blue\"}\n",
        "color.add(\"yellow\")\n",
        "print(color) # Output: {'red', 'green', 'blue', 'yellow'}"
      ],
      "metadata": {
        "colab": {
          "base_uri": "https://localhost:8080/"
        },
        "id": "uAuIqKLT_qOX",
        "outputId": "70817cce-3fae-415c-dd3b-b30991c4aa04"
      },
      "execution_count": 25,
      "outputs": [
        {
          "output_type": "stream",
          "name": "stdout",
          "text": [
            "{'yellow', 'red', 'green', 'blue'}\n"
          ]
        }
      ]
    },
    {
      "cell_type": "code",
      "source": [
        "color = {\"red\", \"green\", \"blue\"}\n",
        "color.remove(\"blue\")\n",
        "print(color) # Output: {'red', 'green'}"
      ],
      "metadata": {
        "colab": {
          "base_uri": "https://localhost:8080/"
        },
        "id": "0SO86nme_ynn",
        "outputId": "95652371-2ae8-4bd5-fb27-4ada678a2356"
      },
      "execution_count": 26,
      "outputs": [
        {
          "output_type": "stream",
          "name": "stdout",
          "text": [
            "{'red', 'green'}\n"
          ]
        }
      ]
    },
    {
      "cell_type": "code",
      "source": [
        "color = {\"red\", \"green\", \"blue\"}\n",
        "color.discard(\"yellow\")"
      ],
      "metadata": {
        "id": "-Tlo1698_y32"
      },
      "execution_count": 28,
      "outputs": []
    },
    {
      "cell_type": "code",
      "source": [
        "color = {\"red\", \"green\", \"blue\"}\n",
        "color.pop()\n",
        "print(color) # Output: {'green', 'blue'}"
      ],
      "metadata": {
        "id": "veaDOM58_6hk"
      },
      "execution_count": null,
      "outputs": []
    },
    {
      "cell_type": "code",
      "source": [
        "color = {\"red\", \"green\", \"blue\"}\n",
        "color.clear()\n",
        "print(color) # Output: set()"
      ],
      "metadata": {
        "colab": {
          "base_uri": "https://localhost:8080/"
        },
        "id": "xbYRj8Ta_2z2",
        "outputId": "a432a349-91e0-47d9-df4e-a7335def4fb6"
      },
      "execution_count": 29,
      "outputs": [
        {
          "output_type": "stream",
          "name": "stdout",
          "text": [
            "set()\n"
          ]
        }
      ]
    },
    {
      "cell_type": "code",
      "source": [],
      "metadata": {
        "id": "dQGvbT71_-Ic"
      },
      "execution_count": null,
      "outputs": []
    }
  ]
}