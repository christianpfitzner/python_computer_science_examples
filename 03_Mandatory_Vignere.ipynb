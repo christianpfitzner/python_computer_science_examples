{
 "cells": [
  {
   "cell_type": "markdown",
   "metadata": {},
   "source": [
    "# Vignere Encryption\n",
    "\n",
    "With the so called Cäsar's Chiffre, a letter of the alphabet corresponds to a secret letter. Such easy encryption can easily be cracked. Blais de Vignere, a French cryptologist, extended this principle: A single letter corresponds to multiple secret letters. This is the basis of polyalphabetic encryption. \n",
    "\n",
    "With the Vignere encryption multiple key alphabets are used, which provide the encryption of the public text. In the upcomming example, a set of key alphabets are used. \n",
    "\n",
    "\n",
    "The encryption is coded with the i-th letter of the plain text with the i-th letter of the key alphabet, which corresponds by the plain text. \n",
    "For the folling example the keyword \"python\" is used. Based on this keyword, a matrix, or vignere table, is generated, while a row always contains all 26 letters in ascending order. The first row starts with the letter **p**, the second row with the letter **y**, the third row with the letter **t**, the fourth row with the letter **h** and so on.\n",
    "\n",
    "\n",
    "| a | b | c | d | e | f | g | h | i | j | k | l | m | n | o | p | q | r | s | t | u | v | w | x | y | z | \n",
    "| - | - | - | - | - | - | - | - | - | - | - | - | - | - | - | - | - | - | - | - | - | - | - | - | - | - |\n",
    "| p | q | r | s | t | u | v | **w** | x | y | z | a | b | c | d | e | f | g | h | i | j | k | l | m | n | o | \n",
    "| y | z | a | b | **c** | d | e | f | g | h | i | j | k | l | m | n | o | p | q | r | s | t | u | v | w | x | \n",
    "| t | u | v | w | x | y | z | a | b | c | d | **e** | f | g | h | i | j | k | l | m | n | o | p | q | r | s | \n",
    "| h | i | j | k | l | m | n | o | p | q | r | **s** | t | u | v | w | x | y | z | a | b | c | d | e | f | g | \n",
    "| o | p | q | r | s | t | u | v | w | x | y | z | a | b | **c** | d | e | f | g | h | i | j | k | l | m | n | \n",
    "| n | o | p | q | r | s | t | u | v | w | x | y | z | a | b | c | d | e | f | g | h | i | **j** | k | l | m | \n",
    "| p | q | r | s | t | u | v | w | x | y | z | a | b | c | **d** | e | f | g | h | i | j | k | l | m | n | o | \n",
    "| y | z | a | b | c | d | e | f | g | h | i | j | k | l | m | n | o | **p** | q | r | s | t | u | v | w | x | \n",
    "| t | u | v | w | x | y | z | a | b | c | d | **e** | f | g | h | i | j | k | l | m | n | o | p | q | r | s | \n",
    "| h | i | j | **k** | l | m | n | o | p | q | r | s | t | u | v | w | x | y | z | a | b | c | d | e | f | g | \n",
    "\n",
    "\n",
    "\n",
    "\n",
    "<br></br>\n",
    "The following encrypted text is given: \n",
    "\n",
    "Encrypted Text:  wcesc jdpek\n",
    "\n",
    "<br></br>\n",
    "With the keyword *python* the text can be restored to: \n",
    "\n",
    "Decoded Text:    hello world\n",
    "\n",
    "\n",
    "The first letter from the encrypted text (w) can be found in the first line of the vignere table. In the heading line of this table, you find the letter h for the corresponding letter of the plain text.  \n",
    "The second letter from the encrypted text (c) can be found in the second line of the vignere table. In the heading line of this table, you find the letter e for the corresponding letter of the plain text.\n",
    "\n",
    "\n",
    "\n",
    "\n",
    "\n"
   ]
  },
  {
   "cell_type": "markdown",
   "metadata": {},
   "source": [
    "\n",
    "<br></br>\n",
    "\n",
    "## Description\n",
    "\n",
    "Create a program for the vignere encryption. A user can input a keyword for the encryption, a plain text. \n",
    "\n",
    "Extend your program, so that encrypted text can also be restored. \n",
    "\n",
    "\n",
    "\n",
    "\n",
    "\n",
    "\n",
    "\n",
    "\n",
    "\n",
    "* Do not use any other import modules than sys or math. (-10 Points)\n",
    "* Do not use global variables. (-10 Points)\n",
    "\n",
    "\n",
    "Some tipps: \n",
    "* user functions if possible\n",
    "* document your code\n",
    "* use variables with self explaining name"
   ]
  },
  {
   "cell_type": "markdown",
   "metadata": {},
   "source": [
    "To solve this please define three functions: "
   ]
  },
  {
   "cell_type": "code",
   "execution_count": null,
   "metadata": {},
   "outputs": [],
   "source": [
    "def encrypt_vignere(plain_text, keyword): \n",
    "    encrypted_text = \"\"\n",
    "    # your code here \n",
    "    return encrypted_text\n",
    "\n",
    "\n",
    "def decrypt_vignere(encrypted_text, keyword):\n",
    "    decrypted_text = \"\"\n",
    "    # your code here \n",
    "    return decrypted_text\n",
    "\n",
    "\n",
    "def print_vignere_table(keyword):\n",
    "    # your code here \n",
    "    return None"
   ]
  },
  {
   "cell_type": "markdown",
   "metadata": {},
   "source": [
    "<br> </br>\n",
    "\n",
    "\n",
    "---\n",
    "\n",
    "## Grading Scheme\n",
    "\n",
    "You need 80 Percent of the points to pass this mandatory exercise. There are 100 points in total. The can receive credits for the following reasons: \n",
    "\n",
    "* **30 Points**: Your program can **encrypt** a text with a given **keyword** while the text and keyword are provided by a user. \n",
    "* **30 Points**: Your program can **decrypt** a text with a given **keyword** while the text and keyword are provided by a user. \n",
    "* **10 Points**: Print the alphabet matrix, as illustrated above. \n",
    "* **20 Points**: You program is logically structured and you used meaningfull variable names. \n",
    "* **10 Points**: You comment parts of your code. \n",
    "\n",
    "\n",
    "<br></br>\n",
    "**Please note:** You will fail in the following events: \n",
    "* Copying parts of the code from someone else\n",
    "* Submitting your solution late (the date will be announced in moodle). \n",
    "\n",
    "This means you are **not allowed to write the exam**, and therefore pass this class. \n"
   ]
  },
  {
   "cell_type": "markdown",
   "metadata": {},
   "source": [
    "<br> </br>\n",
    "\n",
    "\n",
    "---\n",
    "\n",
    "\n",
    "## Your Solution"
   ]
  },
  {
   "cell_type": "code",
   "execution_count": null,
   "metadata": {},
   "outputs": [],
   "source": [
    "## Your Solution\n",
    "#\n",
    "#\n",
    "#\n",
    "#\n",
    "#\n",
    "#\n",
    "#\n",
    "#\n"
   ]
  }
 ],
 "metadata": {
  "kernelspec": {
   "display_name": "Python 3.9.6 64-bit",
   "language": "python",
   "name": "python3"
  },
  "language_info": {
   "codemirror_mode": {
    "name": "ipython",
    "version": 3
   },
   "file_extension": ".py",
   "mimetype": "text/x-python",
   "name": "python",
   "nbconvert_exporter": "python",
   "pygments_lexer": "ipython3",
   "version": "3.9.6"
  },
  "orig_nbformat": 4,
  "vscode": {
   "interpreter": {
    "hash": "4cf03a2963743c57c72d8ba6632c2081b501cae1666301abc782d21392c9048f"
   }
  }
 },
 "nbformat": 4,
 "nbformat_minor": 2
}
