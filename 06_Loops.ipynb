{
  "cells": [
    {
      "cell_type": "markdown",
      "metadata": {
        "colab_type": "text",
        "id": "view-in-github"
      },
      "source": [
        "<a href=\"https://colab.research.google.com/github/christianpfitzner/python_computer_science_examples/blob/master/06_Loops.ipynb\" target=\"_parent\"><img src=\"https://colab.research.google.com/assets/colab-badge.svg\" alt=\"Open In Colab\"/></a>"
      ]
    },
    {
      "cell_type": "markdown",
      "metadata": {
        "id": "aSG2t9P_s8AX"
      },
      "source": [
        "# Loops"
      ]
    },
    {
      "cell_type": "markdown",
      "metadata": {
        "id": "xoP9oOEItCjo"
      },
      "source": [
        "## While Loop"
      ]
    },
    {
      "cell_type": "code",
      "execution_count": null,
      "metadata": {
        "collapsed": true,
        "id": "G9EpTxm5s3fG"
      },
      "outputs": [],
      "source": [
        "while(1):\n",
        "   print(\"Hello World\")"
      ]
    },
    {
      "cell_type": "code",
      "execution_count": null,
      "metadata": {
        "id": "OzOpZwkctAwM"
      },
      "outputs": [],
      "source": [
        "i = 0\n",
        "while(i <= 10): \n",
        "   print(i)\n",
        "   i+=1 "
      ]
    },
    {
      "cell_type": "code",
      "execution_count": null,
      "metadata": {
        "id": "nTUpwQIotPR6"
      },
      "outputs": [],
      "source": [
        "i = 0\n",
        "while(i <= 10): \n",
        "   print(i)\n",
        "   if(i == 4):\n",
        "      break\n",
        "   i+=1"
      ]
    },
    {
      "cell_type": "code",
      "execution_count": null,
      "metadata": {
        "id": "fpFVhpk6ta1Q"
      },
      "outputs": [],
      "source": [
        "i = 0\n",
        "while(i <= 10):\n",
        "      print(i)\n",
        "      i+=1\n",
        "      if(i == 4):\n",
        "         continue"
      ]
    },
    {
      "cell_type": "markdown",
      "metadata": {
        "id": "7d7SY-4ctuGO"
      },
      "source": [
        "## For Loop"
      ]
    },
    {
      "cell_type": "code",
      "execution_count": null,
      "metadata": {
        "id": "OHQu4ZhItvGW"
      },
      "outputs": [],
      "source": [
        "for i in range(10):\n",
        "   print(i)"
      ]
    },
    {
      "cell_type": "code",
      "execution_count": null,
      "metadata": {
        "id": "XHQNcK1BtxPC"
      },
      "outputs": [],
      "source": [
        "for i in range(0, 10, 2):\n",
        "   print(i)"
      ]
    },
    {
      "cell_type": "code",
      "execution_count": null,
      "metadata": {
        "id": "BgzX94ukt88R"
      },
      "outputs": [],
      "source": [
        "x = range(0, 10, 2)\n",
        "for i in x:\n",
        "   print(i)"
      ]
    },
    {
      "cell_type": "code",
      "execution_count": null,
      "metadata": {
        "id": "JzrsQvHsuBSL"
      },
      "outputs": [],
      "source": [
        "for i in \"Hello World\":\n",
        "   print(i)"
      ]
    },
    {
      "cell_type": "code",
      "execution_count": null,
      "metadata": {
        "id": "FaeL6HViuF_k"
      },
      "outputs": [],
      "source": [
        "for i in \"Hello World\":\n",
        "   print(i, end=\"\")"
      ]
    },
    {
      "cell_type": "code",
      "execution_count": null,
      "metadata": {
        "id": "ufQ7Wdw8uKWB"
      },
      "outputs": [],
      "source": [
        "for i in [1, 2, 3, 4, 5]:\n",
        "   print(i)"
      ]
    },
    {
      "cell_type": "code",
      "execution_count": null,
      "metadata": {
        "id": "3hLLjZdauN3T"
      },
      "outputs": [],
      "source": [
        "for i in [1, \"Hello\", 3.14]:\n",
        "   print(i)"
      ]
    },
    {
      "cell_type": "markdown",
      "metadata": {
        "id": "hhrVb5mAuXrV"
      },
      "source": [
        "## Examples"
      ]
    },
    {
      "cell_type": "code",
      "execution_count": null,
      "metadata": {
        "id": "WPWYPurNuROv"
      },
      "outputs": [],
      "source": [
        "def fraction(x):\n",
        "   result = 0\n",
        "   for i in range(x):\n",
        "      result += 1/(i+1)\n",
        "   return result\n",
        "\n",
        "print(fraction(10))"
      ]
    },
    {
      "cell_type": "code",
      "execution_count": null,
      "metadata": {
        "id": "be1Y2hSHuTDe"
      },
      "outputs": [],
      "source": [
        "while(1):\n",
        "   x = int(input(\"Please enter a number (Exit with 0):\"))\n",
        "   \n",
        "   if(x == 0):\n",
        "      break\n",
        "   \n",
        "   print(\"1/{x} = {inv:2.5f}\".format(x=x, inv = 1 / x))"
      ]
    },
    {
      "cell_type": "code",
      "execution_count": null,
      "metadata": {
        "id": "1MiLph79uaLC"
      },
      "outputs": [],
      "source": [
        "def is_prime(n):\n",
        "   for i in range(2,int(n/2)):\n",
        "      if (n%i) == 0:\n",
        "         return False\n",
        "   return True\n",
        "\n",
        "print(is_prime(13))"
      ]
    },
    {
      "cell_type": "code",
      "execution_count": null,
      "metadata": {
        "id": "dvsTwnfjufd6"
      },
      "outputs": [],
      "source": [
        "start = 1000\n",
        "end = start + 20\n",
        "while (start <= end):\n",
        "    frac = 2\n",
        "    while(start >= frac * frac and start % frac !=0):\n",
        "        if(frac == 2):\n",
        "          frac = 3\n",
        "        else:\n",
        "          frac += 2\n",
        "        if(start < frac * frac):\n",
        "          print(start)\n",
        "        start += 2"
      ]
    },
    {
      "cell_type": "code",
      "execution_count": null,
      "metadata": {
        "id": "72xd7UTouknG"
      },
      "outputs": [],
      "source": []
    }
  ],
  "metadata": {
    "colab": {
      "authorship_tag": "ABX9TyN7s4OGVl+F9nWaEHnNcBF3",
      "include_colab_link": true,
      "provenance": []
    },
    "kernelspec": {
      "display_name": "Python 3.9.6 64-bit",
      "language": "python",
      "name": "python3"
    },
    "language_info": {
      "name": "python",
      "version": "3.9.6"
    },
    "vscode": {
      "interpreter": {
        "hash": "4cf03a2963743c57c72d8ba6632c2081b501cae1666301abc782d21392c9048f"
      }
    }
  },
  "nbformat": 4,
  "nbformat_minor": 0
}
