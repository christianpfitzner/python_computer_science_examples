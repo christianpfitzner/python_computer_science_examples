{
  "nbformat": 4,
  "nbformat_minor": 0,
  "metadata": {
    "colab": {
      "provenance": [],
      "authorship_tag": "ABX9TyN7s4OGVl+F9nWaEHnNcBF3",
      "include_colab_link": true
    },
    "kernelspec": {
      "name": "python3",
      "display_name": "Python 3"
    },
    "language_info": {
      "name": "python"
    }
  },
  "cells": [
    {
      "cell_type": "markdown",
      "metadata": {
        "id": "view-in-github",
        "colab_type": "text"
      },
      "source": [
        "<a href=\"https://colab.research.google.com/github/christianpfitzner/python_computer_science_examples/blob/master/06_Loops.ipynb\" target=\"_parent\"><img src=\"https://colab.research.google.com/assets/colab-badge.svg\" alt=\"Open In Colab\"/></a>"
      ]
    },
    {
      "cell_type": "markdown",
      "source": [
        "# Loops"
      ],
      "metadata": {
        "id": "aSG2t9P_s8AX"
      }
    },
    {
      "cell_type": "markdown",
      "source": [
        "## While Loop"
      ],
      "metadata": {
        "id": "xoP9oOEItCjo"
      }
    },
    {
      "cell_type": "code",
      "source": [
        "while(1):\n",
        "   print(\"Hello World\")"
      ],
      "metadata": {
        "id": "G9EpTxm5s3fG",
        "collapsed": true
      },
      "execution_count": null,
      "outputs": []
    },
    {
      "cell_type": "code",
      "source": [
        "i = 0\n",
        "while(i <= 10): \n",
        "   print(i)\n",
        "   i+=1 "
      ],
      "metadata": {
        "id": "OzOpZwkctAwM"
      },
      "execution_count": null,
      "outputs": []
    },
    {
      "cell_type": "code",
      "source": [
        "i = 0\n",
        "while(i <= 10): \n",
        "   print(i)\n",
        "   if(i == 4):\n",
        "      break\n",
        "   i+=1"
      ],
      "metadata": {
        "id": "nTUpwQIotPR6"
      },
      "execution_count": null,
      "outputs": []
    },
    {
      "cell_type": "code",
      "source": [
        "i = 0\n",
        "while(i <= 10):\n",
        "      print(i)\n",
        "      i+=1\n",
        "      if(i == 4):\n",
        "         continue"
      ],
      "metadata": {
        "id": "fpFVhpk6ta1Q"
      },
      "execution_count": null,
      "outputs": []
    },
    {
      "cell_type": "markdown",
      "source": [
        "## For Loop"
      ],
      "metadata": {
        "id": "7d7SY-4ctuGO"
      }
    },
    {
      "cell_type": "code",
      "source": [
        "for i in range(10):\n",
        "   print(i)"
      ],
      "metadata": {
        "id": "OHQu4ZhItvGW"
      },
      "execution_count": null,
      "outputs": []
    },
    {
      "cell_type": "code",
      "source": [
        "for i in range(0, 10, 2):\n",
        "   print(i)"
      ],
      "metadata": {
        "id": "XHQNcK1BtxPC"
      },
      "execution_count": null,
      "outputs": []
    },
    {
      "cell_type": "code",
      "source": [
        "x = range(0, 10, 2)\n",
        "for i in x:\n",
        "   print(i)"
      ],
      "metadata": {
        "id": "BgzX94ukt88R"
      },
      "execution_count": null,
      "outputs": []
    },
    {
      "cell_type": "code",
      "source": [
        "for i in \"Hello World\":\n",
        "   print(i)"
      ],
      "metadata": {
        "id": "JzrsQvHsuBSL"
      },
      "execution_count": null,
      "outputs": []
    },
    {
      "cell_type": "code",
      "source": [
        "for i in \"Hello World\":\n",
        "   print(i, end=\"\")"
      ],
      "metadata": {
        "id": "FaeL6HViuF_k"
      },
      "execution_count": null,
      "outputs": []
    },
    {
      "cell_type": "code",
      "source": [
        "for i in [1, 2, 3, 4, 5]:\n",
        "   print(i)"
      ],
      "metadata": {
        "id": "ufQ7Wdw8uKWB"
      },
      "execution_count": null,
      "outputs": []
    },
    {
      "cell_type": "code",
      "source": [
        "for i in [1, \"Hello\", 3.14]:\n",
        "   print(i)"
      ],
      "metadata": {
        "id": "3hLLjZdauN3T"
      },
      "execution_count": null,
      "outputs": []
    },
    {
      "cell_type": "markdown",
      "source": [
        "## Examples"
      ],
      "metadata": {
        "id": "hhrVb5mAuXrV"
      }
    },
    {
      "cell_type": "code",
      "source": [
        "def fraction(x):\n",
        "   result = 0\n",
        "   for i in range(x):\n",
        "      result += 1/(i+1)\n",
        "   return result\n",
        "\n",
        "print(fraction(10))"
      ],
      "metadata": {
        "id": "WPWYPurNuROv"
      },
      "execution_count": null,
      "outputs": []
    },
    {
      "cell_type": "code",
      "source": [
        "while(1):\n",
        "   x = int(input(\"Please enter a number (Exit with 0):\"))\n",
        "   \n",
        "   if(x == 0):\n",
        "      break\n",
        "   \n",
        "   print(\"1/{x} = {inv:2.5f}\".format(x=x, inv = 1 / x))"
      ],
      "metadata": {
        "id": "be1Y2hSHuTDe"
      },
      "execution_count": null,
      "outputs": []
    },
    {
      "cell_type": "code",
      "source": [
        "def is_prime(n):\n",
        "   for i in range(2,int(n/2)):\n",
        "      if (n%i) == 0:\n",
        "         return False\n",
        "   return True\n",
        "\n",
        "print(is_prime(13))"
      ],
      "metadata": {
        "id": "1MiLph79uaLC"
      },
      "execution_count": null,
      "outputs": []
    },
    {
      "cell_type": "code",
      "source": [
        "start = 1000\n",
        "end = start + 20\n",
        "while (start <= end):\n",
        "    frac = 2\n",
        "    while(start >= frac * frac and start % frac !=0):\n",
        "        if(frac == 2):\n",
        "          frac = 3\n",
        "        else:\n",
        "          frac += 2\n",
        "        if(start < frac * frac):\n",
        "          print(start)\n",
        "        start += 2"
      ],
      "metadata": {
        "id": "dvsTwnfjufd6"
      },
      "execution_count": null,
      "outputs": []
    },
    {
      "cell_type": "code",
      "source": [],
      "metadata": {
        "id": "72xd7UTouknG"
      },
      "execution_count": null,
      "outputs": []
    }
  ]
}