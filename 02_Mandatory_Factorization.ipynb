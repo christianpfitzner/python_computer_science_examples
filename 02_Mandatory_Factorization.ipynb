{
  "cells": [
    {
      "cell_type": "markdown",
      "metadata": {
        "id": "view-in-github",
        "colab_type": "text"
      },
      "source": [
        "<a href=\"https://colab.research.google.com/github/christianpfitzner/python_computer_science_examples/blob/master/02_Mandatory_Factorization.ipynb\" target=\"_parent\"><img src=\"https://colab.research.google.com/assets/colab-badge.svg\" alt=\"Open In Colab\"/></a>"
      ]
    },
    {
      "cell_type": "markdown",
      "metadata": {
        "id": "ZSCak3O3R5v7"
      },
      "source": [
        "# Madatory 2: Factorization\n"
      ]
    },
    {
      "cell_type": "markdown",
      "metadata": {
        "id": "uKUMiPdaR5wC"
      },
      "source": [
        "<br> </br>\n",
        "\n",
        "\n",
        "---\n",
        "\n",
        "## Requirements\n",
        "* Basic arithmetic opterations\n",
        "* Variables\n",
        "* If-else statements\n",
        "* Functions\n",
        "* Loops\n",
        "\n",
        "\n",
        "<br> </br>\n",
        "\n",
        "\n",
        "---\n",
        "\n",
        "## Description\n",
        "\n",
        "\n",
        "\n",
        "\n",
        "\n"
      ]
    },
    {
      "cell_type": "markdown",
      "metadata": {
        "id": "3RMnAgStR5wD"
      },
      "source": [
        "Every natural number $p$ > 1 can be represented by a finite factors $p_1, p_2, ...$, where the factors $p_i$ are [prime numbers](https://en.wikipedia.org/wiki/Prime_number) bigger than one.\n",
        "\n",
        "<br></br>\n",
        "Some examples:\n",
        "\\begin{align*}\n",
        "24 &= 2 \\cdot 2 \\cdot 2 \\cdot 3 \\\\\n",
        "7  &= 7 \\\\\n",
        "1018081 &= 1009 \\cdot  1009\n",
        "\\end{align*}\n",
        "<br></br>\n",
        "\n",
        "For this second mandatory exercise, we want to write a Python program, which does the [factorization](https://en.wikipedia.org/wiki/Integer_factorization).\n",
        "\n",
        "Think with pen and paper how you can acchieve factorization. First you start to look, if the number is dividable by 2, without a rest. If this is the case, then you try to divide it again by 2; if not, then you try to divide it by 3, and so on.  \n",
        "\n",
        "\n",
        "* Write a Python program which asks a user for a **natural number bigger than one**.\n",
        "* **Factorize** the given number and create a function `factorize(number)`\n",
        "* Provide the user with the **output of the factorization**.\n",
        "* You can use the `math` and the `sys` module if necessary."
      ]
    },
    {
      "cell_type": "markdown",
      "metadata": {
        "id": "ivhYd8GNR5wD"
      },
      "source": [
        "---\n",
        "\n",
        "## Grading Scheme\n",
        "\n",
        "You need 80 Percent of the points to pass this mandatory exercise. There are 100 points in total. The can receive credits for the following reasons:\n",
        "\n",
        "* **10 Points**: The program asks the user for a range of numbers and handles wrong inputs, e.g. negative numbers.\n",
        "* **20 Points**: You program iterates through the prime numbers for division.\n",
        "* **20 Points**: You use own defined functions.\n",
        "* **10 Points**: A user can forwards several trys, without starting the program again.\n",
        "* **10 Points**: The output of your program is formated nicely, as in the above examples.\n",
        "* **20 Points**: You program is logically structured and you used meaningfull variable names.\n",
        "* **10 Points**: You comment parts of your code.\n",
        "\n",
        "\n",
        "<br></br>\n",
        "**Please note:** You will fail in the following events:\n",
        "* Copying parts of the code from someone else\n",
        "* Submitting your solution late (the date will be announced in moodle).\n",
        "\n",
        "This means you are **not allowed to write the exam**, and therefore pass this class."
      ]
    },
    {
      "cell_type": "markdown",
      "metadata": {
        "id": "at1tcfWdR5wE"
      },
      "source": [
        "<br> </br>\n",
        "\n",
        "\n",
        "---\n",
        "\n",
        "\n",
        "## Your Solution"
      ]
    },
    {
      "cell_type": "code",
      "source": [
        "# your solution\n",
        "#\n",
        "#\n",
        "#\n",
        "#\n",
        "#\n",
        "#\n",
        "#\n",
        "#\n",
        "#\n"
      ],
      "metadata": {
        "id": "3PKBdA9lXI81"
      },
      "execution_count": null,
      "outputs": []
    }
  ],
  "metadata": {
    "kernelspec": {
      "display_name": "Python 3.9.6 64-bit",
      "language": "python",
      "name": "python3"
    },
    "language_info": {
      "codemirror_mode": {
        "name": "ipython",
        "version": 3
      },
      "file_extension": ".py",
      "mimetype": "text/x-python",
      "name": "python",
      "nbconvert_exporter": "python",
      "pygments_lexer": "ipython3",
      "version": "3.9.6"
    },
    "orig_nbformat": 4,
    "vscode": {
      "interpreter": {
        "hash": "4cf03a2963743c57c72d8ba6632c2081b501cae1666301abc782d21392c9048f"
      }
    },
    "colab": {
      "provenance": [],
      "include_colab_link": true
    }
  },
  "nbformat": 4,
  "nbformat_minor": 0
}